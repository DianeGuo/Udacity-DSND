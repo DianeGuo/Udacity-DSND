{
 "cells": [
  {
   "cell_type": "markdown",
   "metadata": {},
   "source": [
    "# Project: Identify Customer Segments\n",
    "\n",
    "In this project, you will apply unsupervised learning techniques to identify segments of the population that form the core customer base for a mail-order sales company in Germany. These segments can then be used to direct marketing campaigns towards audiences that will have the highest expected rate of returns. The data that you will use has been provided by our partners at Bertelsmann Arvato Analytics, and represents a real-life data science task.\n",
    "\n",
    "This notebook will help you complete this task by providing a framework within which you will perform your analysis steps. In each step of the project, you will see some text describing the subtask that you will perform, followed by one or more code cells for you to complete your work. **Feel free to add additional code and markdown cells as you go along so that you can explore everything in precise chunks.** The code cells provided in the base template will outline only the major tasks, and will usually not be enough to cover all of the minor tasks that comprise it.\n",
    "\n",
    "It should be noted that while there will be precise guidelines on how you should handle certain tasks in the project, there will also be places where an exact specification is not provided. **There will be times in the project where you will need to make and justify your own decisions on how to treat the data.** These are places where there may not be only one way to handle the data. In real-life tasks, there may be many valid ways to approach an analysis task. One of the most important things you can do is clearly document your approach so that other scientists can understand the decisions you've made.\n",
    "\n",
    "At the end of most sections, there will be a Markdown cell labeled **Discussion**. In these cells, you will report your findings for the completed section, as well as document the decisions that you made in your approach to each subtask. **Your project will be evaluated not just on the code used to complete the tasks outlined, but also your communication about your observations and conclusions at each stage.**"
   ]
  },
  {
   "cell_type": "code",
   "execution_count": 2,
   "metadata": {},
   "outputs": [],
   "source": [
    "# import libraries here; add more as necessary\n",
    "import numpy as np\n",
    "import pandas as pd\n",
    "import matplotlib.pyplot as plt\n",
    "import seaborn as sns\n",
    "\n",
    "# magic word for producing visualizations in notebook\n",
    "%matplotlib inline"
   ]
  },
  {
   "cell_type": "markdown",
   "metadata": {},
   "source": [
    "### Step 0: Load the Data\n",
    "\n",
    "There are four files associated with this project (not including this one):\n",
    "\n",
    "- `Udacity_AZDIAS_Subset.csv`: Demographics data for the general population of Germany; 891211 persons (rows) x 85 features (columns).\n",
    "- `Udacity_CUSTOMERS_Subset.csv`: Demographics data for customers of a mail-order company; 191652 persons (rows) x 85 features (columns).\n",
    "- `Data_Dictionary.md`: Detailed information file about the features in the provided datasets.\n",
    "- `AZDIAS_Feature_Summary.csv`: Summary of feature attributes for demographics data; 85 features (rows) x 4 columns\n",
    "\n",
    "Each row of the demographics files represents a single person, but also includes information outside of individuals, including information about their household, building, and neighborhood. You will use this information to cluster the general population into groups with similar demographic properties. Then, you will see how the people in the customers dataset fit into those created clusters. The hope here is that certain clusters are over-represented in the customers data, as compared to the general population; those over-represented clusters will be assumed to be part of the core userbase. This information can then be used for further applications, such as targeting for a marketing campaign.\n",
    "\n",
    "To start off with, load in the demographics data for the general population into a pandas DataFrame, and do the same for the feature attributes summary. Note for all of the `.csv` data files in this project: they're semicolon (`;`) delimited, so you'll need an additional argument in your [`read_csv()`](https://pandas.pydata.org/pandas-docs/stable/generated/pandas.read_csv.html) call to read in the data properly. Also, considering the size of the main dataset, it may take some time for it to load completely.\n",
    "\n",
    "Once the dataset is loaded, it's recommended that you take a little bit of time just browsing the general structure of the dataset and feature summary file. You'll be getting deep into the innards of the cleaning in the first major step of the project, so gaining some general familiarity can help you get your bearings."
   ]
  },
  {
   "cell_type": "code",
   "execution_count": 3,
   "metadata": {},
   "outputs": [],
   "source": [
    "# Load in the general demographics data.\n",
    "azdias = pd.read_csv('Udacity_AZDIAS_Subset.csv',sep = ';')\n",
    "\n",
    "# Load in the feature summary file.\n",
    "feat_info = pd.read_csv('AZDIAS_Feature_Summary.csv',sep = ';')"
   ]
  },
  {
   "cell_type": "code",
   "execution_count": 240,
   "metadata": {
    "scrolled": true
   },
   "outputs": [
    {
     "data": {
      "text/html": [
       "<div>\n",
       "<style scoped>\n",
       "    .dataframe tbody tr th:only-of-type {\n",
       "        vertical-align: middle;\n",
       "    }\n",
       "\n",
       "    .dataframe tbody tr th {\n",
       "        vertical-align: top;\n",
       "    }\n",
       "\n",
       "    .dataframe thead th {\n",
       "        text-align: right;\n",
       "    }\n",
       "</style>\n",
       "<table border=\"1\" class=\"dataframe\">\n",
       "  <thead>\n",
       "    <tr style=\"text-align: right;\">\n",
       "      <th></th>\n",
       "      <th>ALTERSKATEGORIE_GROB</th>\n",
       "      <th>ANREDE_KZ</th>\n",
       "      <th>CJT_GESAMTTYP</th>\n",
       "      <th>FINANZ_MINIMALIST</th>\n",
       "      <th>FINANZ_SPARER</th>\n",
       "      <th>FINANZ_VORSORGER</th>\n",
       "      <th>FINANZ_ANLEGER</th>\n",
       "      <th>FINANZ_UNAUFFAELLIGER</th>\n",
       "      <th>FINANZ_HAUSBAUER</th>\n",
       "      <th>FINANZTYP</th>\n",
       "      <th>...</th>\n",
       "      <th>PLZ8_ANTG1</th>\n",
       "      <th>PLZ8_ANTG2</th>\n",
       "      <th>PLZ8_ANTG3</th>\n",
       "      <th>PLZ8_ANTG4</th>\n",
       "      <th>PLZ8_BAUMAX</th>\n",
       "      <th>PLZ8_HHZ</th>\n",
       "      <th>PLZ8_GBZ</th>\n",
       "      <th>ARBEIT</th>\n",
       "      <th>ORTSGR_KLS9</th>\n",
       "      <th>RELAT_AB</th>\n",
       "    </tr>\n",
       "  </thead>\n",
       "  <tbody>\n",
       "    <tr>\n",
       "      <th>0</th>\n",
       "      <td>2.0</td>\n",
       "      <td>1</td>\n",
       "      <td>2.0</td>\n",
       "      <td>3</td>\n",
       "      <td>4</td>\n",
       "      <td>3</td>\n",
       "      <td>5</td>\n",
       "      <td>5</td>\n",
       "      <td>3</td>\n",
       "      <td>4</td>\n",
       "      <td>...</td>\n",
       "      <td>NaN</td>\n",
       "      <td>NaN</td>\n",
       "      <td>NaN</td>\n",
       "      <td>NaN</td>\n",
       "      <td>NaN</td>\n",
       "      <td>NaN</td>\n",
       "      <td>NaN</td>\n",
       "      <td>NaN</td>\n",
       "      <td>NaN</td>\n",
       "      <td>NaN</td>\n",
       "    </tr>\n",
       "    <tr>\n",
       "      <th>1</th>\n",
       "      <td>1.0</td>\n",
       "      <td>2</td>\n",
       "      <td>5.0</td>\n",
       "      <td>1</td>\n",
       "      <td>5</td>\n",
       "      <td>2</td>\n",
       "      <td>5</td>\n",
       "      <td>4</td>\n",
       "      <td>5</td>\n",
       "      <td>1</td>\n",
       "      <td>...</td>\n",
       "      <td>2.0</td>\n",
       "      <td>3.0</td>\n",
       "      <td>2.0</td>\n",
       "      <td>1.0</td>\n",
       "      <td>1.0</td>\n",
       "      <td>5.0</td>\n",
       "      <td>4.0</td>\n",
       "      <td>3.0</td>\n",
       "      <td>5.0</td>\n",
       "      <td>4.0</td>\n",
       "    </tr>\n",
       "    <tr>\n",
       "      <th>2</th>\n",
       "      <td>3.0</td>\n",
       "      <td>2</td>\n",
       "      <td>3.0</td>\n",
       "      <td>1</td>\n",
       "      <td>4</td>\n",
       "      <td>1</td>\n",
       "      <td>2</td>\n",
       "      <td>3</td>\n",
       "      <td>5</td>\n",
       "      <td>1</td>\n",
       "      <td>...</td>\n",
       "      <td>3.0</td>\n",
       "      <td>3.0</td>\n",
       "      <td>1.0</td>\n",
       "      <td>0.0</td>\n",
       "      <td>1.0</td>\n",
       "      <td>4.0</td>\n",
       "      <td>4.0</td>\n",
       "      <td>3.0</td>\n",
       "      <td>5.0</td>\n",
       "      <td>2.0</td>\n",
       "    </tr>\n",
       "    <tr>\n",
       "      <th>3</th>\n",
       "      <td>4.0</td>\n",
       "      <td>2</td>\n",
       "      <td>2.0</td>\n",
       "      <td>4</td>\n",
       "      <td>2</td>\n",
       "      <td>5</td>\n",
       "      <td>2</td>\n",
       "      <td>1</td>\n",
       "      <td>2</td>\n",
       "      <td>6</td>\n",
       "      <td>...</td>\n",
       "      <td>2.0</td>\n",
       "      <td>2.0</td>\n",
       "      <td>2.0</td>\n",
       "      <td>0.0</td>\n",
       "      <td>1.0</td>\n",
       "      <td>3.0</td>\n",
       "      <td>4.0</td>\n",
       "      <td>2.0</td>\n",
       "      <td>3.0</td>\n",
       "      <td>3.0</td>\n",
       "    </tr>\n",
       "    <tr>\n",
       "      <th>4</th>\n",
       "      <td>3.0</td>\n",
       "      <td>1</td>\n",
       "      <td>5.0</td>\n",
       "      <td>4</td>\n",
       "      <td>3</td>\n",
       "      <td>4</td>\n",
       "      <td>1</td>\n",
       "      <td>3</td>\n",
       "      <td>2</td>\n",
       "      <td>5</td>\n",
       "      <td>...</td>\n",
       "      <td>2.0</td>\n",
       "      <td>4.0</td>\n",
       "      <td>2.0</td>\n",
       "      <td>1.0</td>\n",
       "      <td>2.0</td>\n",
       "      <td>3.0</td>\n",
       "      <td>3.0</td>\n",
       "      <td>4.0</td>\n",
       "      <td>6.0</td>\n",
       "      <td>5.0</td>\n",
       "    </tr>\n",
       "  </tbody>\n",
       "</table>\n",
       "<p>5 rows × 79 columns</p>\n",
       "</div>"
      ],
      "text/plain": [
       "   ALTERSKATEGORIE_GROB  ANREDE_KZ  CJT_GESAMTTYP  FINANZ_MINIMALIST  \\\n",
       "0                   2.0          1            2.0                  3   \n",
       "1                   1.0          2            5.0                  1   \n",
       "2                   3.0          2            3.0                  1   \n",
       "3                   4.0          2            2.0                  4   \n",
       "4                   3.0          1            5.0                  4   \n",
       "\n",
       "   FINANZ_SPARER  FINANZ_VORSORGER  FINANZ_ANLEGER  FINANZ_UNAUFFAELLIGER  \\\n",
       "0              4                 3               5                      5   \n",
       "1              5                 2               5                      4   \n",
       "2              4                 1               2                      3   \n",
       "3              2                 5               2                      1   \n",
       "4              3                 4               1                      3   \n",
       "\n",
       "   FINANZ_HAUSBAUER  FINANZTYP    ...     PLZ8_ANTG1  PLZ8_ANTG2  PLZ8_ANTG3  \\\n",
       "0                 3          4    ...            NaN         NaN         NaN   \n",
       "1                 5          1    ...            2.0         3.0         2.0   \n",
       "2                 5          1    ...            3.0         3.0         1.0   \n",
       "3                 2          6    ...            2.0         2.0         2.0   \n",
       "4                 2          5    ...            2.0         4.0         2.0   \n",
       "\n",
       "   PLZ8_ANTG4  PLZ8_BAUMAX  PLZ8_HHZ  PLZ8_GBZ  ARBEIT  ORTSGR_KLS9  RELAT_AB  \n",
       "0         NaN          NaN       NaN       NaN     NaN          NaN       NaN  \n",
       "1         1.0          1.0       5.0       4.0     3.0          5.0       4.0  \n",
       "2         0.0          1.0       4.0       4.0     3.0          5.0       2.0  \n",
       "3         0.0          1.0       3.0       4.0     2.0          3.0       3.0  \n",
       "4         1.0          2.0       3.0       3.0     4.0          6.0       5.0  \n",
       "\n",
       "[5 rows x 79 columns]"
      ]
     },
     "execution_count": 240,
     "metadata": {},
     "output_type": "execute_result"
    }
   ],
   "source": [
    "# Check the structure of the data after it's loaded (e.g. print the number of\n",
    "# rows and columns, print the first few rows).\n",
    "\n",
    "azdias.head()"
   ]
  },
  {
   "cell_type": "code",
   "execution_count": 5,
   "metadata": {},
   "outputs": [
    {
     "data": {
      "text/plain": [
       "(891221, 85)"
      ]
     },
     "execution_count": 5,
     "metadata": {},
     "output_type": "execute_result"
    }
   ],
   "source": [
    "azdias.shape"
   ]
  },
  {
   "cell_type": "code",
   "execution_count": 6,
   "metadata": {
    "scrolled": true
   },
   "outputs": [
    {
     "name": "stdout",
     "output_type": "stream",
     "text": [
      "<class 'pandas.core.frame.DataFrame'>\n",
      "RangeIndex: 891221 entries, 0 to 891220\n",
      "Data columns (total 85 columns):\n",
      "AGER_TYP                 891221 non-null int64\n",
      "ALTERSKATEGORIE_GROB     891221 non-null int64\n",
      "ANREDE_KZ                891221 non-null int64\n",
      "CJT_GESAMTTYP            886367 non-null float64\n",
      "FINANZ_MINIMALIST        891221 non-null int64\n",
      "FINANZ_SPARER            891221 non-null int64\n",
      "FINANZ_VORSORGER         891221 non-null int64\n",
      "FINANZ_ANLEGER           891221 non-null int64\n",
      "FINANZ_UNAUFFAELLIGER    891221 non-null int64\n",
      "FINANZ_HAUSBAUER         891221 non-null int64\n",
      "FINANZTYP                891221 non-null int64\n",
      "GEBURTSJAHR              891221 non-null int64\n",
      "GFK_URLAUBERTYP          886367 non-null float64\n",
      "GREEN_AVANTGARDE         891221 non-null int64\n",
      "HEALTH_TYP               891221 non-null int64\n",
      "LP_LEBENSPHASE_FEIN      886367 non-null float64\n",
      "LP_LEBENSPHASE_GROB      886367 non-null float64\n",
      "LP_FAMILIE_FEIN          886367 non-null float64\n",
      "LP_FAMILIE_GROB          886367 non-null float64\n",
      "LP_STATUS_FEIN           886367 non-null float64\n",
      "LP_STATUS_GROB           886367 non-null float64\n",
      "NATIONALITAET_KZ         891221 non-null int64\n",
      "PRAEGENDE_JUGENDJAHRE    891221 non-null int64\n",
      "RETOURTYP_BK_S           886367 non-null float64\n",
      "SEMIO_SOZ                891221 non-null int64\n",
      "SEMIO_FAM                891221 non-null int64\n",
      "SEMIO_REL                891221 non-null int64\n",
      "SEMIO_MAT                891221 non-null int64\n",
      "SEMIO_VERT               891221 non-null int64\n",
      "SEMIO_LUST               891221 non-null int64\n",
      "SEMIO_ERL                891221 non-null int64\n",
      "SEMIO_KULT               891221 non-null int64\n",
      "SEMIO_RAT                891221 non-null int64\n",
      "SEMIO_KRIT               891221 non-null int64\n",
      "SEMIO_DOM                891221 non-null int64\n",
      "SEMIO_KAEM               891221 non-null int64\n",
      "SEMIO_PFLICHT            891221 non-null int64\n",
      "SEMIO_TRADV              891221 non-null int64\n",
      "SHOPPER_TYP              891221 non-null int64\n",
      "SOHO_KZ                  817722 non-null float64\n",
      "TITEL_KZ                 817722 non-null float64\n",
      "VERS_TYP                 891221 non-null int64\n",
      "ZABEOTYP                 891221 non-null int64\n",
      "ALTER_HH                 817722 non-null float64\n",
      "ANZ_PERSONEN             817722 non-null float64\n",
      "ANZ_TITEL                817722 non-null float64\n",
      "HH_EINKOMMEN_SCORE       872873 non-null float64\n",
      "KK_KUNDENTYP             306609 non-null float64\n",
      "W_KEIT_KIND_HH           783619 non-null float64\n",
      "WOHNDAUER_2008           817722 non-null float64\n",
      "ANZ_HAUSHALTE_AKTIV      798073 non-null float64\n",
      "ANZ_HH_TITEL             794213 non-null float64\n",
      "GEBAEUDETYP              798073 non-null float64\n",
      "KONSUMNAEHE              817252 non-null float64\n",
      "MIN_GEBAEUDEJAHR         798073 non-null float64\n",
      "OST_WEST_KZ              798073 non-null object\n",
      "WOHNLAGE                 798073 non-null float64\n",
      "CAMEO_DEUG_2015          792242 non-null object\n",
      "CAMEO_DEU_2015           792242 non-null object\n",
      "CAMEO_INTL_2015          792242 non-null object\n",
      "KBA05_ANTG1              757897 non-null float64\n",
      "KBA05_ANTG2              757897 non-null float64\n",
      "KBA05_ANTG3              757897 non-null float64\n",
      "KBA05_ANTG4              757897 non-null float64\n",
      "KBA05_BAUMAX             757897 non-null float64\n",
      "KBA05_GBZ                757897 non-null float64\n",
      "BALLRAUM                 797481 non-null float64\n",
      "EWDICHTE                 797481 non-null float64\n",
      "INNENSTADT               797481 non-null float64\n",
      "GEBAEUDETYP_RASTER       798066 non-null float64\n",
      "KKK                      770025 non-null float64\n",
      "MOBI_REGIO               757897 non-null float64\n",
      "ONLINE_AFFINITAET        886367 non-null float64\n",
      "REGIOTYP                 770025 non-null float64\n",
      "KBA13_ANZAHL_PKW         785421 non-null float64\n",
      "PLZ8_ANTG1               774706 non-null float64\n",
      "PLZ8_ANTG2               774706 non-null float64\n",
      "PLZ8_ANTG3               774706 non-null float64\n",
      "PLZ8_ANTG4               774706 non-null float64\n",
      "PLZ8_BAUMAX              774706 non-null float64\n",
      "PLZ8_HHZ                 774706 non-null float64\n",
      "PLZ8_GBZ                 774706 non-null float64\n",
      "ARBEIT                   794005 non-null float64\n",
      "ORTSGR_KLS9              794005 non-null float64\n",
      "RELAT_AB                 794005 non-null float64\n",
      "dtypes: float64(49), int64(32), object(4)\n",
      "memory usage: 578.0+ MB\n"
     ]
    }
   ],
   "source": [
    "azdias.info()"
   ]
  },
  {
   "cell_type": "code",
   "execution_count": 7,
   "metadata": {},
   "outputs": [
    {
     "data": {
      "text/html": [
       "<div>\n",
       "<style scoped>\n",
       "    .dataframe tbody tr th:only-of-type {\n",
       "        vertical-align: middle;\n",
       "    }\n",
       "\n",
       "    .dataframe tbody tr th {\n",
       "        vertical-align: top;\n",
       "    }\n",
       "\n",
       "    .dataframe thead th {\n",
       "        text-align: right;\n",
       "    }\n",
       "</style>\n",
       "<table border=\"1\" class=\"dataframe\">\n",
       "  <thead>\n",
       "    <tr style=\"text-align: right;\">\n",
       "      <th></th>\n",
       "      <th>AGER_TYP</th>\n",
       "      <th>ALTERSKATEGORIE_GROB</th>\n",
       "      <th>ANREDE_KZ</th>\n",
       "      <th>CJT_GESAMTTYP</th>\n",
       "      <th>FINANZ_MINIMALIST</th>\n",
       "      <th>FINANZ_SPARER</th>\n",
       "      <th>FINANZ_VORSORGER</th>\n",
       "      <th>FINANZ_ANLEGER</th>\n",
       "      <th>FINANZ_UNAUFFAELLIGER</th>\n",
       "      <th>FINANZ_HAUSBAUER</th>\n",
       "      <th>...</th>\n",
       "      <th>PLZ8_ANTG1</th>\n",
       "      <th>PLZ8_ANTG2</th>\n",
       "      <th>PLZ8_ANTG3</th>\n",
       "      <th>PLZ8_ANTG4</th>\n",
       "      <th>PLZ8_BAUMAX</th>\n",
       "      <th>PLZ8_HHZ</th>\n",
       "      <th>PLZ8_GBZ</th>\n",
       "      <th>ARBEIT</th>\n",
       "      <th>ORTSGR_KLS9</th>\n",
       "      <th>RELAT_AB</th>\n",
       "    </tr>\n",
       "  </thead>\n",
       "  <tbody>\n",
       "    <tr>\n",
       "      <th>count</th>\n",
       "      <td>891221.000000</td>\n",
       "      <td>891221.000000</td>\n",
       "      <td>891221.000000</td>\n",
       "      <td>886367.000000</td>\n",
       "      <td>891221.000000</td>\n",
       "      <td>891221.000000</td>\n",
       "      <td>891221.000000</td>\n",
       "      <td>891221.000000</td>\n",
       "      <td>891221.000000</td>\n",
       "      <td>891221.000000</td>\n",
       "      <td>...</td>\n",
       "      <td>774706.000000</td>\n",
       "      <td>774706.000000</td>\n",
       "      <td>774706.000000</td>\n",
       "      <td>774706.000000</td>\n",
       "      <td>774706.000000</td>\n",
       "      <td>774706.000000</td>\n",
       "      <td>774706.000000</td>\n",
       "      <td>794005.000000</td>\n",
       "      <td>794005.000000</td>\n",
       "      <td>794005.00000</td>\n",
       "    </tr>\n",
       "    <tr>\n",
       "      <th>mean</th>\n",
       "      <td>-0.358435</td>\n",
       "      <td>2.777398</td>\n",
       "      <td>1.522098</td>\n",
       "      <td>3.632838</td>\n",
       "      <td>3.074528</td>\n",
       "      <td>2.821039</td>\n",
       "      <td>3.401106</td>\n",
       "      <td>3.033328</td>\n",
       "      <td>2.874167</td>\n",
       "      <td>3.075121</td>\n",
       "      <td>...</td>\n",
       "      <td>2.253330</td>\n",
       "      <td>2.801858</td>\n",
       "      <td>1.595426</td>\n",
       "      <td>0.699166</td>\n",
       "      <td>1.943913</td>\n",
       "      <td>3.612821</td>\n",
       "      <td>3.381087</td>\n",
       "      <td>3.167854</td>\n",
       "      <td>5.293002</td>\n",
       "      <td>3.07222</td>\n",
       "    </tr>\n",
       "    <tr>\n",
       "      <th>std</th>\n",
       "      <td>1.198724</td>\n",
       "      <td>1.068775</td>\n",
       "      <td>0.499512</td>\n",
       "      <td>1.595021</td>\n",
       "      <td>1.321055</td>\n",
       "      <td>1.464749</td>\n",
       "      <td>1.322134</td>\n",
       "      <td>1.529603</td>\n",
       "      <td>1.486731</td>\n",
       "      <td>1.353248</td>\n",
       "      <td>...</td>\n",
       "      <td>0.972008</td>\n",
       "      <td>0.920309</td>\n",
       "      <td>0.986736</td>\n",
       "      <td>0.727137</td>\n",
       "      <td>1.459654</td>\n",
       "      <td>0.973967</td>\n",
       "      <td>1.111598</td>\n",
       "      <td>1.002376</td>\n",
       "      <td>2.303739</td>\n",
       "      <td>1.36298</td>\n",
       "    </tr>\n",
       "    <tr>\n",
       "      <th>min</th>\n",
       "      <td>-1.000000</td>\n",
       "      <td>1.000000</td>\n",
       "      <td>1.000000</td>\n",
       "      <td>1.000000</td>\n",
       "      <td>1.000000</td>\n",
       "      <td>1.000000</td>\n",
       "      <td>1.000000</td>\n",
       "      <td>1.000000</td>\n",
       "      <td>1.000000</td>\n",
       "      <td>1.000000</td>\n",
       "      <td>...</td>\n",
       "      <td>0.000000</td>\n",
       "      <td>0.000000</td>\n",
       "      <td>0.000000</td>\n",
       "      <td>0.000000</td>\n",
       "      <td>1.000000</td>\n",
       "      <td>1.000000</td>\n",
       "      <td>1.000000</td>\n",
       "      <td>1.000000</td>\n",
       "      <td>0.000000</td>\n",
       "      <td>1.00000</td>\n",
       "    </tr>\n",
       "    <tr>\n",
       "      <th>25%</th>\n",
       "      <td>-1.000000</td>\n",
       "      <td>2.000000</td>\n",
       "      <td>1.000000</td>\n",
       "      <td>2.000000</td>\n",
       "      <td>2.000000</td>\n",
       "      <td>1.000000</td>\n",
       "      <td>3.000000</td>\n",
       "      <td>2.000000</td>\n",
       "      <td>2.000000</td>\n",
       "      <td>2.000000</td>\n",
       "      <td>...</td>\n",
       "      <td>1.000000</td>\n",
       "      <td>2.000000</td>\n",
       "      <td>1.000000</td>\n",
       "      <td>0.000000</td>\n",
       "      <td>1.000000</td>\n",
       "      <td>3.000000</td>\n",
       "      <td>3.000000</td>\n",
       "      <td>3.000000</td>\n",
       "      <td>4.000000</td>\n",
       "      <td>2.00000</td>\n",
       "    </tr>\n",
       "    <tr>\n",
       "      <th>50%</th>\n",
       "      <td>-1.000000</td>\n",
       "      <td>3.000000</td>\n",
       "      <td>2.000000</td>\n",
       "      <td>4.000000</td>\n",
       "      <td>3.000000</td>\n",
       "      <td>3.000000</td>\n",
       "      <td>3.000000</td>\n",
       "      <td>3.000000</td>\n",
       "      <td>3.000000</td>\n",
       "      <td>3.000000</td>\n",
       "      <td>...</td>\n",
       "      <td>2.000000</td>\n",
       "      <td>3.000000</td>\n",
       "      <td>2.000000</td>\n",
       "      <td>1.000000</td>\n",
       "      <td>1.000000</td>\n",
       "      <td>4.000000</td>\n",
       "      <td>3.000000</td>\n",
       "      <td>3.000000</td>\n",
       "      <td>5.000000</td>\n",
       "      <td>3.00000</td>\n",
       "    </tr>\n",
       "    <tr>\n",
       "      <th>75%</th>\n",
       "      <td>-1.000000</td>\n",
       "      <td>4.000000</td>\n",
       "      <td>2.000000</td>\n",
       "      <td>5.000000</td>\n",
       "      <td>4.000000</td>\n",
       "      <td>4.000000</td>\n",
       "      <td>5.000000</td>\n",
       "      <td>5.000000</td>\n",
       "      <td>4.000000</td>\n",
       "      <td>4.000000</td>\n",
       "      <td>...</td>\n",
       "      <td>3.000000</td>\n",
       "      <td>3.000000</td>\n",
       "      <td>2.000000</td>\n",
       "      <td>1.000000</td>\n",
       "      <td>3.000000</td>\n",
       "      <td>4.000000</td>\n",
       "      <td>4.000000</td>\n",
       "      <td>4.000000</td>\n",
       "      <td>7.000000</td>\n",
       "      <td>4.00000</td>\n",
       "    </tr>\n",
       "    <tr>\n",
       "      <th>max</th>\n",
       "      <td>3.000000</td>\n",
       "      <td>9.000000</td>\n",
       "      <td>2.000000</td>\n",
       "      <td>6.000000</td>\n",
       "      <td>5.000000</td>\n",
       "      <td>5.000000</td>\n",
       "      <td>5.000000</td>\n",
       "      <td>5.000000</td>\n",
       "      <td>5.000000</td>\n",
       "      <td>5.000000</td>\n",
       "      <td>...</td>\n",
       "      <td>4.000000</td>\n",
       "      <td>4.000000</td>\n",
       "      <td>3.000000</td>\n",
       "      <td>2.000000</td>\n",
       "      <td>5.000000</td>\n",
       "      <td>5.000000</td>\n",
       "      <td>5.000000</td>\n",
       "      <td>9.000000</td>\n",
       "      <td>9.000000</td>\n",
       "      <td>9.00000</td>\n",
       "    </tr>\n",
       "  </tbody>\n",
       "</table>\n",
       "<p>8 rows × 81 columns</p>\n",
       "</div>"
      ],
      "text/plain": [
       "            AGER_TYP  ALTERSKATEGORIE_GROB      ANREDE_KZ  CJT_GESAMTTYP  \\\n",
       "count  891221.000000         891221.000000  891221.000000  886367.000000   \n",
       "mean       -0.358435              2.777398       1.522098       3.632838   \n",
       "std         1.198724              1.068775       0.499512       1.595021   \n",
       "min        -1.000000              1.000000       1.000000       1.000000   \n",
       "25%        -1.000000              2.000000       1.000000       2.000000   \n",
       "50%        -1.000000              3.000000       2.000000       4.000000   \n",
       "75%        -1.000000              4.000000       2.000000       5.000000   \n",
       "max         3.000000              9.000000       2.000000       6.000000   \n",
       "\n",
       "       FINANZ_MINIMALIST  FINANZ_SPARER  FINANZ_VORSORGER  FINANZ_ANLEGER  \\\n",
       "count      891221.000000  891221.000000     891221.000000   891221.000000   \n",
       "mean            3.074528       2.821039          3.401106        3.033328   \n",
       "std             1.321055       1.464749          1.322134        1.529603   \n",
       "min             1.000000       1.000000          1.000000        1.000000   \n",
       "25%             2.000000       1.000000          3.000000        2.000000   \n",
       "50%             3.000000       3.000000          3.000000        3.000000   \n",
       "75%             4.000000       4.000000          5.000000        5.000000   \n",
       "max             5.000000       5.000000          5.000000        5.000000   \n",
       "\n",
       "       FINANZ_UNAUFFAELLIGER  FINANZ_HAUSBAUER      ...          PLZ8_ANTG1  \\\n",
       "count          891221.000000     891221.000000      ...       774706.000000   \n",
       "mean                2.874167          3.075121      ...            2.253330   \n",
       "std                 1.486731          1.353248      ...            0.972008   \n",
       "min                 1.000000          1.000000      ...            0.000000   \n",
       "25%                 2.000000          2.000000      ...            1.000000   \n",
       "50%                 3.000000          3.000000      ...            2.000000   \n",
       "75%                 4.000000          4.000000      ...            3.000000   \n",
       "max                 5.000000          5.000000      ...            4.000000   \n",
       "\n",
       "          PLZ8_ANTG2     PLZ8_ANTG3     PLZ8_ANTG4    PLZ8_BAUMAX  \\\n",
       "count  774706.000000  774706.000000  774706.000000  774706.000000   \n",
       "mean        2.801858       1.595426       0.699166       1.943913   \n",
       "std         0.920309       0.986736       0.727137       1.459654   \n",
       "min         0.000000       0.000000       0.000000       1.000000   \n",
       "25%         2.000000       1.000000       0.000000       1.000000   \n",
       "50%         3.000000       2.000000       1.000000       1.000000   \n",
       "75%         3.000000       2.000000       1.000000       3.000000   \n",
       "max         4.000000       3.000000       2.000000       5.000000   \n",
       "\n",
       "            PLZ8_HHZ       PLZ8_GBZ         ARBEIT    ORTSGR_KLS9  \\\n",
       "count  774706.000000  774706.000000  794005.000000  794005.000000   \n",
       "mean        3.612821       3.381087       3.167854       5.293002   \n",
       "std         0.973967       1.111598       1.002376       2.303739   \n",
       "min         1.000000       1.000000       1.000000       0.000000   \n",
       "25%         3.000000       3.000000       3.000000       4.000000   \n",
       "50%         4.000000       3.000000       3.000000       5.000000   \n",
       "75%         4.000000       4.000000       4.000000       7.000000   \n",
       "max         5.000000       5.000000       9.000000       9.000000   \n",
       "\n",
       "           RELAT_AB  \n",
       "count  794005.00000  \n",
       "mean        3.07222  \n",
       "std         1.36298  \n",
       "min         1.00000  \n",
       "25%         2.00000  \n",
       "50%         3.00000  \n",
       "75%         4.00000  \n",
       "max         9.00000  \n",
       "\n",
       "[8 rows x 81 columns]"
      ]
     },
     "execution_count": 7,
     "metadata": {},
     "output_type": "execute_result"
    }
   ],
   "source": [
    "azdias.describe()"
   ]
  },
  {
   "cell_type": "code",
   "execution_count": 8,
   "metadata": {
    "scrolled": true
   },
   "outputs": [
    {
     "data": {
      "text/plain": [
       "(85, 4)"
      ]
     },
     "execution_count": 8,
     "metadata": {},
     "output_type": "execute_result"
    }
   ],
   "source": [
    "feat_info.shape"
   ]
  },
  {
   "cell_type": "code",
   "execution_count": 9,
   "metadata": {},
   "outputs": [
    {
     "data": {
      "text/html": [
       "<div>\n",
       "<style scoped>\n",
       "    .dataframe tbody tr th:only-of-type {\n",
       "        vertical-align: middle;\n",
       "    }\n",
       "\n",
       "    .dataframe tbody tr th {\n",
       "        vertical-align: top;\n",
       "    }\n",
       "\n",
       "    .dataframe thead th {\n",
       "        text-align: right;\n",
       "    }\n",
       "</style>\n",
       "<table border=\"1\" class=\"dataframe\">\n",
       "  <thead>\n",
       "    <tr style=\"text-align: right;\">\n",
       "      <th></th>\n",
       "      <th>attribute</th>\n",
       "      <th>information_level</th>\n",
       "      <th>type</th>\n",
       "      <th>missing_or_unknown</th>\n",
       "    </tr>\n",
       "  </thead>\n",
       "  <tbody>\n",
       "    <tr>\n",
       "      <th>0</th>\n",
       "      <td>AGER_TYP</td>\n",
       "      <td>person</td>\n",
       "      <td>categorical</td>\n",
       "      <td>[-1,0]</td>\n",
       "    </tr>\n",
       "    <tr>\n",
       "      <th>1</th>\n",
       "      <td>ALTERSKATEGORIE_GROB</td>\n",
       "      <td>person</td>\n",
       "      <td>ordinal</td>\n",
       "      <td>[-1,0,9]</td>\n",
       "    </tr>\n",
       "    <tr>\n",
       "      <th>2</th>\n",
       "      <td>ANREDE_KZ</td>\n",
       "      <td>person</td>\n",
       "      <td>categorical</td>\n",
       "      <td>[-1,0]</td>\n",
       "    </tr>\n",
       "    <tr>\n",
       "      <th>3</th>\n",
       "      <td>CJT_GESAMTTYP</td>\n",
       "      <td>person</td>\n",
       "      <td>categorical</td>\n",
       "      <td>[0]</td>\n",
       "    </tr>\n",
       "    <tr>\n",
       "      <th>4</th>\n",
       "      <td>FINANZ_MINIMALIST</td>\n",
       "      <td>person</td>\n",
       "      <td>ordinal</td>\n",
       "      <td>[-1]</td>\n",
       "    </tr>\n",
       "    <tr>\n",
       "      <th>5</th>\n",
       "      <td>FINANZ_SPARER</td>\n",
       "      <td>person</td>\n",
       "      <td>ordinal</td>\n",
       "      <td>[-1]</td>\n",
       "    </tr>\n",
       "    <tr>\n",
       "      <th>6</th>\n",
       "      <td>FINANZ_VORSORGER</td>\n",
       "      <td>person</td>\n",
       "      <td>ordinal</td>\n",
       "      <td>[-1]</td>\n",
       "    </tr>\n",
       "    <tr>\n",
       "      <th>7</th>\n",
       "      <td>FINANZ_ANLEGER</td>\n",
       "      <td>person</td>\n",
       "      <td>ordinal</td>\n",
       "      <td>[-1]</td>\n",
       "    </tr>\n",
       "    <tr>\n",
       "      <th>8</th>\n",
       "      <td>FINANZ_UNAUFFAELLIGER</td>\n",
       "      <td>person</td>\n",
       "      <td>ordinal</td>\n",
       "      <td>[-1]</td>\n",
       "    </tr>\n",
       "    <tr>\n",
       "      <th>9</th>\n",
       "      <td>FINANZ_HAUSBAUER</td>\n",
       "      <td>person</td>\n",
       "      <td>ordinal</td>\n",
       "      <td>[-1]</td>\n",
       "    </tr>\n",
       "    <tr>\n",
       "      <th>10</th>\n",
       "      <td>FINANZTYP</td>\n",
       "      <td>person</td>\n",
       "      <td>categorical</td>\n",
       "      <td>[-1]</td>\n",
       "    </tr>\n",
       "    <tr>\n",
       "      <th>11</th>\n",
       "      <td>GEBURTSJAHR</td>\n",
       "      <td>person</td>\n",
       "      <td>numeric</td>\n",
       "      <td>[0]</td>\n",
       "    </tr>\n",
       "    <tr>\n",
       "      <th>12</th>\n",
       "      <td>GFK_URLAUBERTYP</td>\n",
       "      <td>person</td>\n",
       "      <td>categorical</td>\n",
       "      <td>[]</td>\n",
       "    </tr>\n",
       "    <tr>\n",
       "      <th>13</th>\n",
       "      <td>GREEN_AVANTGARDE</td>\n",
       "      <td>person</td>\n",
       "      <td>categorical</td>\n",
       "      <td>[]</td>\n",
       "    </tr>\n",
       "    <tr>\n",
       "      <th>14</th>\n",
       "      <td>HEALTH_TYP</td>\n",
       "      <td>person</td>\n",
       "      <td>ordinal</td>\n",
       "      <td>[-1,0]</td>\n",
       "    </tr>\n",
       "    <tr>\n",
       "      <th>15</th>\n",
       "      <td>LP_LEBENSPHASE_FEIN</td>\n",
       "      <td>person</td>\n",
       "      <td>mixed</td>\n",
       "      <td>[0]</td>\n",
       "    </tr>\n",
       "    <tr>\n",
       "      <th>16</th>\n",
       "      <td>LP_LEBENSPHASE_GROB</td>\n",
       "      <td>person</td>\n",
       "      <td>mixed</td>\n",
       "      <td>[0]</td>\n",
       "    </tr>\n",
       "    <tr>\n",
       "      <th>17</th>\n",
       "      <td>LP_FAMILIE_FEIN</td>\n",
       "      <td>person</td>\n",
       "      <td>categorical</td>\n",
       "      <td>[0]</td>\n",
       "    </tr>\n",
       "    <tr>\n",
       "      <th>18</th>\n",
       "      <td>LP_FAMILIE_GROB</td>\n",
       "      <td>person</td>\n",
       "      <td>categorical</td>\n",
       "      <td>[0]</td>\n",
       "    </tr>\n",
       "    <tr>\n",
       "      <th>19</th>\n",
       "      <td>LP_STATUS_FEIN</td>\n",
       "      <td>person</td>\n",
       "      <td>categorical</td>\n",
       "      <td>[0]</td>\n",
       "    </tr>\n",
       "    <tr>\n",
       "      <th>20</th>\n",
       "      <td>LP_STATUS_GROB</td>\n",
       "      <td>person</td>\n",
       "      <td>categorical</td>\n",
       "      <td>[0]</td>\n",
       "    </tr>\n",
       "    <tr>\n",
       "      <th>21</th>\n",
       "      <td>NATIONALITAET_KZ</td>\n",
       "      <td>person</td>\n",
       "      <td>categorical</td>\n",
       "      <td>[-1,0]</td>\n",
       "    </tr>\n",
       "    <tr>\n",
       "      <th>22</th>\n",
       "      <td>PRAEGENDE_JUGENDJAHRE</td>\n",
       "      <td>person</td>\n",
       "      <td>mixed</td>\n",
       "      <td>[-1,0]</td>\n",
       "    </tr>\n",
       "    <tr>\n",
       "      <th>23</th>\n",
       "      <td>RETOURTYP_BK_S</td>\n",
       "      <td>person</td>\n",
       "      <td>ordinal</td>\n",
       "      <td>[0]</td>\n",
       "    </tr>\n",
       "    <tr>\n",
       "      <th>24</th>\n",
       "      <td>SEMIO_SOZ</td>\n",
       "      <td>person</td>\n",
       "      <td>ordinal</td>\n",
       "      <td>[-1,9]</td>\n",
       "    </tr>\n",
       "    <tr>\n",
       "      <th>25</th>\n",
       "      <td>SEMIO_FAM</td>\n",
       "      <td>person</td>\n",
       "      <td>ordinal</td>\n",
       "      <td>[-1,9]</td>\n",
       "    </tr>\n",
       "    <tr>\n",
       "      <th>26</th>\n",
       "      <td>SEMIO_REL</td>\n",
       "      <td>person</td>\n",
       "      <td>ordinal</td>\n",
       "      <td>[-1,9]</td>\n",
       "    </tr>\n",
       "    <tr>\n",
       "      <th>27</th>\n",
       "      <td>SEMIO_MAT</td>\n",
       "      <td>person</td>\n",
       "      <td>ordinal</td>\n",
       "      <td>[-1,9]</td>\n",
       "    </tr>\n",
       "    <tr>\n",
       "      <th>28</th>\n",
       "      <td>SEMIO_VERT</td>\n",
       "      <td>person</td>\n",
       "      <td>ordinal</td>\n",
       "      <td>[-1,9]</td>\n",
       "    </tr>\n",
       "    <tr>\n",
       "      <th>29</th>\n",
       "      <td>SEMIO_LUST</td>\n",
       "      <td>person</td>\n",
       "      <td>ordinal</td>\n",
       "      <td>[-1,9]</td>\n",
       "    </tr>\n",
       "    <tr>\n",
       "      <th>...</th>\n",
       "      <td>...</td>\n",
       "      <td>...</td>\n",
       "      <td>...</td>\n",
       "      <td>...</td>\n",
       "    </tr>\n",
       "    <tr>\n",
       "      <th>55</th>\n",
       "      <td>OST_WEST_KZ</td>\n",
       "      <td>building</td>\n",
       "      <td>categorical</td>\n",
       "      <td>[-1]</td>\n",
       "    </tr>\n",
       "    <tr>\n",
       "      <th>56</th>\n",
       "      <td>WOHNLAGE</td>\n",
       "      <td>building</td>\n",
       "      <td>mixed</td>\n",
       "      <td>[-1]</td>\n",
       "    </tr>\n",
       "    <tr>\n",
       "      <th>57</th>\n",
       "      <td>CAMEO_DEUG_2015</td>\n",
       "      <td>microcell_rr4</td>\n",
       "      <td>categorical</td>\n",
       "      <td>[-1,X]</td>\n",
       "    </tr>\n",
       "    <tr>\n",
       "      <th>58</th>\n",
       "      <td>CAMEO_DEU_2015</td>\n",
       "      <td>microcell_rr4</td>\n",
       "      <td>categorical</td>\n",
       "      <td>[XX]</td>\n",
       "    </tr>\n",
       "    <tr>\n",
       "      <th>59</th>\n",
       "      <td>CAMEO_INTL_2015</td>\n",
       "      <td>microcell_rr4</td>\n",
       "      <td>mixed</td>\n",
       "      <td>[-1,XX]</td>\n",
       "    </tr>\n",
       "    <tr>\n",
       "      <th>60</th>\n",
       "      <td>KBA05_ANTG1</td>\n",
       "      <td>microcell_rr3</td>\n",
       "      <td>ordinal</td>\n",
       "      <td>[-1]</td>\n",
       "    </tr>\n",
       "    <tr>\n",
       "      <th>61</th>\n",
       "      <td>KBA05_ANTG2</td>\n",
       "      <td>microcell_rr3</td>\n",
       "      <td>ordinal</td>\n",
       "      <td>[-1]</td>\n",
       "    </tr>\n",
       "    <tr>\n",
       "      <th>62</th>\n",
       "      <td>KBA05_ANTG3</td>\n",
       "      <td>microcell_rr3</td>\n",
       "      <td>ordinal</td>\n",
       "      <td>[-1]</td>\n",
       "    </tr>\n",
       "    <tr>\n",
       "      <th>63</th>\n",
       "      <td>KBA05_ANTG4</td>\n",
       "      <td>microcell_rr3</td>\n",
       "      <td>ordinal</td>\n",
       "      <td>[-1]</td>\n",
       "    </tr>\n",
       "    <tr>\n",
       "      <th>64</th>\n",
       "      <td>KBA05_BAUMAX</td>\n",
       "      <td>microcell_rr3</td>\n",
       "      <td>mixed</td>\n",
       "      <td>[-1,0]</td>\n",
       "    </tr>\n",
       "    <tr>\n",
       "      <th>65</th>\n",
       "      <td>KBA05_GBZ</td>\n",
       "      <td>microcell_rr3</td>\n",
       "      <td>ordinal</td>\n",
       "      <td>[-1,0]</td>\n",
       "    </tr>\n",
       "    <tr>\n",
       "      <th>66</th>\n",
       "      <td>BALLRAUM</td>\n",
       "      <td>postcode</td>\n",
       "      <td>ordinal</td>\n",
       "      <td>[-1]</td>\n",
       "    </tr>\n",
       "    <tr>\n",
       "      <th>67</th>\n",
       "      <td>EWDICHTE</td>\n",
       "      <td>postcode</td>\n",
       "      <td>ordinal</td>\n",
       "      <td>[-1]</td>\n",
       "    </tr>\n",
       "    <tr>\n",
       "      <th>68</th>\n",
       "      <td>INNENSTADT</td>\n",
       "      <td>postcode</td>\n",
       "      <td>ordinal</td>\n",
       "      <td>[-1]</td>\n",
       "    </tr>\n",
       "    <tr>\n",
       "      <th>69</th>\n",
       "      <td>GEBAEUDETYP_RASTER</td>\n",
       "      <td>region_rr1</td>\n",
       "      <td>ordinal</td>\n",
       "      <td>[]</td>\n",
       "    </tr>\n",
       "    <tr>\n",
       "      <th>70</th>\n",
       "      <td>KKK</td>\n",
       "      <td>region_rr1</td>\n",
       "      <td>ordinal</td>\n",
       "      <td>[-1,0]</td>\n",
       "    </tr>\n",
       "    <tr>\n",
       "      <th>71</th>\n",
       "      <td>MOBI_REGIO</td>\n",
       "      <td>region_rr1</td>\n",
       "      <td>ordinal</td>\n",
       "      <td>[]</td>\n",
       "    </tr>\n",
       "    <tr>\n",
       "      <th>72</th>\n",
       "      <td>ONLINE_AFFINITAET</td>\n",
       "      <td>region_rr1</td>\n",
       "      <td>ordinal</td>\n",
       "      <td>[]</td>\n",
       "    </tr>\n",
       "    <tr>\n",
       "      <th>73</th>\n",
       "      <td>REGIOTYP</td>\n",
       "      <td>region_rr1</td>\n",
       "      <td>ordinal</td>\n",
       "      <td>[-1,0]</td>\n",
       "    </tr>\n",
       "    <tr>\n",
       "      <th>74</th>\n",
       "      <td>KBA13_ANZAHL_PKW</td>\n",
       "      <td>macrocell_plz8</td>\n",
       "      <td>numeric</td>\n",
       "      <td>[]</td>\n",
       "    </tr>\n",
       "    <tr>\n",
       "      <th>75</th>\n",
       "      <td>PLZ8_ANTG1</td>\n",
       "      <td>macrocell_plz8</td>\n",
       "      <td>ordinal</td>\n",
       "      <td>[-1]</td>\n",
       "    </tr>\n",
       "    <tr>\n",
       "      <th>76</th>\n",
       "      <td>PLZ8_ANTG2</td>\n",
       "      <td>macrocell_plz8</td>\n",
       "      <td>ordinal</td>\n",
       "      <td>[-1]</td>\n",
       "    </tr>\n",
       "    <tr>\n",
       "      <th>77</th>\n",
       "      <td>PLZ8_ANTG3</td>\n",
       "      <td>macrocell_plz8</td>\n",
       "      <td>ordinal</td>\n",
       "      <td>[-1]</td>\n",
       "    </tr>\n",
       "    <tr>\n",
       "      <th>78</th>\n",
       "      <td>PLZ8_ANTG4</td>\n",
       "      <td>macrocell_plz8</td>\n",
       "      <td>ordinal</td>\n",
       "      <td>[-1]</td>\n",
       "    </tr>\n",
       "    <tr>\n",
       "      <th>79</th>\n",
       "      <td>PLZ8_BAUMAX</td>\n",
       "      <td>macrocell_plz8</td>\n",
       "      <td>mixed</td>\n",
       "      <td>[-1,0]</td>\n",
       "    </tr>\n",
       "    <tr>\n",
       "      <th>80</th>\n",
       "      <td>PLZ8_HHZ</td>\n",
       "      <td>macrocell_plz8</td>\n",
       "      <td>ordinal</td>\n",
       "      <td>[-1]</td>\n",
       "    </tr>\n",
       "    <tr>\n",
       "      <th>81</th>\n",
       "      <td>PLZ8_GBZ</td>\n",
       "      <td>macrocell_plz8</td>\n",
       "      <td>ordinal</td>\n",
       "      <td>[-1]</td>\n",
       "    </tr>\n",
       "    <tr>\n",
       "      <th>82</th>\n",
       "      <td>ARBEIT</td>\n",
       "      <td>community</td>\n",
       "      <td>ordinal</td>\n",
       "      <td>[-1,9]</td>\n",
       "    </tr>\n",
       "    <tr>\n",
       "      <th>83</th>\n",
       "      <td>ORTSGR_KLS9</td>\n",
       "      <td>community</td>\n",
       "      <td>ordinal</td>\n",
       "      <td>[-1,0]</td>\n",
       "    </tr>\n",
       "    <tr>\n",
       "      <th>84</th>\n",
       "      <td>RELAT_AB</td>\n",
       "      <td>community</td>\n",
       "      <td>ordinal</td>\n",
       "      <td>[-1,9]</td>\n",
       "    </tr>\n",
       "  </tbody>\n",
       "</table>\n",
       "<p>85 rows × 4 columns</p>\n",
       "</div>"
      ],
      "text/plain": [
       "                attribute information_level         type missing_or_unknown\n",
       "0                AGER_TYP            person  categorical             [-1,0]\n",
       "1    ALTERSKATEGORIE_GROB            person      ordinal           [-1,0,9]\n",
       "2               ANREDE_KZ            person  categorical             [-1,0]\n",
       "3           CJT_GESAMTTYP            person  categorical                [0]\n",
       "4       FINANZ_MINIMALIST            person      ordinal               [-1]\n",
       "5           FINANZ_SPARER            person      ordinal               [-1]\n",
       "6        FINANZ_VORSORGER            person      ordinal               [-1]\n",
       "7          FINANZ_ANLEGER            person      ordinal               [-1]\n",
       "8   FINANZ_UNAUFFAELLIGER            person      ordinal               [-1]\n",
       "9        FINANZ_HAUSBAUER            person      ordinal               [-1]\n",
       "10              FINANZTYP            person  categorical               [-1]\n",
       "11            GEBURTSJAHR            person      numeric                [0]\n",
       "12        GFK_URLAUBERTYP            person  categorical                 []\n",
       "13       GREEN_AVANTGARDE            person  categorical                 []\n",
       "14             HEALTH_TYP            person      ordinal             [-1,0]\n",
       "15    LP_LEBENSPHASE_FEIN            person        mixed                [0]\n",
       "16    LP_LEBENSPHASE_GROB            person        mixed                [0]\n",
       "17        LP_FAMILIE_FEIN            person  categorical                [0]\n",
       "18        LP_FAMILIE_GROB            person  categorical                [0]\n",
       "19         LP_STATUS_FEIN            person  categorical                [0]\n",
       "20         LP_STATUS_GROB            person  categorical                [0]\n",
       "21       NATIONALITAET_KZ            person  categorical             [-1,0]\n",
       "22  PRAEGENDE_JUGENDJAHRE            person        mixed             [-1,0]\n",
       "23         RETOURTYP_BK_S            person      ordinal                [0]\n",
       "24              SEMIO_SOZ            person      ordinal             [-1,9]\n",
       "25              SEMIO_FAM            person      ordinal             [-1,9]\n",
       "26              SEMIO_REL            person      ordinal             [-1,9]\n",
       "27              SEMIO_MAT            person      ordinal             [-1,9]\n",
       "28             SEMIO_VERT            person      ordinal             [-1,9]\n",
       "29             SEMIO_LUST            person      ordinal             [-1,9]\n",
       "..                    ...               ...          ...                ...\n",
       "55            OST_WEST_KZ          building  categorical               [-1]\n",
       "56               WOHNLAGE          building        mixed               [-1]\n",
       "57        CAMEO_DEUG_2015     microcell_rr4  categorical             [-1,X]\n",
       "58         CAMEO_DEU_2015     microcell_rr4  categorical               [XX]\n",
       "59        CAMEO_INTL_2015     microcell_rr4        mixed            [-1,XX]\n",
       "60            KBA05_ANTG1     microcell_rr3      ordinal               [-1]\n",
       "61            KBA05_ANTG2     microcell_rr3      ordinal               [-1]\n",
       "62            KBA05_ANTG3     microcell_rr3      ordinal               [-1]\n",
       "63            KBA05_ANTG4     microcell_rr3      ordinal               [-1]\n",
       "64           KBA05_BAUMAX     microcell_rr3        mixed             [-1,0]\n",
       "65              KBA05_GBZ     microcell_rr3      ordinal             [-1,0]\n",
       "66               BALLRAUM          postcode      ordinal               [-1]\n",
       "67               EWDICHTE          postcode      ordinal               [-1]\n",
       "68             INNENSTADT          postcode      ordinal               [-1]\n",
       "69     GEBAEUDETYP_RASTER        region_rr1      ordinal                 []\n",
       "70                    KKK        region_rr1      ordinal             [-1,0]\n",
       "71             MOBI_REGIO        region_rr1      ordinal                 []\n",
       "72      ONLINE_AFFINITAET        region_rr1      ordinal                 []\n",
       "73               REGIOTYP        region_rr1      ordinal             [-1,0]\n",
       "74       KBA13_ANZAHL_PKW    macrocell_plz8      numeric                 []\n",
       "75             PLZ8_ANTG1    macrocell_plz8      ordinal               [-1]\n",
       "76             PLZ8_ANTG2    macrocell_plz8      ordinal               [-1]\n",
       "77             PLZ8_ANTG3    macrocell_plz8      ordinal               [-1]\n",
       "78             PLZ8_ANTG4    macrocell_plz8      ordinal               [-1]\n",
       "79            PLZ8_BAUMAX    macrocell_plz8        mixed             [-1,0]\n",
       "80               PLZ8_HHZ    macrocell_plz8      ordinal               [-1]\n",
       "81               PLZ8_GBZ    macrocell_plz8      ordinal               [-1]\n",
       "82                 ARBEIT         community      ordinal             [-1,9]\n",
       "83            ORTSGR_KLS9         community      ordinal             [-1,0]\n",
       "84               RELAT_AB         community      ordinal             [-1,9]\n",
       "\n",
       "[85 rows x 4 columns]"
      ]
     },
     "execution_count": 9,
     "metadata": {},
     "output_type": "execute_result"
    }
   ],
   "source": [
    "feat_info"
   ]
  },
  {
   "cell_type": "code",
   "execution_count": 10,
   "metadata": {},
   "outputs": [
    {
     "data": {
      "text/html": [
       "<div>\n",
       "<style scoped>\n",
       "    .dataframe tbody tr th:only-of-type {\n",
       "        vertical-align: middle;\n",
       "    }\n",
       "\n",
       "    .dataframe tbody tr th {\n",
       "        vertical-align: top;\n",
       "    }\n",
       "\n",
       "    .dataframe thead th {\n",
       "        text-align: right;\n",
       "    }\n",
       "</style>\n",
       "<table border=\"1\" class=\"dataframe\">\n",
       "  <thead>\n",
       "    <tr style=\"text-align: right;\">\n",
       "      <th></th>\n",
       "      <th>attribute</th>\n",
       "      <th>information_level</th>\n",
       "      <th>type</th>\n",
       "      <th>missing_or_unknown</th>\n",
       "    </tr>\n",
       "  </thead>\n",
       "  <tbody>\n",
       "    <tr>\n",
       "      <th>0</th>\n",
       "      <td>AGER_TYP</td>\n",
       "      <td>person</td>\n",
       "      <td>categorical</td>\n",
       "      <td>[-1,0]</td>\n",
       "    </tr>\n",
       "    <tr>\n",
       "      <th>1</th>\n",
       "      <td>ALTERSKATEGORIE_GROB</td>\n",
       "      <td>person</td>\n",
       "      <td>ordinal</td>\n",
       "      <td>[-1,0,9]</td>\n",
       "    </tr>\n",
       "    <tr>\n",
       "      <th>2</th>\n",
       "      <td>ANREDE_KZ</td>\n",
       "      <td>person</td>\n",
       "      <td>categorical</td>\n",
       "      <td>[-1,0]</td>\n",
       "    </tr>\n",
       "    <tr>\n",
       "      <th>3</th>\n",
       "      <td>CJT_GESAMTTYP</td>\n",
       "      <td>person</td>\n",
       "      <td>categorical</td>\n",
       "      <td>[0]</td>\n",
       "    </tr>\n",
       "    <tr>\n",
       "      <th>4</th>\n",
       "      <td>FINANZ_MINIMALIST</td>\n",
       "      <td>person</td>\n",
       "      <td>ordinal</td>\n",
       "      <td>[-1]</td>\n",
       "    </tr>\n",
       "    <tr>\n",
       "      <th>5</th>\n",
       "      <td>FINANZ_SPARER</td>\n",
       "      <td>person</td>\n",
       "      <td>ordinal</td>\n",
       "      <td>[-1]</td>\n",
       "    </tr>\n",
       "    <tr>\n",
       "      <th>6</th>\n",
       "      <td>FINANZ_VORSORGER</td>\n",
       "      <td>person</td>\n",
       "      <td>ordinal</td>\n",
       "      <td>[-1]</td>\n",
       "    </tr>\n",
       "    <tr>\n",
       "      <th>7</th>\n",
       "      <td>FINANZ_ANLEGER</td>\n",
       "      <td>person</td>\n",
       "      <td>ordinal</td>\n",
       "      <td>[-1]</td>\n",
       "    </tr>\n",
       "    <tr>\n",
       "      <th>8</th>\n",
       "      <td>FINANZ_UNAUFFAELLIGER</td>\n",
       "      <td>person</td>\n",
       "      <td>ordinal</td>\n",
       "      <td>[-1]</td>\n",
       "    </tr>\n",
       "    <tr>\n",
       "      <th>9</th>\n",
       "      <td>FINANZ_HAUSBAUER</td>\n",
       "      <td>person</td>\n",
       "      <td>ordinal</td>\n",
       "      <td>[-1]</td>\n",
       "    </tr>\n",
       "  </tbody>\n",
       "</table>\n",
       "</div>"
      ],
      "text/plain": [
       "               attribute information_level         type missing_or_unknown\n",
       "0               AGER_TYP            person  categorical             [-1,0]\n",
       "1   ALTERSKATEGORIE_GROB            person      ordinal           [-1,0,9]\n",
       "2              ANREDE_KZ            person  categorical             [-1,0]\n",
       "3          CJT_GESAMTTYP            person  categorical                [0]\n",
       "4      FINANZ_MINIMALIST            person      ordinal               [-1]\n",
       "5          FINANZ_SPARER            person      ordinal               [-1]\n",
       "6       FINANZ_VORSORGER            person      ordinal               [-1]\n",
       "7         FINANZ_ANLEGER            person      ordinal               [-1]\n",
       "8  FINANZ_UNAUFFAELLIGER            person      ordinal               [-1]\n",
       "9       FINANZ_HAUSBAUER            person      ordinal               [-1]"
      ]
     },
     "execution_count": 10,
     "metadata": {},
     "output_type": "execute_result"
    }
   ],
   "source": [
    "feat_info.head(10)"
   ]
  },
  {
   "cell_type": "markdown",
   "metadata": {},
   "source": [
    "> **Tip**: Add additional cells to keep everything in reasonably-sized chunks! Keyboard shortcut `esc --> a` (press escape to enter command mode, then press the 'A' key) adds a new cell before the active cell, and `esc --> b` adds a new cell after the active cell. If you need to convert an active cell to a markdown cell, use `esc --> m` and to convert to a code cell, use `esc --> y`. \n",
    "\n",
    "## Step 1: Preprocessing\n",
    "\n",
    "### Step 1.1: Assess Missing Data\n",
    "\n",
    "The feature summary file contains a summary of properties for each demographics data column. You will use this file to help you make cleaning decisions during this stage of the project. First of all, you should assess the demographics data in terms of missing data. Pay attention to the following points as you perform your analysis, and take notes on what you observe. Make sure that you fill in the **Discussion** cell with your findings and decisions at the end of each step that has one!\n",
    "\n",
    "#### Step 1.1.1: Convert Missing Value Codes to NaNs\n",
    "The fourth column of the feature attributes summary (loaded in above as `feat_info`) documents the codes from the data dictionary that indicate missing or unknown data. While the file encodes this as a list (e.g. `[-1,0]`), this will get read in as a string object. You'll need to do a little bit of parsing to make use of it to identify and clean the data. Convert data that matches a 'missing' or 'unknown' value code into a numpy NaN value. You might want to see how much data takes on a 'missing' or 'unknown' code, and how much data is naturally missing, as a point of interest.\n",
    "\n",
    "**As one more reminder, you are encouraged to add additional cells to break up your analysis into manageable chunks.**"
   ]
  },
  {
   "cell_type": "code",
   "execution_count": 11,
   "metadata": {
    "scrolled": true
   },
   "outputs": [
    {
     "data": {
      "text/plain": [
       "CJT_GESAMTTYP            4854\n",
       "GFK_URLAUBERTYP          4854\n",
       "LP_LEBENSPHASE_FEIN      4854\n",
       "LP_LEBENSPHASE_GROB      4854\n",
       "LP_FAMILIE_FEIN          4854\n",
       "LP_FAMILIE_GROB          4854\n",
       "LP_STATUS_FEIN           4854\n",
       "LP_STATUS_GROB           4854\n",
       "RETOURTYP_BK_S           4854\n",
       "SOHO_KZ                 73499\n",
       "TITEL_KZ                73499\n",
       "ALTER_HH                73499\n",
       "ANZ_PERSONEN            73499\n",
       "ANZ_TITEL               73499\n",
       "HH_EINKOMMEN_SCORE      18348\n",
       "KK_KUNDENTYP           584612\n",
       "W_KEIT_KIND_HH         107602\n",
       "WOHNDAUER_2008          73499\n",
       "ANZ_HAUSHALTE_AKTIV     93148\n",
       "ANZ_HH_TITEL            97008\n",
       "GEBAEUDETYP             93148\n",
       "KONSUMNAEHE             73969\n",
       "MIN_GEBAEUDEJAHR        93148\n",
       "OST_WEST_KZ             93148\n",
       "WOHNLAGE                93148\n",
       "CAMEO_DEUG_2015         98979\n",
       "CAMEO_DEU_2015          98979\n",
       "CAMEO_INTL_2015         98979\n",
       "KBA05_ANTG1            133324\n",
       "KBA05_ANTG2            133324\n",
       "KBA05_ANTG3            133324\n",
       "KBA05_ANTG4            133324\n",
       "KBA05_BAUMAX           133324\n",
       "KBA05_GBZ              133324\n",
       "BALLRAUM                93740\n",
       "EWDICHTE                93740\n",
       "INNENSTADT              93740\n",
       "GEBAEUDETYP_RASTER      93155\n",
       "KKK                    121196\n",
       "MOBI_REGIO             133324\n",
       "ONLINE_AFFINITAET        4854\n",
       "REGIOTYP               121196\n",
       "KBA13_ANZAHL_PKW       105800\n",
       "PLZ8_ANTG1             116515\n",
       "PLZ8_ANTG2             116515\n",
       "PLZ8_ANTG3             116515\n",
       "PLZ8_ANTG4             116515\n",
       "PLZ8_BAUMAX            116515\n",
       "PLZ8_HHZ               116515\n",
       "PLZ8_GBZ               116515\n",
       "ARBEIT                  97216\n",
       "ORTSGR_KLS9             97216\n",
       "RELAT_AB                97216\n",
       "dtype: int64"
      ]
     },
     "execution_count": 11,
     "metadata": {},
     "output_type": "execute_result"
    }
   ],
   "source": [
    "azdias_nan = azdias.isnull().sum()\n",
    "azdias_nan[azdias_nan>0]"
   ]
  },
  {
   "cell_type": "code",
   "execution_count": 12,
   "metadata": {},
   "outputs": [
    {
     "data": {
      "text/plain": [
       "4896838"
      ]
     },
     "execution_count": 12,
     "metadata": {},
     "output_type": "execute_result"
    }
   ],
   "source": [
    "azdias.isnull().sum().sum()"
   ]
  },
  {
   "cell_type": "code",
   "execution_count": 13,
   "metadata": {},
   "outputs": [],
   "source": [
    "# Identify missing or unknown data values and convert them to NaNs.\n",
    "import ast\n",
    "\n",
    "for i, col in enumerate(azdias.columns):\n",
    "    str_val = feat_info['missing_or_unknown'].iloc[i]\n",
    "    if i in [57, 58, 59]:\n",
    "        lst = str_val[1:-1].split(',')\n",
    "    else:\n",
    "        lst = ast.literal_eval(str_val)\n",
    "    for val in lst:\n",
    "        azdias[col].replace(val, np.nan, inplace = True)\n"
   ]
  },
  {
   "cell_type": "markdown",
   "metadata": {},
   "source": [
    "#### Step 1.1.2: Assess Missing Data in Each Column\n",
    "\n",
    "How much missing data is present in each column? There are a few columns that are outliers in terms of the proportion of values that are missing. You will want to use matplotlib's [`hist()`](https://matplotlib.org/api/_as_gen/matplotlib.pyplot.hist.html) function to visualize the distribution of missing value counts to find these columns. Identify and document these columns. While some of these columns might have justifications for keeping or re-encoding the data, for this project you should just remove them from the dataframe. (Feel free to make remarks about these outlier columns in the discussion, however!)\n",
    "\n",
    "For the remaining features, are there any patterns in which columns have, or share, missing data?"
   ]
  },
  {
   "cell_type": "code",
   "execution_count": 14,
   "metadata": {},
   "outputs": [
    {
     "data": {
      "text/plain": [
       "AGER_TYP                 685843\n",
       "ALTERSKATEGORIE_GROB       2881\n",
       "CJT_GESAMTTYP              4854\n",
       "GEBURTSJAHR              392318\n",
       "GFK_URLAUBERTYP            4854\n",
       "HEALTH_TYP               111196\n",
       "LP_LEBENSPHASE_FEIN       97632\n",
       "LP_LEBENSPHASE_GROB       94572\n",
       "LP_FAMILIE_FEIN           77792\n",
       "LP_FAMILIE_GROB           77792\n",
       "LP_STATUS_FEIN             4854\n",
       "LP_STATUS_GROB             4854\n",
       "NATIONALITAET_KZ         108315\n",
       "PRAEGENDE_JUGENDJAHRE    108164\n",
       "RETOURTYP_BK_S             4854\n",
       "SHOPPER_TYP              111196\n",
       "SOHO_KZ                   73499\n",
       "TITEL_KZ                 889061\n",
       "VERS_TYP                 111196\n",
       "ALTER_HH                 310267\n",
       "ANZ_PERSONEN              73499\n",
       "ANZ_TITEL                 73499\n",
       "HH_EINKOMMEN_SCORE        18348\n",
       "KK_KUNDENTYP             584612\n",
       "W_KEIT_KIND_HH           147988\n",
       "WOHNDAUER_2008            73499\n",
       "ANZ_HAUSHALTE_AKTIV       99611\n",
       "ANZ_HH_TITEL              97008\n",
       "GEBAEUDETYP               93148\n",
       "KONSUMNAEHE               73969\n",
       "                          ...  \n",
       "OST_WEST_KZ               93148\n",
       "WOHNLAGE                  93148\n",
       "CAMEO_DEUG_2015           99352\n",
       "CAMEO_DEU_2015            99352\n",
       "CAMEO_INTL_2015           99352\n",
       "KBA05_ANTG1              133324\n",
       "KBA05_ANTG2              133324\n",
       "KBA05_ANTG3              133324\n",
       "KBA05_ANTG4              133324\n",
       "KBA05_BAUMAX             476524\n",
       "KBA05_GBZ                133324\n",
       "BALLRAUM                  93740\n",
       "EWDICHTE                  93740\n",
       "INNENSTADT                93740\n",
       "GEBAEUDETYP_RASTER        93155\n",
       "KKK                      158064\n",
       "MOBI_REGIO               133324\n",
       "ONLINE_AFFINITAET          4854\n",
       "REGIOTYP                 158064\n",
       "KBA13_ANZAHL_PKW         105800\n",
       "PLZ8_ANTG1               116515\n",
       "PLZ8_ANTG2               116515\n",
       "PLZ8_ANTG3               116515\n",
       "PLZ8_ANTG4               116515\n",
       "PLZ8_BAUMAX              116515\n",
       "PLZ8_HHZ                 116515\n",
       "PLZ8_GBZ                 116515\n",
       "ARBEIT                    97375\n",
       "ORTSGR_KLS9               97274\n",
       "RELAT_AB                  97375\n",
       "Length: 61, dtype: int64"
      ]
     },
     "execution_count": 14,
     "metadata": {},
     "output_type": "execute_result"
    }
   ],
   "source": [
    "# Perform an assessment of how much missing data there is in each column of the\n",
    "# dataset.\n",
    "azdias_nan = azdias.isnull().sum()\n",
    "azdias_nan[azdias_nan>0]"
   ]
  },
  {
   "cell_type": "code",
   "execution_count": 15,
   "metadata": {},
   "outputs": [
    {
     "data": {
      "text/plain": [
       "8373929"
      ]
     },
     "execution_count": 15,
     "metadata": {},
     "output_type": "execute_result"
    }
   ],
   "source": [
    "azdias.isnull().sum().sum()"
   ]
  },
  {
   "cell_type": "code",
   "execution_count": 16,
   "metadata": {},
   "outputs": [
    {
     "data": {
      "text/plain": [
       "AGER_TYP                 76.955435\n",
       "GEBURTSJAHR              44.020282\n",
       "HEALTH_TYP               12.476816\n",
       "LP_LEBENSPHASE_FEIN      10.954859\n",
       "LP_LEBENSPHASE_GROB      10.611509\n",
       "NATIONALITAET_KZ         12.153551\n",
       "PRAEGENDE_JUGENDJAHRE    12.136608\n",
       "SHOPPER_TYP              12.476816\n",
       "TITEL_KZ                 99.757636\n",
       "VERS_TYP                 12.476816\n",
       "ALTER_HH                 34.813699\n",
       "KK_KUNDENTYP             65.596749\n",
       "W_KEIT_KIND_HH           16.605084\n",
       "ANZ_HAUSHALTE_AKTIV      11.176913\n",
       "ANZ_HH_TITEL             10.884842\n",
       "GEBAEUDETYP              10.451729\n",
       "MIN_GEBAEUDEJAHR         10.451729\n",
       "OST_WEST_KZ              10.451729\n",
       "WOHNLAGE                 10.451729\n",
       "CAMEO_DEUG_2015          11.147852\n",
       "CAMEO_DEU_2015           11.147852\n",
       "CAMEO_INTL_2015          11.147852\n",
       "KBA05_ANTG1              14.959701\n",
       "KBA05_ANTG2              14.959701\n",
       "KBA05_ANTG3              14.959701\n",
       "KBA05_ANTG4              14.959701\n",
       "KBA05_BAUMAX             53.468668\n",
       "KBA05_GBZ                14.959701\n",
       "BALLRAUM                 10.518154\n",
       "EWDICHTE                 10.518154\n",
       "INNENSTADT               10.518154\n",
       "GEBAEUDETYP_RASTER       10.452514\n",
       "KKK                      17.735668\n",
       "MOBI_REGIO               14.959701\n",
       "REGIOTYP                 17.735668\n",
       "KBA13_ANZAHL_PKW         11.871354\n",
       "PLZ8_ANTG1               13.073637\n",
       "PLZ8_ANTG2               13.073637\n",
       "PLZ8_ANTG3               13.073637\n",
       "PLZ8_ANTG4               13.073637\n",
       "PLZ8_BAUMAX              13.073637\n",
       "PLZ8_HHZ                 13.073637\n",
       "PLZ8_GBZ                 13.073637\n",
       "ARBEIT                   10.926022\n",
       "ORTSGR_KLS9              10.914689\n",
       "RELAT_AB                 10.926022\n",
       "dtype: float64"
      ]
     },
     "execution_count": 16,
     "metadata": {},
     "output_type": "execute_result"
    }
   ],
   "source": [
    "# Investigate patterns in the amount of missing data in each column.\n",
    "nan_per = azdias_nan*100/azdias.shape[0]\n",
    "nan_per[nan_per>10]"
   ]
  },
  {
   "cell_type": "code",
   "execution_count": 17,
   "metadata": {
    "scrolled": true
   },
   "outputs": [
    {
     "name": "stdout",
     "output_type": "stream",
     "text": [
      "There are 61 features having missing values\n"
     ]
    }
   ],
   "source": [
    "print('There are {} features having missing values'.format(sum(nan_per>0)))"
   ]
  },
  {
   "cell_type": "code",
   "execution_count": 18,
   "metadata": {
    "scrolled": true
   },
   "outputs": [
    {
     "data": {
      "image/png": "[encoded data removed]",
      "text/plain": [
       "<matplotlib.figure.Figure at 0x7f22f451fe10>"
      ]
     },
     "metadata": {
      "needs_background": "light"
     },
     "output_type": "display_data"
    }
   ],
   "source": [
    "plt.hist(nan_per, 20)\n",
    "plt.xlabel('percentage of the missing values')\n",
    "my_x_ticks = np.arange(0, 100, 5)\n",
    "\n",
    "plt.xticks(my_x_ticks)\n",
    "plt.ylabel('number of features')\n",
    "plt.title('Distribution of the missing data in each column')\n",
    "plt.show()"
   ]
  },
  {
   "cell_type": "code",
   "execution_count": 19,
   "metadata": {
    "scrolled": true
   },
   "outputs": [
    {
     "data": {
      "text/plain": [
       "<matplotlib.axes._subplots.AxesSubplot at 0x7f22f21f8e10>"
      ]
     },
     "execution_count": 19,
     "metadata": {},
     "output_type": "execute_result"
    },
    {
     "data": {
      "image/png": "[encoded data removed]",
      "text/plain": [
       "<matplotlib.figure.Figure at 0x7f22f49bc630>"
      ]
     },
     "metadata": {
      "needs_background": "light"
     },
     "output_type": "display_data"
    }
   ],
   "source": [
    "import seaborn as sns\n",
    "sns.boxplot(nan_per)"
   ]
  },
  {
   "cell_type": "code",
   "execution_count": 20,
   "metadata": {},
   "outputs": [
    {
     "data": {
      "text/plain": [
       "32.684092946642863"
      ]
     },
     "execution_count": 20,
     "metadata": {},
     "output_type": "execute_result"
    }
   ],
   "source": [
    "upper = np.percentile(nan_per, 75)+1.5*(np.percentile(nan_per, 75)-np.percentile(nan_per, 25))\n",
    "upper"
   ]
  },
  {
   "cell_type": "code",
   "execution_count": 21,
   "metadata": {},
   "outputs": [
    {
     "data": {
      "text/plain": [
       "['AGER_TYP',\n",
       " 'GEBURTSJAHR',\n",
       " 'TITEL_KZ',\n",
       " 'ALTER_HH',\n",
       " 'KK_KUNDENTYP',\n",
       " 'KBA05_BAUMAX']"
      ]
     },
     "execution_count": 21,
     "metadata": {},
     "output_type": "execute_result"
    }
   ],
   "source": [
    "# the outlier columns\n",
    "list(nan_per[nan_per>upper].index)"
   ]
  },
  {
   "cell_type": "code",
   "execution_count": 22,
   "metadata": {},
   "outputs": [],
   "source": [
    "# Remove the outlier columns from the dataset. (You'll perform other data\n",
    "# engineering tasks such as re-encoding and imputation later.)\n",
    "azdias.drop(list(nan_per[nan_per>upper].index), axis = 1, inplace = True)\n"
   ]
  },
  {
   "cell_type": "code",
   "execution_count": 23,
   "metadata": {},
   "outputs": [
    {
     "data": {
      "text/plain": [
       "(891221, 79)"
      ]
     },
     "execution_count": 23,
     "metadata": {},
     "output_type": "execute_result"
    }
   ],
   "source": [
    "azdias.shape"
   ]
  },
  {
   "cell_type": "markdown",
   "metadata": {},
   "source": [
    "#### Discussion 1.1.2: Assess Missing Data in Each Column\n",
    "\n",
    "There are 61 features having missing values. Columns 'AGER_TYP',  'GEBURTSJAHR',  'TITEL_KZ',  'ALTER_HH', 'KK_KUNDENTYP’, 'KBA05_BAUMAX' were removed from the dataset. Since the percentage of missing values in these features are above the upper bound(Q3+1.5*IQR = 32.7%). The rest 55 features that have missing values have less than 32.7% missing values.\n",
    "Besides, about 30% (268012/891221) of the rows contains missing values. And among these rows, more than 77% (206719/268012) of the rows contain no less than 4 missing features."
   ]
  },
  {
   "cell_type": "markdown",
   "metadata": {},
   "source": [
    "#### Step 1.1.3: Assess Missing Data in Each Row\n",
    "\n",
    "Now, you'll perform a similar assessment for the rows of the dataset. How much data is missing in each row? As with the columns, you should see some groups of points that have a very different numbers of missing values. Divide the data into two subsets: one for data points that are above some threshold for missing values, and a second subset for points below that threshold.\n",
    "\n",
    "In order to know what to do with the outlier rows, we should see if the distribution of data values on columns that are not missing data (or are missing very little data) are similar or different between the two groups. Select at least five of these columns and compare the distribution of values.\n",
    "- You can use seaborn's [`countplot()`](https://seaborn.pydata.org/generated/seaborn.countplot.html) function to create a bar chart of code frequencies and matplotlib's [`subplot()`](https://matplotlib.org/api/_as_gen/matplotlib.pyplot.subplot.html) function to put bar charts for the two subplots side by side.\n",
    "- To reduce repeated code, you might want to write a function that can perform this comparison, taking as one of its arguments a column to be compared.\n",
    "\n",
    "Depending on what you observe in your comparison, this will have implications on how you approach your conclusions later in the analysis. If the distributions of non-missing features look similar between the data with many missing values and the data with few or no missing values, then we could argue that simply dropping those points from the analysis won't present a major issue. On the other hand, if the data with many missing values looks very different from the data with few or no missing values, then we should make a note on those data as special. We'll revisit these data later on. **Either way, you should continue your analysis for now using just the subset of the data with few or no missing values.**"
   ]
  },
  {
   "cell_type": "code",
   "execution_count": 24,
   "metadata": {},
   "outputs": [
    {
     "data": {
      "text/plain": [
       "732775    49\n",
       "643174    49\n",
       "472919    48\n",
       "604334    47\n",
       "604314    47\n",
       "768879    47\n",
       "604319    47\n",
       "604322    47\n",
       "604323    47\n",
       "275622    47\n",
       "62901     47\n",
       "275620    47\n",
       "604332    47\n",
       "275617    47\n",
       "604305    47\n",
       "275611    47\n",
       "275610    47\n",
       "62912     47\n",
       "604335    47\n",
       "604338    47\n",
       "604346    47\n",
       "604350    47\n",
       "146293    47\n",
       "604356    47\n",
       "62887     47\n",
       "768892    47\n",
       "146291    47\n",
       "348454    47\n",
       "604091    47\n",
       "604092    47\n",
       "          ..\n",
       "38561      1\n",
       "768647     1\n",
       "607245     1\n",
       "709042     1\n",
       "507663     1\n",
       "607271     1\n",
       "561427     1\n",
       "235434     1\n",
       "235435     1\n",
       "235445     1\n",
       "607405     1\n",
       "62924      1\n",
       "144785     1\n",
       "91916      1\n",
       "820005     1\n",
       "607433     1\n",
       "709002     1\n",
       "38612      1\n",
       "144760     1\n",
       "561377     1\n",
       "607469     1\n",
       "423798     1\n",
       "423777     1\n",
       "507723     1\n",
       "768704     1\n",
       "736034     1\n",
       "736038     1\n",
       "768679     1\n",
       "736043     1\n",
       "237075     1\n",
       "Length: 268012, dtype: int64"
      ]
     },
     "execution_count": 24,
     "metadata": {},
     "output_type": "execute_result"
    }
   ],
   "source": [
    "# How much data is missing in each row of the dataset?\n",
    "azdias_nan = azdias.isnull().sum(axis = 1)\n",
    "azdias_nan[azdias_nan>0].sort_values(ascending = False)\n"
   ]
  },
  {
   "cell_type": "code",
   "execution_count": 25,
   "metadata": {},
   "outputs": [
    {
     "name": "stdout",
     "output_type": "stream",
     "text": [
      "There are 268012 rows having missing values\n",
      "There are 206719 rows having no less than 4 missing values\n"
     ]
    }
   ],
   "source": [
    "# number of rows that contains nan \n",
    "print ('There are {} rows having missing values'.format(azdias.isnull().any(axis = 1).sum()))\n",
    "print ('There are {} rows having no less than 4 missing values'.format(len(azdias_nan[azdias_nan>3])))"
   ]
  },
  {
   "cell_type": "code",
   "execution_count": 26,
   "metadata": {},
   "outputs": [
    {
     "data": {
      "text/plain": [
       "count    891221.000000\n",
       "mean          5.649894\n",
       "std          13.234687\n",
       "min           0.000000\n",
       "25%           0.000000\n",
       "50%           0.000000\n",
       "75%           3.000000\n",
       "max          49.000000\n",
       "dtype: float64"
      ]
     },
     "execution_count": 26,
     "metadata": {},
     "output_type": "execute_result"
    }
   ],
   "source": [
    "azdias_nan.describe()"
   ]
  },
  {
   "cell_type": "code",
   "execution_count": 27,
   "metadata": {
    "scrolled": true
   },
   "outputs": [
    {
     "data": {
      "image/png": "[encoded data removed]",
      "text/plain": [
       "<matplotlib.figure.Figure at 0x7f22f21375c0>"
      ]
     },
     "metadata": {
      "needs_background": "light"
     },
     "output_type": "display_data"
    }
   ],
   "source": [
    "plt.figure(figsize = (20,10))\n",
    "plt.subplot(121)\n",
    "plt.title('Distribution of the missing data in each row')\n",
    "plt.hist(azdias_nan, 50)\n",
    "plt.xlabel('number of the missing features')\n",
    "my_x_ticks = np.arange(0, 55, 2)\n",
    "plt.xticks(my_x_ticks)\n",
    "plt.ylabel('number of rows')\n",
    "\n",
    "\n",
    "plt.subplot(122)\n",
    "plt.title('Distribution of the missing data(>0) in each row')\n",
    "plt.hist(azdias_nan[azdias_nan>0], 50)\n",
    "plt.xlabel('number of the missing features')\n",
    "my_x_ticks = np.arange(0, 55, 2)\n",
    "plt.xticks(my_x_ticks)\n",
    "plt.ylabel('number of rows')\n",
    "plt.show()"
   ]
  },
  {
   "cell_type": "code",
   "execution_count": 28,
   "metadata": {},
   "outputs": [],
   "source": [
    "# Write code to divide the data into two subsets based on the number of missing\n",
    "# values in each row.\n",
    "subset1 = azdias[azdias_nan<25]\n",
    "subset2 = azdias[azdias_nan>=25]"
   ]
  },
  {
   "cell_type": "code",
   "execution_count": 29,
   "metadata": {},
   "outputs": [
    {
     "data": {
      "text/plain": [
       "(797906, 79)"
      ]
     },
     "execution_count": 29,
     "metadata": {},
     "output_type": "execute_result"
    }
   ],
   "source": [
    "subset1.shape"
   ]
  },
  {
   "cell_type": "code",
   "execution_count": 30,
   "metadata": {
    "scrolled": false
   },
   "outputs": [
    {
     "data": {
      "text/plain": [
       "(93315, 79)"
      ]
     },
     "execution_count": 30,
     "metadata": {},
     "output_type": "execute_result"
    }
   ],
   "source": [
    "subset2.shape"
   ]
  },
  {
   "cell_type": "code",
   "execution_count": 31,
   "metadata": {
    "scrolled": true
   },
   "outputs": [
    {
     "data": {
      "text/plain": [
       "MOBI_REGIO               93315\n",
       "PLZ8_ANTG3               93315\n",
       "KBA05_ANTG3              93315\n",
       "KBA05_ANTG2              93315\n",
       "KBA05_ANTG1              93315\n",
       "KBA05_GBZ                93315\n",
       "PLZ8_ANTG2               93315\n",
       "PLZ8_ANTG1               93315\n",
       "PLZ8_ANTG4               93315\n",
       "PLZ8_BAUMAX              93315\n",
       "PLZ8_HHZ                 93315\n",
       "PLZ8_GBZ                 93315\n",
       "KBA05_ANTG4              93315\n",
       "REGIOTYP                 93300\n",
       "KKK                      93300\n",
       "KBA13_ANZAHL_PKW         93267\n",
       "CAMEO_INTL_2015          93246\n",
       "CAMEO_DEU_2015           93246\n",
       "CAMEO_DEUG_2015          93246\n",
       "ANZ_HH_TITEL             93191\n",
       "ANZ_HAUSHALTE_AKTIV      93191\n",
       "ORTSGR_KLS9              93150\n",
       "ARBEIT                   93150\n",
       "RELAT_AB                 93150\n",
       "OST_WEST_KZ              93148\n",
       "MIN_GEBAEUDEJAHR         93148\n",
       "GEBAEUDETYP              93148\n",
       "WOHNLAGE                 93148\n",
       "BALLRAUM                 93148\n",
       "INNENSTADT               93148\n",
       "GEBAEUDETYP_RASTER       93148\n",
       "EWDICHTE                 93148\n",
       "W_KEIT_KIND_HH           88761\n",
       "PRAEGENDE_JUGENDJAHRE    79467\n",
       "VERS_TYP                 74525\n",
       "HEALTH_TYP               74525\n",
       "SHOPPER_TYP              74525\n",
       "NATIONALITAET_KZ         74444\n",
       "KONSUMNAEHE              73899\n",
       "ANZ_TITEL                73499\n",
       "SOHO_KZ                  73499\n",
       "WOHNDAUER_2008           73499\n",
       "ANZ_PERSONEN             73499\n",
       "LP_LEBENSPHASE_FEIN      47554\n",
       "LP_LEBENSPHASE_GROB      47377\n",
       "LP_FAMILIE_GROB          46444\n",
       "LP_FAMILIE_FEIN          46444\n",
       "HH_EINKOMMEN_SCORE       18348\n",
       "CJT_GESAMTTYP              176\n",
       "GFK_URLAUBERTYP            176\n",
       "LP_STATUS_FEIN             176\n",
       "LP_STATUS_GROB             176\n",
       "ONLINE_AFFINITAET          176\n",
       "RETOURTYP_BK_S             176\n",
       "ALTERSKATEGORIE_GROB        81\n",
       "dtype: int64"
      ]
     },
     "execution_count": 31,
     "metadata": {},
     "output_type": "execute_result"
    }
   ],
   "source": [
    "subset2_missing_cols = subset2.isnull().sum(axis = 0)[subset2.isnull().sum(axis = 0)>0]\n",
    "subset2_missing_cols.sort_values(ascending = False)"
   ]
  },
  {
   "cell_type": "code",
   "execution_count": 32,
   "metadata": {},
   "outputs": [
    {
     "data": {
      "text/plain": [
       "33"
      ]
     },
     "execution_count": 32,
     "metadata": {},
     "output_type": "execute_result"
    }
   ],
   "source": [
    "subset1_col = subset1.isnull().sum(axis = 0)\n",
    "feature_no_missing1 = subset1_col[subset1_col==0].index\n",
    "len(feature_no_missing1)"
   ]
  },
  {
   "cell_type": "code",
   "execution_count": 33,
   "metadata": {
    "scrolled": true
   },
   "outputs": [
    {
     "data": {
      "text/plain": [
       "24"
      ]
     },
     "execution_count": 33,
     "metadata": {},
     "output_type": "execute_result"
    }
   ],
   "source": [
    "subset2_col = subset2.isnull().sum(axis = 0)\n",
    "feature_no_missing2 = subset2_col[subset2_col==0].index\n",
    "len(feature_no_missing2)"
   ]
  },
  {
   "cell_type": "code",
   "execution_count": 34,
   "metadata": {
    "scrolled": true
   },
   "outputs": [
    {
     "data": {
      "text/plain": [
       "{'ANREDE_KZ',\n",
       " 'FINANZTYP',\n",
       " 'FINANZ_ANLEGER',\n",
       " 'FINANZ_HAUSBAUER',\n",
       " 'FINANZ_MINIMALIST',\n",
       " 'FINANZ_SPARER',\n",
       " 'FINANZ_UNAUFFAELLIGER',\n",
       " 'FINANZ_VORSORGER',\n",
       " 'GREEN_AVANTGARDE',\n",
       " 'SEMIO_DOM',\n",
       " 'SEMIO_ERL',\n",
       " 'SEMIO_FAM',\n",
       " 'SEMIO_KAEM',\n",
       " 'SEMIO_KRIT',\n",
       " 'SEMIO_KULT',\n",
       " 'SEMIO_LUST',\n",
       " 'SEMIO_MAT',\n",
       " 'SEMIO_PFLICHT',\n",
       " 'SEMIO_RAT',\n",
       " 'SEMIO_REL',\n",
       " 'SEMIO_SOZ',\n",
       " 'SEMIO_TRADV',\n",
       " 'SEMIO_VERT',\n",
       " 'ZABEOTYP'}"
      ]
     },
     "execution_count": 34,
     "metadata": {},
     "output_type": "execute_result"
    }
   ],
   "source": [
    "# intersection of the features that contains 0 missing values in both subset1 and subset2\n",
    "notnull_features = set(feature_no_missing1) & set(feature_no_missing2)\n",
    "notnull_features "
   ]
  },
  {
   "cell_type": "code",
   "execution_count": 35,
   "metadata": {},
   "outputs": [],
   "source": [
    "selected_features = ['ANREDE_KZ',\n",
    " 'FINANZTYP',\n",
    " 'FINANZ_ANLEGER',\n",
    " 'FINANZ_HAUSBAUER',\n",
    " 'FINANZ_MINIMALIST',\n",
    " 'FINANZ_SPARER',\n",
    " 'FINANZ_UNAUFFAELLIGER',\n",
    " 'FINANZ_VORSORGER',\n",
    " 'CJT_GESAMTTYP']"
   ]
  },
  {
   "cell_type": "code",
   "execution_count": 36,
   "metadata": {},
   "outputs": [
    {
     "data": {
      "image/png": "[encoded data removed]",
      "text/plain": [
       "<matplotlib.figure.Figure at 0x7f22f1fcdc88>"
      ]
     },
     "metadata": {
      "needs_background": "light"
     },
     "output_type": "display_data"
    }
   ],
   "source": [
    "# Compare the distribution of values for at least five columns where there are\n",
    "# no or few missing values, between the two subsets.\n",
    "plt.figure(figsize=(20,70))\n",
    "for i, col in enumerate(selected_features):\n",
    "    plt.subplot(len(selected_features),2,2*i+1)\n",
    "    sns.distplot(subset1[col][subset1[col].notnull()])\n",
    "    plt.title('missing features < 30')\n",
    "    plt.subplot(len(selected_features),2,2*i+2)\n",
    "    sns.distplot(subset2[col][subset2[col].notnull()])\n",
    "    plt.title('missing features >= 30')\n"
   ]
  },
  {
   "cell_type": "markdown",
   "metadata": {},
   "source": [
    "#### Discussion 1.1.3: Assess Missing Data in Each Row\n",
    "\n",
    "There are 93315 rows with >= 25 missing features. From the above distribution of the two subsets, the data with lots of missing values are qualitatively different from data with few or no missing values. And subset2_missing_cols shows that most of the missing features are missing simultaneously in the subset2(subset with more missing values). These mean that these two groups are quite different and should be treat as different clusters."
   ]
  },
  {
   "cell_type": "markdown",
   "metadata": {},
   "source": [
    "### Step 1.2: Select and Re-Encode Features\n",
    "\n",
    "Checking for missing data isn't the only way in which you can prepare a dataset for analysis. Since the unsupervised learning techniques to be used will only work on data that is encoded numerically, you need to make a few encoding changes or additional assumptions to be able to make progress. In addition, while almost all of the values in the dataset are encoded using numbers, not all of them represent numeric values. Check the third column of the feature summary (`feat_info`) for a summary of types of measurement.\n",
    "- For numeric and interval data, these features can be kept without changes.\n",
    "- Most of the variables in the dataset are ordinal in nature. While ordinal values may technically be non-linear in spacing, make the simplifying assumption that the ordinal variables can be treated as being interval in nature (that is, kept without any changes).\n",
    "- Special handling may be necessary for the remaining two variable types: categorical, and 'mixed'.\n",
    "\n",
    "In the first two parts of this sub-step, you will perform an investigation of the categorical and mixed-type features and make a decision on each of them, whether you will keep, drop, or re-encode each. Then, in the last part, you will create a new data frame with only the selected and engineered columns.\n",
    "\n",
    "Data wrangling is often the trickiest part of the data analysis process, and there's a lot of it to be done here. But stick with it: once you're done with this step, you'll be ready to get to the machine learning parts of the project!"
   ]
  },
  {
   "cell_type": "code",
   "execution_count": 37,
   "metadata": {
    "scrolled": false
   },
   "outputs": [
    {
     "data": {
      "text/plain": [
       "['AGER_TYP',\n",
       " 'GEBURTSJAHR',\n",
       " 'TITEL_KZ',\n",
       " 'ALTER_HH',\n",
       " 'KK_KUNDENTYP',\n",
       " 'KBA05_BAUMAX']"
      ]
     },
     "execution_count": 37,
     "metadata": {},
     "output_type": "execute_result"
    }
   ],
   "source": [
    "removed = list(nan_per[nan_per>upper].index)\n",
    "removed"
   ]
  },
  {
   "cell_type": "code",
   "execution_count": 38,
   "metadata": {},
   "outputs": [
    {
     "data": {
      "text/plain": [
       "(85, 4)"
      ]
     },
     "execution_count": 38,
     "metadata": {},
     "output_type": "execute_result"
    }
   ],
   "source": [
    "feat_info.shape"
   ]
  },
  {
   "cell_type": "code",
   "execution_count": 39,
   "metadata": {},
   "outputs": [
    {
     "data": {
      "text/html": [
       "<div>\n",
       "<style scoped>\n",
       "    .dataframe tbody tr th:only-of-type {\n",
       "        vertical-align: middle;\n",
       "    }\n",
       "\n",
       "    .dataframe tbody tr th {\n",
       "        vertical-align: top;\n",
       "    }\n",
       "\n",
       "    .dataframe thead th {\n",
       "        text-align: right;\n",
       "    }\n",
       "</style>\n",
       "<table border=\"1\" class=\"dataframe\">\n",
       "  <thead>\n",
       "    <tr style=\"text-align: right;\">\n",
       "      <th></th>\n",
       "      <th>attribute</th>\n",
       "      <th>information_level</th>\n",
       "      <th>type</th>\n",
       "      <th>missing_or_unknown</th>\n",
       "    </tr>\n",
       "  </thead>\n",
       "  <tbody>\n",
       "    <tr>\n",
       "      <th>0</th>\n",
       "      <td>AGER_TYP</td>\n",
       "      <td>person</td>\n",
       "      <td>categorical</td>\n",
       "      <td>[-1,0]</td>\n",
       "    </tr>\n",
       "    <tr>\n",
       "      <th>1</th>\n",
       "      <td>ALTERSKATEGORIE_GROB</td>\n",
       "      <td>person</td>\n",
       "      <td>ordinal</td>\n",
       "      <td>[-1,0,9]</td>\n",
       "    </tr>\n",
       "    <tr>\n",
       "      <th>2</th>\n",
       "      <td>ANREDE_KZ</td>\n",
       "      <td>person</td>\n",
       "      <td>categorical</td>\n",
       "      <td>[-1,0]</td>\n",
       "    </tr>\n",
       "    <tr>\n",
       "      <th>3</th>\n",
       "      <td>CJT_GESAMTTYP</td>\n",
       "      <td>person</td>\n",
       "      <td>categorical</td>\n",
       "      <td>[0]</td>\n",
       "    </tr>\n",
       "    <tr>\n",
       "      <th>4</th>\n",
       "      <td>FINANZ_MINIMALIST</td>\n",
       "      <td>person</td>\n",
       "      <td>ordinal</td>\n",
       "      <td>[-1]</td>\n",
       "    </tr>\n",
       "  </tbody>\n",
       "</table>\n",
       "</div>"
      ],
      "text/plain": [
       "              attribute information_level         type missing_or_unknown\n",
       "0              AGER_TYP            person  categorical             [-1,0]\n",
       "1  ALTERSKATEGORIE_GROB            person      ordinal           [-1,0,9]\n",
       "2             ANREDE_KZ            person  categorical             [-1,0]\n",
       "3         CJT_GESAMTTYP            person  categorical                [0]\n",
       "4     FINANZ_MINIMALIST            person      ordinal               [-1]"
      ]
     },
     "execution_count": 39,
     "metadata": {},
     "output_type": "execute_result"
    }
   ],
   "source": [
    "feat_info.head()"
   ]
  },
  {
   "cell_type": "code",
   "execution_count": 40,
   "metadata": {
    "scrolled": false
   },
   "outputs": [
    {
     "data": {
      "text/html": [
       "<div>\n",
       "<style scoped>\n",
       "    .dataframe tbody tr th:only-of-type {\n",
       "        vertical-align: middle;\n",
       "    }\n",
       "\n",
       "    .dataframe tbody tr th {\n",
       "        vertical-align: top;\n",
       "    }\n",
       "\n",
       "    .dataframe thead th {\n",
       "        text-align: right;\n",
       "    }\n",
       "</style>\n",
       "<table border=\"1\" class=\"dataframe\">\n",
       "  <thead>\n",
       "    <tr style=\"text-align: right;\">\n",
       "      <th></th>\n",
       "      <th>attribute</th>\n",
       "    </tr>\n",
       "    <tr>\n",
       "      <th>type</th>\n",
       "      <th></th>\n",
       "    </tr>\n",
       "  </thead>\n",
       "  <tbody>\n",
       "    <tr>\n",
       "      <th>categorical</th>\n",
       "      <td>21</td>\n",
       "    </tr>\n",
       "    <tr>\n",
       "      <th>interval</th>\n",
       "      <td>1</td>\n",
       "    </tr>\n",
       "    <tr>\n",
       "      <th>mixed</th>\n",
       "      <td>7</td>\n",
       "    </tr>\n",
       "    <tr>\n",
       "      <th>numeric</th>\n",
       "      <td>7</td>\n",
       "    </tr>\n",
       "    <tr>\n",
       "      <th>ordinal</th>\n",
       "      <td>49</td>\n",
       "    </tr>\n",
       "  </tbody>\n",
       "</table>\n",
       "</div>"
      ],
      "text/plain": [
       "             attribute\n",
       "type                  \n",
       "categorical         21\n",
       "interval             1\n",
       "mixed                7\n",
       "numeric              7\n",
       "ordinal             49"
      ]
     },
     "execution_count": 40,
     "metadata": {},
     "output_type": "execute_result"
    }
   ],
   "source": [
    "feat_info.groupby(['type']).count()[['attribute']]"
   ]
  },
  {
   "cell_type": "code",
   "execution_count": 41,
   "metadata": {},
   "outputs": [
    {
     "data": {
      "text/plain": [
       "type\n",
       "ordinal        49\n",
       "categorical    21\n",
       "numeric         7\n",
       "mixed           7\n",
       "interval        1\n",
       "Name: type, dtype: int64"
      ]
     },
     "execution_count": 41,
     "metadata": {},
     "output_type": "execute_result"
    }
   ],
   "source": [
    "feat_info.groupby(['type'])['type'].count().sort_values(ascending=False)"
   ]
  },
  {
   "cell_type": "code",
   "execution_count": 42,
   "metadata": {},
   "outputs": [
    {
     "data": {
      "text/plain": [
       "'ordinal'"
      ]
     },
     "execution_count": 42,
     "metadata": {},
     "output_type": "execute_result"
    }
   ],
   "source": [
    "feat_info.groupby(['type'])['type'].count().sort_values(ascending=False).index[0]"
   ]
  },
  {
   "cell_type": "code",
   "execution_count": 43,
   "metadata": {},
   "outputs": [
    {
     "data": {
      "text/html": [
       "<div>\n",
       "<style scoped>\n",
       "    .dataframe tbody tr th:only-of-type {\n",
       "        vertical-align: middle;\n",
       "    }\n",
       "\n",
       "    .dataframe tbody tr th {\n",
       "        vertical-align: top;\n",
       "    }\n",
       "\n",
       "    .dataframe thead th {\n",
       "        text-align: right;\n",
       "    }\n",
       "</style>\n",
       "<table border=\"1\" class=\"dataframe\">\n",
       "  <thead>\n",
       "    <tr style=\"text-align: right;\">\n",
       "      <th></th>\n",
       "      <th>attribute</th>\n",
       "    </tr>\n",
       "    <tr>\n",
       "      <th>type</th>\n",
       "      <th></th>\n",
       "    </tr>\n",
       "  </thead>\n",
       "  <tbody>\n",
       "    <tr>\n",
       "      <th>categorical</th>\n",
       "      <td>18</td>\n",
       "    </tr>\n",
       "    <tr>\n",
       "      <th>mixed</th>\n",
       "      <td>6</td>\n",
       "    </tr>\n",
       "    <tr>\n",
       "      <th>numeric</th>\n",
       "      <td>6</td>\n",
       "    </tr>\n",
       "    <tr>\n",
       "      <th>ordinal</th>\n",
       "      <td>49</td>\n",
       "    </tr>\n",
       "  </tbody>\n",
       "</table>\n",
       "</div>"
      ],
      "text/plain": [
       "             attribute\n",
       "type                  \n",
       "categorical         18\n",
       "mixed                6\n",
       "numeric              6\n",
       "ordinal             49"
      ]
     },
     "execution_count": 43,
     "metadata": {},
     "output_type": "execute_result"
    }
   ],
   "source": [
    "# How many features are there of each data type?\n",
    "selected_feat_info = feat_info[~feat_info['attribute'].isin(removed)]\n",
    "selected_feat_info.groupby(['type']).count()[['attribute']]"
   ]
  },
  {
   "cell_type": "markdown",
   "metadata": {},
   "source": [
    "#### Step 1.2.1: Re-Encode Categorical Features\n",
    "\n",
    "For categorical data, you would ordinarily need to encode the levels as dummy variables. Depending on the number of categories, perform one of the following:\n",
    "- For binary (two-level) categoricals that take numeric values, you can keep them without needing to do anything.\n",
    "- There is one binary variable that takes on non-numeric values. For this one, you need to re-encode the values as numbers or create a dummy variable.\n",
    "- For multi-level categoricals (three or more values), you can choose to encode the values using multiple dummy variables (e.g. via [OneHotEncoder](http://scikit-learn.org/stable/modules/generated/sklearn.preprocessing.OneHotEncoder.html)), or (to keep things straightforward) just drop them from the analysis. As always, document your choices in the Discussion section."
   ]
  },
  {
   "cell_type": "code",
   "execution_count": 44,
   "metadata": {},
   "outputs": [],
   "source": [
    "# Assess categorical variables: which are binary, which are multi-level, and\n",
    "# which one needs to be re-encoded?\n",
    "categoricals = list(selected_feat_info[selected_feat_info['type']=='categorical']['attribute'].values)"
   ]
  },
  {
   "cell_type": "code",
   "execution_count": 45,
   "metadata": {
    "scrolled": true
   },
   "outputs": [
    {
     "name": "stdout",
     "output_type": "stream",
     "text": [
      "ANREDE_KZ :  [2 1]\n",
      "CJT_GESAMTTYP :  [5.0 3.0 2.0 4.0 1.0 6.0 nan]\n",
      "FINANZTYP :  [1 6 5 2 4 3]\n",
      "GFK_URLAUBERTYP :  [10.0 1.0 5.0 12.0 9.0 3.0 8.0 11.0 4.0 2.0 7.0 6.0 nan]\n",
      "GREEN_AVANTGARDE :  [0 1]\n",
      "LP_FAMILIE_FEIN :  [5.0 1.0 nan 10.0 2.0 7.0 11.0 8.0 4.0 6.0 9.0 3.0]\n",
      "LP_FAMILIE_GROB :  [3.0 1.0 nan 5.0 2.0 4.0]\n",
      "LP_STATUS_FEIN :  [2.0 3.0 9.0 4.0 1.0 10.0 5.0 8.0 6.0 7.0 nan]\n",
      "LP_STATUS_GROB :  [1.0 2.0 4.0 5.0 3.0 nan]\n",
      "NATIONALITAET_KZ :  [1.0 3.0 2.0 nan]\n",
      "SHOPPER_TYP :  [3.0 2.0 1.0 0.0 nan]\n",
      "SOHO_KZ :  [1.0 0.0]\n",
      "VERS_TYP :  [2.0 1.0 nan]\n",
      "ZABEOTYP :  [5 3 4 1 6 2]\n",
      "GEBAEUDETYP :  [8.0 1.0 3.0 2.0 6.0 4.0 5.0]\n",
      "OST_WEST_KZ :  ['W' 'O']\n",
      "CAMEO_DEUG_2015 :  ['8' '4' '2' '6' '1' '9' '5' '7' nan '3']\n",
      "CAMEO_DEU_2015 :  ['8A' '4C' '2A' '6B' '8C' '4A' '2D' '1A' '1E' '9D' '5C' '8B' '7A' '5D' '9E'\n",
      " nan '9B' '1B' '3D' '4E' '4B' '3C' '5A' '7B' '9A' '6D' '6E' '2C' '7C' '9C'\n",
      " '7D' '5E' '1D' '8D' '6C' '6A' '5B' '4D' '3A' '2B' '7E' '3B' '6F' '5F' '1C']\n"
     ]
    }
   ],
   "source": [
    "_ = subset1[categoricals].apply(lambda x: print(x.name,': ', x.unique()))"
   ]
  },
  {
   "cell_type": "code",
   "execution_count": 46,
   "metadata": {},
   "outputs": [
    {
     "data": {
      "text/plain": [
       "['CJT_GESAMTTYP',\n",
       " 'GFK_URLAUBERTYP',\n",
       " 'LP_FAMILIE_FEIN',\n",
       " 'LP_FAMILIE_GROB',\n",
       " 'LP_STATUS_FEIN',\n",
       " 'LP_STATUS_GROB',\n",
       " 'NATIONALITAET_KZ',\n",
       " 'SHOPPER_TYP',\n",
       " 'VERS_TYP',\n",
       " 'CAMEO_DEUG_2015',\n",
       " 'CAMEO_DEU_2015']"
      ]
     },
     "execution_count": 46,
     "metadata": {},
     "output_type": "execute_result"
    }
   ],
   "source": [
    "list(subset1[categoricals].columns[subset1[categoricals].isnull().any()])"
   ]
  },
  {
   "cell_type": "code",
   "execution_count": 47,
   "metadata": {},
   "outputs": [
    {
     "name": "stderr",
     "output_type": "stream",
     "text": [
      "/opt/conda/lib/python3.6/site-packages/pandas/core/generic.py:5434: SettingWithCopyWarning: \n",
      "A value is trying to be set on a copy of a slice from a DataFrame\n",
      "\n",
      "See the caveats in the documentation: http://pandas.pydata.org/pandas-docs/stable/indexing.html#indexing-view-versus-copy\n",
      "  self._update_inplace(new_data)\n"
     ]
    }
   ],
   "source": [
    "# Re-encode categorical variable(s) to be kept in the analysis.\n",
    "# impute nan values with the most frequent category\n",
    "def impute_nan(df, cat):\n",
    "    for c in cat:\n",
    "        most_frequent = df.groupby([c])[c].count().sort_values(ascending = False).index[0]\n",
    "        df[c].fillna(most_frequent, inplace = True)\n",
    "nan_cols = list(subset1[categoricals].columns[subset1[categoricals].isnull().any()])\n",
    "impute_nan(subset1, nan_cols)"
   ]
  },
  {
   "cell_type": "code",
   "execution_count": 48,
   "metadata": {
    "scrolled": true
   },
   "outputs": [
    {
     "name": "stdout",
     "output_type": "stream",
     "text": [
      "ANREDE_KZ :  [2 1]\n",
      "CJT_GESAMTTYP :  [5.0 3.0 2.0 4.0 1.0 6.0]\n",
      "FINANZTYP :  [1 6 5 2 4 3]\n",
      "GFK_URLAUBERTYP :  [10.0 1.0 5.0 12.0 9.0 3.0 8.0 11.0 4.0 2.0 7.0 6.0]\n",
      "GREEN_AVANTGARDE :  [0 1]\n",
      "LP_FAMILIE_FEIN :  [5.0 1.0 10.0 2.0 7.0 11.0 8.0 4.0 6.0 9.0 3.0]\n",
      "LP_FAMILIE_GROB :  [3.0 1.0 5.0 2.0 4.0]\n",
      "LP_STATUS_FEIN :  [2.0 3.0 9.0 4.0 1.0 10.0 5.0 8.0 6.0 7.0]\n",
      "LP_STATUS_GROB :  [1.0 2.0 4.0 5.0 3.0]\n",
      "NATIONALITAET_KZ :  [1.0 3.0 2.0]\n",
      "SHOPPER_TYP :  [3.0 2.0 1.0 0.0]\n",
      "SOHO_KZ :  [1.0 0.0]\n",
      "VERS_TYP :  [2.0 1.0]\n",
      "ZABEOTYP :  [5 3 4 1 6 2]\n",
      "GEBAEUDETYP :  [8.0 1.0 3.0 2.0 6.0 4.0 5.0]\n",
      "OST_WEST_KZ :  ['W' 'O']\n",
      "CAMEO_DEUG_2015 :  ['8' '4' '2' '6' '1' '9' '5' '7' '3']\n",
      "CAMEO_DEU_2015 :  ['8A' '4C' '2A' '6B' '8C' '4A' '2D' '1A' '1E' '9D' '5C' '8B' '7A' '5D' '9E'\n",
      " '9B' '1B' '3D' '4E' '4B' '3C' '5A' '7B' '9A' '6D' '6E' '2C' '7C' '9C' '7D'\n",
      " '5E' '1D' '8D' '6C' '6A' '5B' '4D' '3A' '2B' '7E' '3B' '6F' '5F' '1C']\n"
     ]
    }
   ],
   "source": [
    "_ = subset1[categoricals].apply(lambda x: print(x.name,': ', x.unique()))"
   ]
  },
  {
   "cell_type": "code",
   "execution_count": 49,
   "metadata": {},
   "outputs": [],
   "source": [
    "# multi-level categoricals (three or more values)\n",
    "multi_cats = [cat for cat in categoricals if len(subset1[cat].unique())>2]"
   ]
  },
  {
   "cell_type": "code",
   "execution_count": 50,
   "metadata": {},
   "outputs": [],
   "source": [
    "subset1_encoded = pd.get_dummies(subset1, prefix=multi_cats, columns = multi_cats)"
   ]
  },
  {
   "cell_type": "code",
   "execution_count": 51,
   "metadata": {},
   "outputs": [],
   "source": [
    "subset1_encoded['OST_WEST_KZ'].replace(['W','O'], [0,1], inplace = True)"
   ]
  },
  {
   "cell_type": "code",
   "execution_count": 52,
   "metadata": {
    "scrolled": false
   },
   "outputs": [
    {
     "data": {
      "text/plain": [
       "(797906, 194)"
      ]
     },
     "execution_count": 52,
     "metadata": {},
     "output_type": "execute_result"
    }
   ],
   "source": [
    "subset1_encoded.shape"
   ]
  },
  {
   "cell_type": "markdown",
   "metadata": {},
   "source": [
    "#### Discussion 1.2.1: Re-Encode Categorical Features\n",
    "\n",
    "All caterorical features were kept. All categorical features with missing values were imputed with most frequent values. Multiple level categorical features were endcoded to multiple dummy variables. Binary categorical feature OST_WEST_KZ was coded to numric values(0,1)."
   ]
  },
  {
   "cell_type": "markdown",
   "metadata": {},
   "source": [
    "#### Step 1.2.2: Engineer Mixed-Type Features\n",
    "\n",
    "There are a handful of features that are marked as \"mixed\" in the feature summary that require special treatment in order to be included in the analysis. There are two in particular that deserve attention; the handling of the rest are up to your own choices:\n",
    "- \"PRAEGENDE_JUGENDJAHRE\" combines information on three dimensions: generation by decade, movement (mainstream vs. avantgarde), and nation (east vs. west). While there aren't enough levels to disentangle east from west, you should create two new variables to capture the other two dimensions: an interval-type variable for decade, and a binary variable for movement.\n",
    "- \"CAMEO_INTL_2015\" combines information on two axes: wealth and life stage. Break up the two-digit codes by their 'tens'-place and 'ones'-place digits into two new ordinal variables (which, for the purposes of this project, is equivalent to just treating them as their raw numeric values).\n",
    "- If you decide to keep or engineer new features around the other mixed-type features, make sure you note your steps in the Discussion section.\n",
    "\n",
    "Be sure to check `Data_Dictionary.md` for the details needed to finish these tasks."
   ]
  },
  {
   "cell_type": "code",
   "execution_count": 53,
   "metadata": {
    "scrolled": true
   },
   "outputs": [
    {
     "data": {
      "text/plain": [
       "['LP_LEBENSPHASE_FEIN',\n",
       " 'LP_LEBENSPHASE_GROB',\n",
       " 'PRAEGENDE_JUGENDJAHRE',\n",
       " 'WOHNLAGE',\n",
       " 'CAMEO_INTL_2015',\n",
       " 'PLZ8_BAUMAX']"
      ]
     },
     "execution_count": 53,
     "metadata": {},
     "output_type": "execute_result"
    }
   ],
   "source": [
    "mixed = list(selected_feat_info[selected_feat_info['type']=='mixed']['attribute'].values)\n",
    "mixed"
   ]
  },
  {
   "cell_type": "code",
   "execution_count": 54,
   "metadata": {},
   "outputs": [],
   "source": [
    "mixed_nan_cols = list(subset1_encoded[mixed].columns[subset1_encoded[mixed].isnull().any()])\n",
    "impute_nan(subset1_encoded, mixed_nan_cols)"
   ]
  },
  {
   "cell_type": "code",
   "execution_count": 55,
   "metadata": {},
   "outputs": [
    {
     "name": "stdout",
     "output_type": "stream",
     "text": [
      "PRAEGENDE_JUGENDJAHRE :  [ 14.  15.   8.   3.  10.  11.   5.   9.   6.   4.   2.   1.  12.  13.   7.]\n"
     ]
    }
   ],
   "source": [
    "# Investigate \"PRAEGENDE_JUGENDJAHRE\" and engineer two new variables.\n",
    "\n",
    "_ = subset1_encoded [['PRAEGENDE_JUGENDJAHRE']].apply(lambda x: print(x.name,': ', x.unique())).sort_values()"
   ]
  },
  {
   "cell_type": "code",
   "execution_count": 56,
   "metadata": {},
   "outputs": [
    {
     "data": {
      "text/plain": [
       "dtype('float64')"
      ]
     },
     "execution_count": 56,
     "metadata": {},
     "output_type": "execute_result"
    }
   ],
   "source": [
    "subset1_encoded.dtypes['PRAEGENDE_JUGENDJAHRE']"
   ]
  },
  {
   "cell_type": "code",
   "execution_count": 57,
   "metadata": {},
   "outputs": [
    {
     "data": {
      "text/html": [
       "<div>\n",
       "<style scoped>\n",
       "    .dataframe tbody tr th:only-of-type {\n",
       "        vertical-align: middle;\n",
       "    }\n",
       "\n",
       "    .dataframe tbody tr th {\n",
       "        vertical-align: top;\n",
       "    }\n",
       "\n",
       "    .dataframe thead th {\n",
       "        text-align: right;\n",
       "    }\n",
       "</style>\n",
       "<table border=\"1\" class=\"dataframe\">\n",
       "  <thead>\n",
       "    <tr style=\"text-align: right;\">\n",
       "      <th></th>\n",
       "      <th>PRAEGENDE_JUGENDJAHRE</th>\n",
       "      <th>PRAEGENDE_JUGENDJAHRE_YOUTH</th>\n",
       "      <th>PRAEGENDE_JUGENDJAHRE_MOVE</th>\n",
       "    </tr>\n",
       "  </thead>\n",
       "  <tbody>\n",
       "    <tr>\n",
       "      <th>1</th>\n",
       "      <td>14.0</td>\n",
       "      <td>90s</td>\n",
       "      <td>Mainstream</td>\n",
       "    </tr>\n",
       "    <tr>\n",
       "      <th>2</th>\n",
       "      <td>15.0</td>\n",
       "      <td>90s</td>\n",
       "      <td>Avantgarde</td>\n",
       "    </tr>\n",
       "    <tr>\n",
       "      <th>3</th>\n",
       "      <td>8.0</td>\n",
       "      <td>70s</td>\n",
       "      <td>Mainstream</td>\n",
       "    </tr>\n",
       "    <tr>\n",
       "      <th>4</th>\n",
       "      <td>8.0</td>\n",
       "      <td>70s</td>\n",
       "      <td>Mainstream</td>\n",
       "    </tr>\n",
       "    <tr>\n",
       "      <th>5</th>\n",
       "      <td>3.0</td>\n",
       "      <td>50s</td>\n",
       "      <td>Mainstream</td>\n",
       "    </tr>\n",
       "  </tbody>\n",
       "</table>\n",
       "</div>"
      ],
      "text/plain": [
       "   PRAEGENDE_JUGENDJAHRE PRAEGENDE_JUGENDJAHRE_YOUTH  \\\n",
       "1                   14.0                         90s   \n",
       "2                   15.0                         90s   \n",
       "3                    8.0                         70s   \n",
       "4                    8.0                         70s   \n",
       "5                    3.0                         50s   \n",
       "\n",
       "  PRAEGENDE_JUGENDJAHRE_MOVE  \n",
       "1                 Mainstream  \n",
       "2                 Avantgarde  \n",
       "3                 Mainstream  \n",
       "4                 Mainstream  \n",
       "5                 Mainstream  "
      ]
     },
     "execution_count": 57,
     "metadata": {},
     "output_type": "execute_result"
    }
   ],
   "source": [
    "def youth(x):\n",
    "    if x in [1, 2]:\n",
    "        return '40s'\n",
    "    elif x in [3, 4]:\n",
    "        return '50s'\n",
    "    elif x in [5, 6, 7]:\n",
    "        return '60s'\n",
    "    elif x in [8, 9]:\n",
    "        return '70s'\n",
    "    elif x in [10, 11, 12, 13]:\n",
    "        return '80s'\n",
    "    else:\n",
    "        return '90s'\n",
    "def move(x):\n",
    "    if x in [1,3,5,8,10,12,14]:\n",
    "        return 'Mainstream'\n",
    "    else:\n",
    "        return 'Avantgarde'\n",
    "subset1_encoded['PRAEGENDE_JUGENDJAHRE_YOUTH'] = subset1_encoded.PRAEGENDE_JUGENDJAHRE.apply(youth)\n",
    "subset1_encoded['PRAEGENDE_JUGENDJAHRE_MOVE'] = subset1_encoded.PRAEGENDE_JUGENDJAHRE.apply(move)\n",
    "subset1_encoded[['PRAEGENDE_JUGENDJAHRE', 'PRAEGENDE_JUGENDJAHRE_YOUTH', 'PRAEGENDE_JUGENDJAHRE_MOVE']].head()"
   ]
  },
  {
   "cell_type": "code",
   "execution_count": 58,
   "metadata": {},
   "outputs": [
    {
     "data": {
      "text/plain": [
       "dtype('O')"
      ]
     },
     "execution_count": 58,
     "metadata": {},
     "output_type": "execute_result"
    }
   ],
   "source": [
    "subset1_encoded.dtypes['CAMEO_INTL_2015']"
   ]
  },
  {
   "cell_type": "code",
   "execution_count": 59,
   "metadata": {},
   "outputs": [
    {
     "name": "stdout",
     "output_type": "stream",
     "text": [
      "CAMEO_INTL_2015 :  ['51' '24' '12' '43' '54' '22' '14' '13' '15' '33' '41' '34' '55' '25' '23'\n",
      " '31' '52' '35' '45' '44' '32']\n"
     ]
    }
   ],
   "source": [
    "# Investigate \"CAMEO_INTL_2015\" and engineer two new variables.\n",
    "_ = subset1_encoded[['CAMEO_INTL_2015']].apply(lambda x: print(x.name,': ', x.unique()))\n"
   ]
  },
  {
   "cell_type": "code",
   "execution_count": 60,
   "metadata": {
    "scrolled": true
   },
   "outputs": [
    {
     "data": {
      "text/html": [
       "<div>\n",
       "<style scoped>\n",
       "    .dataframe tbody tr th:only-of-type {\n",
       "        vertical-align: middle;\n",
       "    }\n",
       "\n",
       "    .dataframe tbody tr th {\n",
       "        vertical-align: top;\n",
       "    }\n",
       "\n",
       "    .dataframe thead th {\n",
       "        text-align: right;\n",
       "    }\n",
       "</style>\n",
       "<table border=\"1\" class=\"dataframe\">\n",
       "  <thead>\n",
       "    <tr style=\"text-align: right;\">\n",
       "      <th></th>\n",
       "      <th>CAMEO_INTL_2015</th>\n",
       "      <th>CAMEO_INTL_2015_WEALTH</th>\n",
       "      <th>CAMEO_INTL_2015_LIFE_STAGE</th>\n",
       "    </tr>\n",
       "  </thead>\n",
       "  <tbody>\n",
       "    <tr>\n",
       "      <th>1</th>\n",
       "      <td>51</td>\n",
       "      <td>5</td>\n",
       "      <td>1</td>\n",
       "    </tr>\n",
       "    <tr>\n",
       "      <th>2</th>\n",
       "      <td>24</td>\n",
       "      <td>2</td>\n",
       "      <td>4</td>\n",
       "    </tr>\n",
       "    <tr>\n",
       "      <th>3</th>\n",
       "      <td>12</td>\n",
       "      <td>1</td>\n",
       "      <td>2</td>\n",
       "    </tr>\n",
       "    <tr>\n",
       "      <th>4</th>\n",
       "      <td>43</td>\n",
       "      <td>4</td>\n",
       "      <td>3</td>\n",
       "    </tr>\n",
       "    <tr>\n",
       "      <th>5</th>\n",
       "      <td>54</td>\n",
       "      <td>5</td>\n",
       "      <td>4</td>\n",
       "    </tr>\n",
       "  </tbody>\n",
       "</table>\n",
       "</div>"
      ],
      "text/plain": [
       "  CAMEO_INTL_2015 CAMEO_INTL_2015_WEALTH CAMEO_INTL_2015_LIFE_STAGE\n",
       "1              51                      5                          1\n",
       "2              24                      2                          4\n",
       "3              12                      1                          2\n",
       "4              43                      4                          3\n",
       "5              54                      5                          4"
      ]
     },
     "execution_count": 60,
     "metadata": {},
     "output_type": "execute_result"
    }
   ],
   "source": [
    "subset1_encoded['CAMEO_INTL_2015_WEALTH'] = subset1_encoded['CAMEO_INTL_2015'].str[0]\n",
    "subset1_encoded['CAMEO_INTL_2015_LIFE_STAGE'] = subset1_encoded['CAMEO_INTL_2015'].str[1]\n",
    "subset1_encoded[['CAMEO_INTL_2015', 'CAMEO_INTL_2015_WEALTH', 'CAMEO_INTL_2015_LIFE_STAGE']].head()"
   ]
  },
  {
   "cell_type": "code",
   "execution_count": 61,
   "metadata": {},
   "outputs": [
    {
     "data": {
      "text/plain": [
       "(797906, 198)"
      ]
     },
     "execution_count": 61,
     "metadata": {},
     "output_type": "execute_result"
    }
   ],
   "source": [
    "subset1_encoded.shape"
   ]
  },
  {
   "cell_type": "code",
   "execution_count": 62,
   "metadata": {},
   "outputs": [],
   "source": [
    "subset1_encoded.drop(['PRAEGENDE_JUGENDJAHRE','CAMEO_INTL_2015'], axis = 1, inplace = True)"
   ]
  },
  {
   "cell_type": "code",
   "execution_count": 63,
   "metadata": {
    "scrolled": true
   },
   "outputs": [
    {
     "data": {
      "text/plain": [
       "(797906, 196)"
      ]
     },
     "execution_count": 63,
     "metadata": {},
     "output_type": "execute_result"
    }
   ],
   "source": [
    "subset1_encoded.shape"
   ]
  },
  {
   "cell_type": "code",
   "execution_count": 64,
   "metadata": {},
   "outputs": [],
   "source": [
    "new_cols = ['PRAEGENDE_JUGENDJAHRE_YOUTH','PRAEGENDE_JUGENDJAHRE_MOVE','CAMEO_INTL_2015_WEALTH','CAMEO_INTL_2015_LIFE_STAGE']"
   ]
  },
  {
   "cell_type": "code",
   "execution_count": 65,
   "metadata": {},
   "outputs": [],
   "source": [
    "subset1_encoded = pd.get_dummies(subset1_encoded, prefix=new_cols, columns = new_cols)"
   ]
  },
  {
   "cell_type": "code",
   "execution_count": 66,
   "metadata": {},
   "outputs": [
    {
     "data": {
      "text/plain": [
       "(797906, 210)"
      ]
     },
     "execution_count": 66,
     "metadata": {},
     "output_type": "execute_result"
    }
   ],
   "source": [
    "subset1_encoded.shape"
   ]
  },
  {
   "cell_type": "markdown",
   "metadata": {},
   "source": [
    "#### Discussion 1.2.2: Engineer Mixed-Type Features\n",
    "\n",
    "Each of two mixed-type features was parsed into two new numeric features.PRAEGENDE_JUGENDJAHRE was parsed to create PRAEGENDE_JUGENDJAHRE_YOUTH and PRAEGENDE_JUGENDJAHRE_MOVE. CAMEO_INTL_2015 was parsed to create CAMEO_INTL_2015_WEALTH and CAMEO_INTL_2015_LIFE_STAGE. The newly created string type variables were encoded into dummy variables."
   ]
  },
  {
   "cell_type": "markdown",
   "metadata": {},
   "source": [
    "#### Step 1.2.3: Complete Feature Selection\n",
    "\n",
    "In order to finish this step up, you need to make sure that your data frame now only has the columns that you want to keep. To summarize, the dataframe should consist of the following:\n",
    "- All numeric, interval, and ordinal type columns from the original dataset.\n",
    "- Binary categorical features (all numerically-encoded).\n",
    "- Engineered features from other multi-level categorical features and mixed features.\n",
    "\n",
    "Make sure that for any new columns that you have engineered, that you've excluded the original columns from the final dataset. Otherwise, their values will interfere with the analysis later on the project. For example, you should not keep \"PRAEGENDE_JUGENDJAHRE\", since its values won't be useful for the algorithm: only the values derived from it in the engineered features you created should be retained. As a reminder, your data should only be from **the subset with few or no missing values**."
   ]
  },
  {
   "cell_type": "code",
   "execution_count": 67,
   "metadata": {},
   "outputs": [
    {
     "data": {
      "text/plain": [
       "ALTERSKATEGORIE_GROB                     float64\n",
       "ANREDE_KZ                                  int64\n",
       "FINANZ_MINIMALIST                          int64\n",
       "FINANZ_SPARER                              int64\n",
       "FINANZ_VORSORGER                           int64\n",
       "FINANZ_ANLEGER                             int64\n",
       "FINANZ_UNAUFFAELLIGER                      int64\n",
       "FINANZ_HAUSBAUER                           int64\n",
       "GREEN_AVANTGARDE                           int64\n",
       "HEALTH_TYP                               float64\n",
       "LP_LEBENSPHASE_FEIN                      float64\n",
       "LP_LEBENSPHASE_GROB                      float64\n",
       "RETOURTYP_BK_S                           float64\n",
       "SEMIO_SOZ                                  int64\n",
       "SEMIO_FAM                                  int64\n",
       "SEMIO_REL                                  int64\n",
       "SEMIO_MAT                                  int64\n",
       "SEMIO_VERT                                 int64\n",
       "SEMIO_LUST                                 int64\n",
       "SEMIO_ERL                                  int64\n",
       "SEMIO_KULT                                 int64\n",
       "SEMIO_RAT                                  int64\n",
       "SEMIO_KRIT                                 int64\n",
       "SEMIO_DOM                                  int64\n",
       "SEMIO_KAEM                                 int64\n",
       "SEMIO_PFLICHT                              int64\n",
       "SEMIO_TRADV                                int64\n",
       "SOHO_KZ                                  float64\n",
       "VERS_TYP                                 float64\n",
       "ANZ_PERSONEN                             float64\n",
       "ANZ_TITEL                                float64\n",
       "HH_EINKOMMEN_SCORE                       float64\n",
       "W_KEIT_KIND_HH                           float64\n",
       "WOHNDAUER_2008                           float64\n",
       "ANZ_HAUSHALTE_AKTIV                      float64\n",
       "ANZ_HH_TITEL                             float64\n",
       "KONSUMNAEHE                              float64\n",
       "MIN_GEBAEUDEJAHR                         float64\n",
       "OST_WEST_KZ                                int64\n",
       "WOHNLAGE                                 float64\n",
       "KBA05_ANTG1                              float64\n",
       "KBA05_ANTG2                              float64\n",
       "KBA05_ANTG3                              float64\n",
       "KBA05_ANTG4                              float64\n",
       "KBA05_GBZ                                float64\n",
       "BALLRAUM                                 float64\n",
       "EWDICHTE                                 float64\n",
       "INNENSTADT                               float64\n",
       "GEBAEUDETYP_RASTER                       float64\n",
       "KKK                                      float64\n",
       "MOBI_REGIO                               float64\n",
       "ONLINE_AFFINITAET                        float64\n",
       "REGIOTYP                                 float64\n",
       "KBA13_ANZAHL_PKW                         float64\n",
       "PLZ8_ANTG1                               float64\n",
       "PLZ8_ANTG2                               float64\n",
       "PLZ8_ANTG3                               float64\n",
       "PLZ8_ANTG4                               float64\n",
       "PLZ8_BAUMAX                              float64\n",
       "PLZ8_HHZ                                 float64\n",
       "PLZ8_GBZ                                 float64\n",
       "ARBEIT                                   float64\n",
       "ORTSGR_KLS9                              float64\n",
       "RELAT_AB                                 float64\n",
       "CJT_GESAMTTYP_1.0                          uint8\n",
       "CJT_GESAMTTYP_2.0                          uint8\n",
       "CJT_GESAMTTYP_3.0                          uint8\n",
       "CJT_GESAMTTYP_4.0                          uint8\n",
       "CJT_GESAMTTYP_5.0                          uint8\n",
       "CJT_GESAMTTYP_6.0                          uint8\n",
       "FINANZTYP_1                                uint8\n",
       "FINANZTYP_2                                uint8\n",
       "FINANZTYP_3                                uint8\n",
       "FINANZTYP_4                                uint8\n",
       "FINANZTYP_5                                uint8\n",
       "FINANZTYP_6                                uint8\n",
       "GFK_URLAUBERTYP_1.0                        uint8\n",
       "GFK_URLAUBERTYP_2.0                        uint8\n",
       "GFK_URLAUBERTYP_3.0                        uint8\n",
       "GFK_URLAUBERTYP_4.0                        uint8\n",
       "GFK_URLAUBERTYP_5.0                        uint8\n",
       "GFK_URLAUBERTYP_6.0                        uint8\n",
       "GFK_URLAUBERTYP_7.0                        uint8\n",
       "GFK_URLAUBERTYP_8.0                        uint8\n",
       "GFK_URLAUBERTYP_9.0                        uint8\n",
       "GFK_URLAUBERTYP_10.0                       uint8\n",
       "GFK_URLAUBERTYP_11.0                       uint8\n",
       "GFK_URLAUBERTYP_12.0                       uint8\n",
       "LP_FAMILIE_FEIN_1.0                        uint8\n",
       "LP_FAMILIE_FEIN_2.0                        uint8\n",
       "LP_FAMILIE_FEIN_3.0                        uint8\n",
       "LP_FAMILIE_FEIN_4.0                        uint8\n",
       "LP_FAMILIE_FEIN_5.0                        uint8\n",
       "LP_FAMILIE_FEIN_6.0                        uint8\n",
       "LP_FAMILIE_FEIN_7.0                        uint8\n",
       "LP_FAMILIE_FEIN_8.0                        uint8\n",
       "LP_FAMILIE_FEIN_9.0                        uint8\n",
       "LP_FAMILIE_FEIN_10.0                       uint8\n",
       "LP_FAMILIE_FEIN_11.0                       uint8\n",
       "LP_FAMILIE_GROB_1.0                        uint8\n",
       "LP_FAMILIE_GROB_2.0                        uint8\n",
       "LP_FAMILIE_GROB_3.0                        uint8\n",
       "LP_FAMILIE_GROB_4.0                        uint8\n",
       "LP_FAMILIE_GROB_5.0                        uint8\n",
       "LP_STATUS_FEIN_1.0                         uint8\n",
       "LP_STATUS_FEIN_2.0                         uint8\n",
       "LP_STATUS_FEIN_3.0                         uint8\n",
       "LP_STATUS_FEIN_4.0                         uint8\n",
       "LP_STATUS_FEIN_5.0                         uint8\n",
       "LP_STATUS_FEIN_6.0                         uint8\n",
       "LP_STATUS_FEIN_7.0                         uint8\n",
       "LP_STATUS_FEIN_8.0                         uint8\n",
       "LP_STATUS_FEIN_9.0                         uint8\n",
       "LP_STATUS_FEIN_10.0                        uint8\n",
       "LP_STATUS_GROB_1.0                         uint8\n",
       "LP_STATUS_GROB_2.0                         uint8\n",
       "LP_STATUS_GROB_3.0                         uint8\n",
       "LP_STATUS_GROB_4.0                         uint8\n",
       "LP_STATUS_GROB_5.0                         uint8\n",
       "NATIONALITAET_KZ_1.0                       uint8\n",
       "NATIONALITAET_KZ_2.0                       uint8\n",
       "NATIONALITAET_KZ_3.0                       uint8\n",
       "SHOPPER_TYP_0.0                            uint8\n",
       "SHOPPER_TYP_1.0                            uint8\n",
       "SHOPPER_TYP_2.0                            uint8\n",
       "SHOPPER_TYP_3.0                            uint8\n",
       "ZABEOTYP_1                                 uint8\n",
       "ZABEOTYP_2                                 uint8\n",
       "ZABEOTYP_3                                 uint8\n",
       "ZABEOTYP_4                                 uint8\n",
       "ZABEOTYP_5                                 uint8\n",
       "ZABEOTYP_6                                 uint8\n",
       "GEBAEUDETYP_1.0                            uint8\n",
       "GEBAEUDETYP_2.0                            uint8\n",
       "GEBAEUDETYP_3.0                            uint8\n",
       "GEBAEUDETYP_4.0                            uint8\n",
       "GEBAEUDETYP_5.0                            uint8\n",
       "GEBAEUDETYP_6.0                            uint8\n",
       "GEBAEUDETYP_8.0                            uint8\n",
       "CAMEO_DEUG_2015_1                          uint8\n",
       "CAMEO_DEUG_2015_2                          uint8\n",
       "CAMEO_DEUG_2015_3                          uint8\n",
       "CAMEO_DEUG_2015_4                          uint8\n",
       "CAMEO_DEUG_2015_5                          uint8\n",
       "CAMEO_DEUG_2015_6                          uint8\n",
       "CAMEO_DEUG_2015_7                          uint8\n",
       "CAMEO_DEUG_2015_8                          uint8\n",
       "CAMEO_DEUG_2015_9                          uint8\n",
       "CAMEO_DEU_2015_1A                          uint8\n",
       "CAMEO_DEU_2015_1B                          uint8\n",
       "CAMEO_DEU_2015_1C                          uint8\n",
       "CAMEO_DEU_2015_1D                          uint8\n",
       "CAMEO_DEU_2015_1E                          uint8\n",
       "CAMEO_DEU_2015_2A                          uint8\n",
       "CAMEO_DEU_2015_2B                          uint8\n",
       "CAMEO_DEU_2015_2C                          uint8\n",
       "CAMEO_DEU_2015_2D                          uint8\n",
       "CAMEO_DEU_2015_3A                          uint8\n",
       "CAMEO_DEU_2015_3B                          uint8\n",
       "CAMEO_DEU_2015_3C                          uint8\n",
       "CAMEO_DEU_2015_3D                          uint8\n",
       "CAMEO_DEU_2015_4A                          uint8\n",
       "CAMEO_DEU_2015_4B                          uint8\n",
       "CAMEO_DEU_2015_4C                          uint8\n",
       "CAMEO_DEU_2015_4D                          uint8\n",
       "CAMEO_DEU_2015_4E                          uint8\n",
       "CAMEO_DEU_2015_5A                          uint8\n",
       "CAMEO_DEU_2015_5B                          uint8\n",
       "CAMEO_DEU_2015_5C                          uint8\n",
       "CAMEO_DEU_2015_5D                          uint8\n",
       "CAMEO_DEU_2015_5E                          uint8\n",
       "CAMEO_DEU_2015_5F                          uint8\n",
       "CAMEO_DEU_2015_6A                          uint8\n",
       "CAMEO_DEU_2015_6B                          uint8\n",
       "CAMEO_DEU_2015_6C                          uint8\n",
       "CAMEO_DEU_2015_6D                          uint8\n",
       "CAMEO_DEU_2015_6E                          uint8\n",
       "CAMEO_DEU_2015_6F                          uint8\n",
       "CAMEO_DEU_2015_7A                          uint8\n",
       "CAMEO_DEU_2015_7B                          uint8\n",
       "CAMEO_DEU_2015_7C                          uint8\n",
       "CAMEO_DEU_2015_7D                          uint8\n",
       "CAMEO_DEU_2015_7E                          uint8\n",
       "CAMEO_DEU_2015_8A                          uint8\n",
       "CAMEO_DEU_2015_8B                          uint8\n",
       "CAMEO_DEU_2015_8C                          uint8\n",
       "CAMEO_DEU_2015_8D                          uint8\n",
       "CAMEO_DEU_2015_9A                          uint8\n",
       "CAMEO_DEU_2015_9B                          uint8\n",
       "CAMEO_DEU_2015_9C                          uint8\n",
       "CAMEO_DEU_2015_9D                          uint8\n",
       "CAMEO_DEU_2015_9E                          uint8\n",
       "PRAEGENDE_JUGENDJAHRE_YOUTH_40s            uint8\n",
       "PRAEGENDE_JUGENDJAHRE_YOUTH_50s            uint8\n",
       "PRAEGENDE_JUGENDJAHRE_YOUTH_60s            uint8\n",
       "PRAEGENDE_JUGENDJAHRE_YOUTH_70s            uint8\n",
       "PRAEGENDE_JUGENDJAHRE_YOUTH_80s            uint8\n",
       "PRAEGENDE_JUGENDJAHRE_YOUTH_90s            uint8\n",
       "PRAEGENDE_JUGENDJAHRE_MOVE_Avantgarde      uint8\n",
       "PRAEGENDE_JUGENDJAHRE_MOVE_Mainstream      uint8\n",
       "CAMEO_INTL_2015_WEALTH_1                   uint8\n",
       "CAMEO_INTL_2015_WEALTH_2                   uint8\n",
       "CAMEO_INTL_2015_WEALTH_3                   uint8\n",
       "CAMEO_INTL_2015_WEALTH_4                   uint8\n",
       "CAMEO_INTL_2015_WEALTH_5                   uint8\n",
       "CAMEO_INTL_2015_LIFE_STAGE_1               uint8\n",
       "CAMEO_INTL_2015_LIFE_STAGE_2               uint8\n",
       "CAMEO_INTL_2015_LIFE_STAGE_3               uint8\n",
       "CAMEO_INTL_2015_LIFE_STAGE_4               uint8\n",
       "CAMEO_INTL_2015_LIFE_STAGE_5               uint8\n",
       "dtype: object"
      ]
     },
     "execution_count": 67,
     "metadata": {},
     "output_type": "execute_result"
    }
   ],
   "source": [
    "# If there are other re-engineering tasks you need to perform, make sure you\n",
    "# take care of them here. (Dealing with missing data will come in step 2.1.)\n",
    "\n",
    "pd.set_option('display.max_rows', None)\n",
    "subset1_encoded.dtypes"
   ]
  },
  {
   "cell_type": "code",
   "execution_count": 68,
   "metadata": {},
   "outputs": [
    {
     "data": {
      "text/plain": [
       "(797906, 210)"
      ]
     },
     "execution_count": 68,
     "metadata": {},
     "output_type": "execute_result"
    }
   ],
   "source": [
    "# Do whatever you need to in order to ensure that the dataframe only contains\n",
    "# the columns that should be passed to the algorithm functions.\n",
    "\n",
    "subset1_encoded.shape"
   ]
  },
  {
   "cell_type": "markdown",
   "metadata": {},
   "source": [
    "### Step 1.3: Create a Cleaning Function\n",
    "\n",
    "Even though you've finished cleaning up the general population demographics data, it's important to look ahead to the future and realize that you'll need to perform the same cleaning steps on the customer demographics data. In this substep, complete the function below to execute the main feature selection, encoding, and re-engineering steps you performed above. Then, when it comes to looking at the customer data in Step 3, you can just run this function on that DataFrame to get the trimmed dataset in a single step."
   ]
  },
  {
   "cell_type": "code",
   "execution_count": 104,
   "metadata": {},
   "outputs": [],
   "source": [
    "def clean_data(df):\n",
    "    \"\"\"\n",
    "    Perform feature trimming, re-encoding, and engineering for demographics\n",
    "    data\n",
    "    \n",
    "    INPUT: Demographics DataFrame\n",
    "    OUTPUT: Trimmed and cleaned demographics DataFrame\n",
    "    \"\"\"\n",
    "    \n",
    "    # Put in code here to execute all main cleaning steps:\n",
    "    # convert missing value codes into NaNs, ...\n",
    "    for i, col in enumerate(df.columns):\n",
    "        str_val = feat_info['missing_or_unknown'].iloc[i]\n",
    "        if i in [57, 58, 59]:\n",
    "            lst = str_val[1:-1].split(',')\n",
    "        else:\n",
    "            lst = ast.literal_eval(str_val)\n",
    "        for val in lst:\n",
    "            df[col].replace(val, np.nan, inplace = True)\n",
    "\n",
    "    \n",
    "    # remove selected columns and rows, ...\n",
    "    # remove columns with too many nans\n",
    "    df.drop(list(nan_per[nan_per>upper].index), axis = 1, inplace = True)\n",
    "    # seperate based on number of nans in rows\n",
    "    df_nan = df.isnull().sum(axis = 1)\n",
    "    cus_subset1 = df[df_nan<25]\n",
    "    cus_subset2 = df[df_nan>=25]\n",
    "\n",
    "    \n",
    "    # select, re-encode, and engineer column values.\n",
    "    #impute nan with most frequent value in general data\n",
    "    categoricals = list(selected_feat_info[selected_feat_info['type']=='categorical']['attribute'].values)\n",
    "    nan_cols = list(cus_subset1[categoricals].columns[cus_subset1[categoricals].isnull().any()])\n",
    "    for c in nan_cols:\n",
    "        most_frequent = subset1.groupby([c])[c].count().sort_values(ascending = False).index[0]\n",
    "        cus_subset1[c].fillna(most_frequent, inplace = True)\n",
    "\n",
    "    # encode multi level categorical features\n",
    "    multi_cats = [cat for cat in categoricals if len(cus_subset1[cat].unique())>2]\n",
    "    cus_subset1_encoded = pd.get_dummies(cus_subset1, prefix=multi_cats, columns = multi_cats)\n",
    "    cus_subset1_encoded['OST_WEST_KZ'].replace(['W','O'], [0,1], inplace = True)\n",
    "    \n",
    "    # encode mixed features\n",
    "    cus_mixed_nan_cols = list(cus_subset1_encoded[mixed].columns[cus_subset1_encoded[mixed].isnull().any()])\n",
    "    impute_nan(cus_subset1_encoded, cus_mixed_nan_cols)\n",
    "    cus_subset1_encoded['PRAEGENDE_JUGENDJAHRE_YOUTH'] = cus_subset1_encoded.PRAEGENDE_JUGENDJAHRE.apply(youth)\n",
    "    cus_subset1_encoded['PRAEGENDE_JUGENDJAHRE_MOVE'] = cus_subset1_encoded.PRAEGENDE_JUGENDJAHRE.apply(move)\n",
    "\n",
    "    cus_subset1_encoded['CAMEO_INTL_2015_WEALTH'] = cus_subset1_encoded['CAMEO_INTL_2015'].str[0]\n",
    "    cus_subset1_encoded['CAMEO_INTL_2015_LIFE_STAGE'] = cus_subset1_encoded['CAMEO_INTL_2015'].str[1]\n",
    "\n",
    "    cus_subset1_encoded.drop(['PRAEGENDE_JUGENDJAHRE','CAMEO_INTL_2015'], axis = 1, inplace = True)\n",
    "\n",
    "    new_cols = ['PRAEGENDE_JUGENDJAHRE_YOUTH','PRAEGENDE_JUGENDJAHRE_MOVE','CAMEO_INTL_2015_WEALTH','CAMEO_INTL_2015_LIFE_STAGE']\n",
    "    cus_subset1_encoded = pd.get_dummies(cus_subset1_encoded, prefix=new_cols, columns = new_cols)\n",
    "\n",
    "    \n",
    "    # Return the cleaned dataframe.\n",
    "    return cus_subset1_encoded, cus_subset2\n",
    "    "
   ]
  },
  {
   "cell_type": "markdown",
   "metadata": {},
   "source": [
    "## Step 2: Feature Transformation\n",
    "\n",
    "### Step 2.1: Apply Feature Scaling\n",
    "\n",
    "Before we apply dimensionality reduction techniques to the data, we need to perform feature scaling so that the principal component vectors are not influenced by the natural differences in scale for features. Starting from this part of the project, you'll want to keep an eye on the [API reference page for sklearn](http://scikit-learn.org/stable/modules/classes.html) to help you navigate to all of the classes and functions that you'll need. In this substep, you'll need to check the following:\n",
    "\n",
    "- sklearn requires that data not have missing values in order for its estimators to work properly. So, before applying the scaler to your data, make sure that you've cleaned the DataFrame of the remaining missing values. This can be as simple as just removing all data points with missing data, or applying an [Imputer](http://scikit-learn.org/stable/modules/generated/sklearn.preprocessing.Imputer.html) to replace all missing values. You might also try a more complicated procedure where you temporarily remove missing values in order to compute the scaling parameters before re-introducing those missing values and applying imputation. Think about how much missing data you have and what possible effects each approach might have on your analysis, and justify your decision in the discussion section below.\n",
    "- For the actual scaling function, a [StandardScaler](http://scikit-learn.org/stable/modules/generated/sklearn.preprocessing.StandardScaler.html) instance is suggested, scaling each feature to mean 0 and standard deviation 1.\n",
    "- For these classes, you can make use of the `.fit_transform()` method to both fit a procedure to the data as well as apply the transformation to the data at the same time. Don't forget to keep the fit sklearn objects handy, since you'll be applying them to the customer demographics data towards the end of the project."
   ]
  },
  {
   "cell_type": "code",
   "execution_count": 87,
   "metadata": {},
   "outputs": [
    {
     "data": {
      "text/plain": [
       "30"
      ]
     },
     "execution_count": 87,
     "metadata": {},
     "output_type": "execute_result"
    }
   ],
   "source": [
    "# If you've not yet cleaned the dataset of all NaN values, then investigate and\n",
    "# do that now.\n",
    "from sklearn.preprocessing import Imputer, StandardScaler\n",
    "subset1_encoded.isnull().any().sum()"
   ]
  },
  {
   "cell_type": "code",
   "execution_count": 88,
   "metadata": {},
   "outputs": [],
   "source": [
    "imp = Imputer(missing_values=np.nan, strategy='mean', axis=0)\n",
    "imputed_subset1 = pd.DataFrame(imp.fit_transform(subset1_encoded))\n",
    "imputed_subset1.columns = subset1_encoded.columns\n",
    "imputed_subset1.index = subset1_encoded.index"
   ]
  },
  {
   "cell_type": "code",
   "execution_count": 89,
   "metadata": {},
   "outputs": [
    {
     "data": {
      "text/plain": [
       "0"
      ]
     },
     "execution_count": 89,
     "metadata": {},
     "output_type": "execute_result"
    }
   ],
   "source": [
    "imputed_subset1.isnull().any().sum()"
   ]
  },
  {
   "cell_type": "code",
   "execution_count": 90,
   "metadata": {},
   "outputs": [],
   "source": [
    "# Apply feature scaling to the general population demographics data.\n",
    "st_scaler = StandardScaler()"
   ]
  },
  {
   "cell_type": "code",
   "execution_count": 91,
   "metadata": {},
   "outputs": [],
   "source": [
    "numeric = list(selected_feat_info[selected_feat_info['type']=='numeric']['attribute'].values)"
   ]
  },
  {
   "cell_type": "code",
   "execution_count": 92,
   "metadata": {},
   "outputs": [],
   "source": [
    "# apply standard scaler to numeric features\n",
    "imputed_subset1[numeric] = st_scaler.fit_transform(imputed_subset1[numeric])"
   ]
  },
  {
   "cell_type": "markdown",
   "metadata": {},
   "source": [
    "### Discussion 2.1: Apply Feature Scaling\n",
    "\n",
    "Imputer was used to replace remaining NaN values with mean.\n",
    "\n",
    "StandardScaler method was used to scale numeric feature to mean 0 and standard deviation 1."
   ]
  },
  {
   "cell_type": "markdown",
   "metadata": {},
   "source": [
    "### Step 2.2: Perform Dimensionality Reduction\n",
    "\n",
    "On your scaled data, you are now ready to apply dimensionality reduction techniques.\n",
    "\n",
    "- Use sklearn's [PCA](http://scikit-learn.org/stable/modules/generated/sklearn.decomposition.PCA.html) class to apply principal component analysis on the data, thus finding the vectors of maximal variance in the data. To start, you should not set any parameters (so all components are computed) or set a number of components that is at least half the number of features (so there's enough features to see the general trend in variability).\n",
    "- Check out the ratio of variance explained by each principal component as well as the cumulative variance explained. Try plotting the cumulative or sequential values using matplotlib's [`plot()`](https://matplotlib.org/api/_as_gen/matplotlib.pyplot.plot.html) function. Based on what you find, select a value for the number of transformed features you'll retain for the clustering part of the project.\n",
    "- Once you've made a choice for the number of components to keep, make sure you re-fit a PCA instance to perform the decided-on transformation."
   ]
  },
  {
   "cell_type": "code",
   "execution_count": 93,
   "metadata": {},
   "outputs": [
    {
     "data": {
      "text/plain": [
       "(797906, 210)"
      ]
     },
     "execution_count": 93,
     "metadata": {},
     "output_type": "execute_result"
    }
   ],
   "source": [
    "imputed_subset1.shape"
   ]
  },
  {
   "cell_type": "code",
   "execution_count": 94,
   "metadata": {},
   "outputs": [],
   "source": [
    "# Apply PCA to the data.\n",
    "from sklearn.decomposition import PCA\n",
    "\n",
    "pca = PCA()\n",
    "azdias_pca = pca.fit_transform(imputed_subset1)"
   ]
  },
  {
   "cell_type": "code",
   "execution_count": 95,
   "metadata": {
    "scrolled": true
   },
   "outputs": [
    {
     "data": {
      "text/plain": [
       "Text(0.5,1,'cumulative % explained variance of components')"
      ]
     },
     "execution_count": 95,
     "metadata": {},
     "output_type": "execute_result"
    },
    {
     "data": {
      "image/png": "[encoded data removed]",
      "text/plain": [
       "<matplotlib.figure.Figure at 0x7f22e8ac45c0>"
      ]
     },
     "metadata": {
      "needs_background": "light"
     },
     "output_type": "display_data"
    }
   ],
   "source": [
    "# Investigate the variance accounted for by each principal component.\n",
    "components_num = imputed_subset1.shape[1]\n",
    "explained_ratio = pca.explained_variance_ratio_\n",
    "\n",
    "plt.figure(1, figsize=(15, 4))\n",
    "plt.subplot(1,2,1)\n",
    "plt.bar(list(range(1,components_num+1)), explained_ratio)\n",
    "plt.xlabel('number of components')\n",
    "plt.ylabel('% explained variance')\n",
    "plt.title('% explained variance of components')\n",
    "\n",
    "plt.subplot(1,2,2)\n",
    "plt.bar(list(range(1,components_num+1)), np.cumsum(explained_ratio))\n",
    "plt.xlabel('number of components')\n",
    "plt.ylabel('% explained variance')\n",
    "plt.title('cumulative % explained variance of components')\n"
   ]
  },
  {
   "cell_type": "code",
   "execution_count": 96,
   "metadata": {},
   "outputs": [
    {
     "data": {
      "text/plain": [
       "0.9674682600395248"
      ]
     },
     "execution_count": 96,
     "metadata": {},
     "output_type": "execute_result"
    }
   ],
   "source": [
    "np.cumsum(pca.explained_variance_ratio_)[50]"
   ]
  },
  {
   "cell_type": "code",
   "execution_count": 97,
   "metadata": {},
   "outputs": [],
   "source": [
    "# Re-apply PCA to the data while selecting for number of components to retain.\n",
    "pca = PCA(n_components=50)\n",
    "azdias_pca = pca.fit_transform(imputed_subset1)\n"
   ]
  },
  {
   "cell_type": "markdown",
   "metadata": {},
   "source": [
    "### Discussion 2.2: Perform Dimensionality Reduction\n",
    "\n",
    "More than 96% variance was explained by the first 50 principal components. The variance explained by the remaining principal components is little. This could be considered as a good stopping point where additonal principal components do not contribute much to the explained variance. Based on above justifications, 50 principal components were kept for the next step of the analysis."
   ]
  },
  {
   "cell_type": "markdown",
   "metadata": {},
   "source": [
    "### Step 2.3: Interpret Principal Components\n",
    "\n",
    "Now that we have our transformed principal components, it's a nice idea to check out the weight of each variable on the first few components to see if they can be interpreted in some fashion.\n",
    "\n",
    "As a reminder, each principal component is a unit vector that points in the direction of highest variance (after accounting for the variance captured by earlier principal components). The further a weight is from zero, the more the principal component is in the direction of the corresponding feature. If two features have large weights of the same sign (both positive or both negative), then increases in one tend expect to be associated with increases in the other. To contrast, features with different signs can be expected to show a negative correlation: increases in one variable should result in a decrease in the other.\n",
    "\n",
    "- To investigate the features, you should map each weight to their corresponding feature name, then sort the features according to weight. The most interesting features for each principal component, then, will be those at the beginning and end of the sorted list. Use the data dictionary document to help you understand these most prominent features, their relationships, and what a positive or negative value on the principal component might indicate.\n",
    "- You should investigate and interpret feature associations from the first three principal components in this substep. To help facilitate this, you should write a function that you can call at any time to print the sorted list of feature weights, for the *i*-th principal component. This might come in handy in the next step of the project, when you interpret the tendencies of the discovered clusters."
   ]
  },
  {
   "cell_type": "code",
   "execution_count": 98,
   "metadata": {},
   "outputs": [
    {
     "name": "stdout",
     "output_type": "stream",
     "text": [
      "                                       Principal_component_1\n",
      "LP_LEBENSPHASE_FEIN                             9.413740e-01\n",
      "LP_LEBENSPHASE_GROB                             2.761175e-01\n",
      "ANZ_PERSONEN                                    5.704563e-02\n",
      "ONLINE_AFFINITAET                               4.695407e-02\n",
      "FINANZ_MINIMALIST                               4.221012e-02\n",
      "MOBI_REGIO                                      4.193517e-02\n",
      "KBA05_ANTG1                                     3.846419e-02\n",
      "KBA05_GBZ                                       3.266848e-02\n",
      "WOHNDAUER_2008                                  3.216064e-02\n",
      "INNENSTADT                                      3.050408e-02\n",
      "KONSUMNAEHE                                     2.865587e-02\n",
      "LP_FAMILIE_GROB_5.0                             2.583686e-02\n",
      "BALLRAUM                                        2.403538e-02\n",
      "PLZ8_ANTG1                                      2.162070e-02\n",
      "LP_FAMILIE_FEIN_10.0                            1.738909e-02\n",
      "PLZ8_GBZ                                        1.627421e-02\n",
      "SEMIO_VERT                                      1.491471e-02\n",
      "FINANZ_VORSORGER                                1.345917e-02\n",
      "WOHNLAGE                                        1.336795e-02\n",
      "GEBAEUDETYP_RASTER                              1.252329e-02\n",
      "PRAEGENDE_JUGENDJAHRE_MOVE_Avantgarde           8.778011e-03\n",
      "GREEN_AVANTGARDE                                8.778011e-03\n",
      "LP_STATUS_GROB_5.0                              8.418713e-03\n",
      "LP_STATUS_FEIN_10.0                             8.418713e-03\n",
      "SEMIO_LUST                                      8.026530e-03\n",
      "SEMIO_ERL                                       7.306647e-03\n",
      "LP_FAMILIE_FEIN_11.0                            7.083210e-03\n",
      "LP_STATUS_FEIN_9.0                              7.070161e-03\n",
      "ALTERSKATEGORIE_GROB                            7.064268e-03\n",
      "ZABEOTYP_1                                      7.024241e-03\n",
      "GEBAEUDETYP_1.0                                 6.950980e-03\n",
      "MIN_GEBAEUDEJAHR                                6.939545e-03\n",
      "LP_STATUS_GROB_4.0                              6.767290e-03\n",
      "KBA13_ANZAHL_PKW                                6.641094e-03\n",
      "CAMEO_INTL_2015_WEALTH_2                        5.849025e-03\n",
      "CAMEO_INTL_2015_WEALTH_1                        5.144890e-03\n",
      "LP_FAMILIE_GROB_4.0                             4.125365e-03\n",
      "CAMEO_DEUG_2015_2                               3.729569e-03\n",
      "CAMEO_INTL_2015_LIFE_STAGE_4                    3.321655e-03\n",
      "CAMEO_DEUG_2015_4                               3.290050e-03\n",
      "FINANZTYP_6                                     3.090237e-03\n",
      "ZABEOTYP_2                                      2.804691e-03\n",
      "CAMEO_INTL_2015_LIFE_STAGE_3                    2.771200e-03\n",
      "FINANZTYP_3                                     2.722797e-03\n",
      "FINANZTYP_2                                     2.694108e-03\n",
      "SHOPPER_TYP_3.0                                 2.632490e-03\n",
      "CAMEO_DEUG_2015_3                               2.558975e-03\n",
      "GFK_URLAUBERTYP_9.0                             2.346195e-03\n",
      "LP_STATUS_GROB_3.0                              2.091230e-03\n",
      "SHOPPER_TYP_0.0                                 2.038041e-03\n",
      "CAMEO_INTL_2015_LIFE_STAGE_2                    1.999725e-03\n",
      "PRAEGENDE_JUGENDJAHRE_YOUTH_60s                 1.934512e-03\n",
      "PRAEGENDE_JUGENDJAHRE_YOUTH_70s                 1.862101e-03\n",
      "LP_FAMILIE_FEIN_8.0                             1.833561e-03\n",
      "ANZ_TITEL                                       1.786619e-03\n",
      "LP_STATUS_FEIN_6.0                              1.635275e-03\n",
      "LP_FAMILIE_FEIN_7.0                             1.615072e-03\n",
      "CAMEO_DEUG_2015_1                               1.415321e-03\n",
      "GFK_URLAUBERTYP_2.0                             1.377136e-03\n",
      "LP_FAMILIE_FEIN_9.0                             1.364564e-03\n",
      "CAMEO_DEU_2015_4C                               1.345191e-03\n",
      "LP_FAMILIE_GROB_3.0                             1.314358e-03\n",
      "CAMEO_DEU_2015_4A                               1.267273e-03\n",
      "CAMEO_DEU_2015_2D                               1.188608e-03\n",
      "CAMEO_DEU_2015_2C                               1.039698e-03\n",
      "NATIONALITAET_KZ_1.0                            9.401398e-04\n",
      "CAMEO_DEU_2015_3D                               9.018230e-04\n",
      "LP_STATUS_FEIN_5.0                              8.723575e-04\n",
      "LP_FAMILIE_GROB_2.0                             8.593635e-04\n",
      "LP_FAMILIE_FEIN_2.0                             8.593635e-04\n",
      "ZABEOTYP_4                                      7.932628e-04\n",
      "GFK_URLAUBERTYP_7.0                             7.832042e-04\n",
      "CAMEO_DEU_2015_2A                               7.736614e-04\n",
      "GFK_URLAUBERTYP_5.0                             7.644899e-04\n",
      "CAMEO_DEU_2015_2B                               7.276018e-04\n",
      "CAMEO_DEU_2015_1D                               7.085736e-04\n",
      "CAMEO_DEU_2015_3C                               7.063452e-04\n",
      "CJT_GESAMTTYP_5.0                               6.858838e-04\n",
      "LP_FAMILIE_FEIN_6.0                             6.767329e-04\n",
      "GFK_URLAUBERTYP_6.0                             6.597987e-04\n",
      "CAMEO_INTL_2015_LIFE_STAGE_5                    6.422474e-04\n",
      "GFK_URLAUBERTYP_1.0                             6.170628e-04\n",
      "LP_FAMILIE_FEIN_4.0                             5.519397e-04\n",
      "LP_FAMILIE_FEIN_5.0                             5.452542e-04\n",
      "PRAEGENDE_JUGENDJAHRE_YOUTH_50s                 5.378588e-04\n",
      "GFK_URLAUBERTYP_10.0                            5.218890e-04\n",
      "CAMEO_DEU_2015_3A                               5.003388e-04\n",
      "CJT_GESAMTTYP_6.0                               4.931732e-04\n",
      "LP_STATUS_FEIN_7.0                              4.559549e-04\n",
      "CAMEO_DEU_2015_3B                               4.504675e-04\n",
      "GFK_URLAUBERTYP_8.0                             4.488650e-04\n",
      "CJT_GESAMTTYP_2.0                               4.182891e-04\n",
      "CJT_GESAMTTYP_3.0                               3.945105e-04\n",
      "CAMEO_DEU_2015_4B                               3.667350e-04\n",
      "PRAEGENDE_JUGENDJAHRE_YOUTH_80s                 3.614336e-04\n",
      "CAMEO_DEUG_2015_5                               2.827520e-04\n",
      "CAMEO_DEU_2015_5C                               2.621414e-04\n",
      "GFK_URLAUBERTYP_3.0                             2.580150e-04\n",
      "CAMEO_DEU_2015_1A                               2.502286e-04\n",
      "CAMEO_DEU_2015_5B                               2.497570e-04\n",
      "CAMEO_INTL_2015_WEALTH_3                        2.217870e-04\n",
      "LP_FAMILIE_FEIN_3.0                             2.171641e-04\n",
      "CAMEO_DEU_2015_1E                               2.072369e-04\n",
      "CAMEO_DEU_2015_4D                               1.996068e-04\n",
      "CAMEO_DEU_2015_6B                               1.943246e-04\n",
      "CAMEO_DEU_2015_1C                               1.369915e-04\n",
      "CAMEO_DEU_2015_1B                               1.122900e-04\n",
      "CAMEO_DEU_2015_4E                               1.112440e-04\n",
      "SOHO_KZ                                         6.786814e-05\n",
      "CAMEO_DEU_2015_5F                               4.943000e-05\n",
      "CAMEO_DEU_2015_5E                               3.595937e-06\n",
      "GEBAEUDETYP_5.0                                -8.250535e-08\n",
      "CAMEO_DEU_2015_6A                              -1.024877e-05\n",
      "GEBAEUDETYP_6.0                                -3.747731e-05\n",
      "CAMEO_DEU_2015_6D                              -5.071620e-05\n",
      "CAMEO_DEU_2015_7E                              -5.435859e-05\n",
      "GEBAEUDETYP_4.0                                -5.623658e-05\n",
      "CAMEO_DEU_2015_5A                              -7.982284e-05\n",
      "CAMEO_DEU_2015_6F                              -8.425381e-05\n",
      "CAMEO_DEU_2015_6C                              -9.456701e-05\n",
      "CAMEO_DEU_2015_7D                              -1.687704e-04\n",
      "CAMEO_DEU_2015_5D                              -2.023495e-04\n",
      "CAMEO_DEU_2015_6E                              -2.057355e-04\n",
      "CAMEO_DEUG_2015_6                              -2.318341e-04\n",
      "CAMEO_DEU_2015_7C                              -2.771121e-04\n",
      "CAMEO_DEU_2015_9A                              -2.909666e-04\n",
      "CAMEO_DEU_2015_7A                              -2.934376e-04\n",
      "LP_STATUS_FEIN_8.0                             -3.028706e-04\n",
      "GEBAEUDETYP_2.0                                -3.063489e-04\n",
      "CAMEO_DEU_2015_9E                              -3.418890e-04\n",
      "PRAEGENDE_JUGENDJAHRE_YOUTH_40s                -3.490339e-04\n",
      "NATIONALITAET_KZ_3.0                           -3.759462e-04\n",
      "CJT_GESAMTTYP_1.0                              -4.362645e-04\n",
      "FINANZTYP_4                                    -4.430761e-04\n",
      "NATIONALITAET_KZ_2.0                           -5.641937e-04\n",
      "CAMEO_DEU_2015_8D                              -5.991071e-04\n",
      "CAMEO_DEU_2015_8C                              -6.678729e-04\n",
      "FINANZTYP_5                                    -7.067155e-04\n",
      "GFK_URLAUBERTYP_11.0                           -7.261600e-04\n",
      "CAMEO_DEU_2015_7B                              -7.388736e-04\n",
      "ANREDE_KZ                                      -9.745455e-04\n",
      "GFK_URLAUBERTYP_4.0                            -1.045591e-03\n",
      "SHOPPER_TYP_2.0                                -1.101537e-03\n",
      "LP_STATUS_FEIN_4.0                             -1.232678e-03\n",
      "CAMEO_DEU_2015_8B                              -1.321596e-03\n",
      "CAMEO_DEU_2015_9B                              -1.406685e-03\n",
      "CAMEO_DEU_2015_9C                              -1.458104e-03\n",
      "CAMEO_DEU_2015_9D                              -1.490810e-03\n",
      "LP_STATUS_FEIN_3.0                             -1.503488e-03\n",
      "CAMEO_DEUG_2015_7                              -1.532552e-03\n",
      "CJT_GESAMTTYP_4.0                              -1.555592e-03\n",
      "OST_WEST_KZ                                    -1.709202e-03\n",
      "LP_STATUS_GROB_2.0                             -1.863808e-03\n",
      "CAMEO_DEU_2015_8A                              -1.915887e-03\n",
      "GEBAEUDETYP_8.0                                -2.531676e-03\n",
      "KKK                                            -2.553195e-03\n",
      "CAMEO_INTL_2015_WEALTH_4                       -2.579135e-03\n",
      "VERS_TYP                                       -2.615204e-03\n",
      "SEMIO_SOZ                                      -2.713364e-03\n",
      "ZABEOTYP_3                                     -2.857153e-03\n",
      "HEALTH_TYP                                     -2.886813e-03\n",
      "ZABEOTYP_6                                     -3.037010e-03\n",
      "SEMIO_DOM                                      -3.179556e-03\n",
      "SHOPPER_TYP_1.0                                -3.568993e-03\n",
      "ANZ_HH_TITEL                                   -3.847063e-03\n",
      "GEBAEUDETYP_3.0                                -4.019159e-03\n",
      "PRAEGENDE_JUGENDJAHRE_YOUTH_90s                -4.346871e-03\n",
      "CAMEO_DEUG_2015_8                              -4.523826e-03\n",
      "ZABEOTYP_5                                     -4.728031e-03\n",
      "CAMEO_DEUG_2015_9                              -4.988454e-03\n",
      "RETOURTYP_BK_S                                 -5.100400e-03\n",
      "PLZ8_HHZ                                       -5.473331e-03\n",
      "KBA05_ANTG2                                    -5.511902e-03\n",
      "LP_STATUS_FEIN_2.0                             -5.875848e-03\n",
      "GFK_URLAUBERTYP_12.0                           -6.004904e-03\n",
      "SEMIO_KULT                                     -6.543836e-03\n",
      "SEMIO_TRADV                                    -7.300302e-03\n",
      "FINANZTYP_1                                    -7.357350e-03\n",
      "FINANZ_ANLEGER                                 -7.546371e-03\n",
      "SEMIO_KAEM                                     -7.877526e-03\n",
      "CAMEO_INTL_2015_WEALTH_5                       -8.636567e-03\n",
      "CAMEO_INTL_2015_LIFE_STAGE_1                   -8.734828e-03\n",
      "PRAEGENDE_JUGENDJAHRE_MOVE_Mainstream          -8.778011e-03\n",
      "LP_STATUS_FEIN_1.0                             -9.537578e-03\n",
      "FINANZ_UNAUFFAELLIGER                          -9.934518e-03\n",
      "SEMIO_RAT                                      -9.945501e-03\n",
      "KBA05_ANTG4                                    -1.051855e-02\n",
      "REGIOTYP                                       -1.185469e-02\n",
      "SEMIO_MAT                                      -1.295878e-02\n",
      "ARBEIT                                         -1.310499e-02\n",
      "SEMIO_FAM                                      -1.342480e-02\n",
      "PLZ8_ANTG2                                     -1.468903e-02\n",
      "PLZ8_ANTG4                                     -1.510528e-02\n",
      "LP_STATUS_GROB_1.0                             -1.541343e-02\n",
      "SEMIO_KRIT                                     -1.604945e-02\n",
      "KBA05_ANTG3                                    -1.642621e-02\n",
      "SEMIO_PFLICHT                                  -1.665624e-02\n",
      "ANZ_HAUSHALTE_AKTIV                            -1.670687e-02\n",
      "RELAT_AB                                       -1.678427e-02\n",
      "SEMIO_REL                                      -1.828150e-02\n",
      "FINANZ_SPARER                                  -2.120916e-02\n",
      "PLZ8_ANTG3                                     -2.165506e-02\n",
      "PLZ8_BAUMAX                                    -2.995203e-02\n",
      "EWDICHTE                                       -3.150132e-02\n",
      "LP_FAMILIE_FEIN_1.0                            -3.213595e-02\n",
      "LP_FAMILIE_GROB_1.0                            -3.213595e-02\n",
      "FINANZ_HAUSBAUER                               -3.840623e-02\n",
      "ORTSGR_KLS9                                    -4.218505e-02\n",
      "HH_EINKOMMEN_SCORE                             -5.065454e-02\n",
      "W_KEIT_KIND_HH                                 -6.457416e-02\n"
     ]
    }
   ],
   "source": [
    "# Map weights for the first principal component to corresponding feature names\n",
    "# and then print the linked values, sorted by weight.\n",
    "# HINT: Try defining a function here or in a new cell that you can reuse in the\n",
    "# other cells.\n",
    "n = imputed_subset1.shape[1]\n",
    "pc = pd.DataFrame(pca.components_, columns = list(imputed_subset1.columns),\n",
    "                  index = pd.Series(['Principal_component']*50).str.cat(pd.Series(list(range(1,51))).apply(str), join='left', sep='_'))\n",
    "                                \n",
    "def weights(df, pc_n):\n",
    "    return(pd.DataFrame(df.iloc[pc_n-1,].sort_values(ascending=False)))\n",
    "\n",
    "print(weights(pc, 1))\n",
    "                  "
   ]
  },
  {
   "cell_type": "code",
   "execution_count": 99,
   "metadata": {},
   "outputs": [
    {
     "name": "stdout",
     "output_type": "stream",
     "text": [
      "                                       Principal_component_2\n",
      "SEMIO_KULT                                      3.343675e-01\n",
      "SEMIO_REL                                       3.320083e-01\n",
      "SEMIO_FAM                                       2.977768e-01\n",
      "SEMIO_PFLICHT                                   2.550069e-01\n",
      "SEMIO_TRADV                                     2.357662e-01\n",
      "SEMIO_MAT                                       2.256238e-01\n",
      "SEMIO_SOZ                                       2.067413e-01\n",
      "FINANZ_SPARER                                   1.983528e-01\n",
      "FINANZ_UNAUFFAELLIGER                           1.570549e-01\n",
      "SEMIO_VERT                                      1.560456e-01\n",
      "SEMIO_RAT                                       1.349142e-01\n",
      "FINANZ_ANLEGER                                  1.252776e-01\n",
      "ONLINE_AFFINITAET                               1.053817e-01\n",
      "PRAEGENDE_JUGENDJAHRE_YOUTH_90s                 4.769032e-02\n",
      "ORTSGR_KLS9                                     4.035920e-02\n",
      "LP_LEBENSPHASE_GROB                             3.204216e-02\n",
      "FINANZTYP_1                                     3.076490e-02\n",
      "PLZ8_BAUMAX                                     2.976011e-02\n",
      "LP_LEBENSPHASE_FEIN                             2.881221e-02\n",
      "EWDICHTE                                        2.743843e-02\n",
      "HH_EINKOMMEN_SCORE                              2.511410e-02\n",
      "ANZ_PERSONEN                                    2.229228e-02\n",
      "ZABEOTYP_4                                      2.129882e-02\n",
      "HEALTH_TYP                                      2.091809e-02\n",
      "LP_STATUS_FEIN_2.0                              1.990643e-02\n",
      "PLZ8_ANTG3                                      1.870166e-02\n",
      "SHOPPER_TYP_0.0                                 1.790161e-02\n",
      "ZABEOTYP_5                                      1.726752e-02\n",
      "CJT_GESAMTTYP_4.0                               1.469758e-02\n",
      "LP_STATUS_GROB_1.0                              1.458263e-02\n",
      "PLZ8_ANTG4                                      1.409332e-02\n",
      "KBA05_ANTG3                                     1.323344e-02\n",
      "ZABEOTYP_1                                      1.261631e-02\n",
      "FINANZTYP_4                                     1.242999e-02\n",
      "SHOPPER_TYP_1.0                                 1.224612e-02\n",
      "RELAT_AB                                        1.204801e-02\n",
      "PRAEGENDE_JUGENDJAHRE_YOUTH_80s                 1.182179e-02\n",
      "CAMEO_INTL_2015_LIFE_STAGE_1                    1.144934e-02\n",
      "PLZ8_ANTG2                                      1.116111e-02\n",
      "REGIOTYP                                        1.107460e-02\n",
      "NATIONALITAET_KZ_2.0                            1.077630e-02\n",
      "GFK_URLAUBERTYP_12.0                            1.047505e-02\n",
      "ARBEIT                                          1.025350e-02\n",
      "CJT_GESAMTTYP_3.0                               8.892457e-03\n",
      "GFK_URLAUBERTYP_9.0                             7.979476e-03\n",
      "LP_FAMILIE_GROB_5.0                             7.949581e-03\n",
      "MIN_GEBAEUDEJAHR                                7.491728e-03\n",
      "CJT_GESAMTTYP_5.0                               7.085855e-03\n",
      "CAMEO_INTL_2015_WEALTH_5                        7.010526e-03\n",
      "ANZ_HAUSHALTE_AKTIV                             6.973120e-03\n",
      "CJT_GESAMTTYP_6.0                               6.941919e-03\n",
      "FINANZTYP_3                                     6.836720e-03\n",
      "CAMEO_DEUG_2015_9                               6.626261e-03\n",
      "KKK                                             5.851819e-03\n",
      "LP_FAMILIE_GROB_4.0                             5.525491e-03\n",
      "LP_STATUS_FEIN_5.0                              5.516268e-03\n",
      "KBA05_ANTG4                                     5.359569e-03\n",
      "KBA05_ANTG2                                     5.345155e-03\n",
      "PLZ8_HHZ                                        4.931953e-03\n",
      "NATIONALITAET_KZ_3.0                            4.835289e-03\n",
      "LP_FAMILIE_FEIN_10.0                            4.598803e-03\n",
      "GFK_URLAUBERTYP_11.0                            3.723732e-03\n",
      "GEBAEUDETYP_3.0                                 3.470742e-03\n",
      "GFK_URLAUBERTYP_2.0                             3.301239e-03\n",
      "PRAEGENDE_JUGENDJAHRE_MOVE_Mainstream           3.173997e-03\n",
      "GEBAEUDETYP_8.0                                 3.072444e-03\n",
      "ZABEOTYP_6                                      2.648905e-03\n",
      "LP_FAMILIE_FEIN_11.0                            2.616449e-03\n",
      "LP_FAMILIE_GROB_3.0                             2.514527e-03\n",
      "CAMEO_DEU_2015_9B                               2.442582e-03\n",
      "CAMEO_DEU_2015_9C                               2.398560e-03\n",
      "LP_FAMILIE_FEIN_7.0                             2.255923e-03\n",
      "CAMEO_DEUG_2015_8                               2.097309e-03\n",
      "CAMEO_DEU_2015_8A                               2.086412e-03\n",
      "LP_FAMILIE_FEIN_8.0                             1.767899e-03\n",
      "CAMEO_DEU_2015_9A                               1.720694e-03\n",
      "CAMEO_INTL_2015_LIFE_STAGE_2                    1.636183e-03\n",
      "GFK_URLAUBERTYP_1.0                             1.604845e-03\n",
      "LP_FAMILIE_FEIN_6.0                             1.501668e-03\n",
      "CAMEO_DEU_2015_9D                               1.482652e-03\n",
      "CAMEO_DEU_2015_8B                               1.340504e-03\n",
      "LP_FAMILIE_FEIN_4.0                             1.061014e-03\n",
      "OST_WEST_KZ                                     1.010645e-03\n",
      "LP_STATUS_FEIN_8.0                              8.904052e-04\n",
      "LP_FAMILIE_FEIN_5.0                             7.960875e-04\n",
      "CAMEO_DEU_2015_7A                               7.568018e-04\n",
      "LP_FAMILIE_FEIN_9.0                             7.343302e-04\n",
      "ZABEOTYP_2                                      6.639185e-04\n",
      "LP_FAMILIE_FEIN_3.0                             6.574256e-04\n",
      "CAMEO_DEUG_2015_7                               4.900636e-04\n",
      "CAMEO_DEU_2015_7B                               4.518264e-04\n",
      "CAMEO_DEU_2015_3A                               3.702512e-04\n",
      "LP_STATUS_FEIN_6.0                              3.424349e-04\n",
      "CAMEO_INTL_2015_WEALTH_4                        2.500687e-04\n",
      "CAMEO_DEU_2015_5A                               2.482543e-04\n",
      "CAMEO_DEU_2015_6A                               1.782617e-04\n",
      "CAMEO_DEU_2015_5C                               1.056331e-04\n",
      "CAMEO_DEU_2015_5B                               5.791677e-05\n",
      "CAMEO_DEU_2015_8C                               5.736685e-05\n",
      "SOHO_KZ                                         5.058136e-05\n",
      "CAMEO_DEU_2015_3B                               4.239692e-05\n",
      "CAMEO_DEU_2015_2A                               1.070658e-05\n",
      "GEBAEUDETYP_5.0                                 5.006367e-08\n",
      "LP_STATUS_GROB_3.0                             -1.320889e-05\n",
      "GEBAEUDETYP_6.0                                -3.375610e-05\n",
      "CAMEO_DEU_2015_4B                              -3.388793e-05\n",
      "GEBAEUDETYP_4.0                                -5.602944e-05\n",
      "CAMEO_DEUG_2015_5                              -5.823375e-05\n",
      "CAMEO_INTL_2015_WEALTH_3                       -8.150795e-05\n",
      "CAMEO_DEU_2015_5E                              -1.201673e-04\n",
      "CAMEO_DEU_2015_4A                              -1.531344e-04\n",
      "CAMEO_DEU_2015_1B                              -1.536080e-04\n",
      "CAMEO_DEU_2015_6B                              -1.567975e-04\n",
      "CAMEO_DEU_2015_5F                              -1.712860e-04\n",
      "CAMEO_DEU_2015_1C                              -1.739843e-04\n",
      "CAMEO_DEU_2015_5D                              -1.785846e-04\n",
      "CAMEO_DEU_2015_7C                              -1.850611e-04\n",
      "CAMEO_DEU_2015_7D                              -1.874799e-04\n",
      "CAMEO_DEU_2015_4D                              -1.889179e-04\n",
      "CAMEO_DEU_2015_6D                              -2.015359e-04\n",
      "CAMEO_DEU_2015_1E                              -2.052300e-04\n",
      "CAMEO_DEU_2015_4E                              -2.295662e-04\n",
      "CAMEO_DEU_2015_1A                              -2.819667e-04\n",
      "CAMEO_DEU_2015_6C                              -3.273201e-04\n",
      "CAMEO_DEU_2015_7E                              -3.460236e-04\n",
      "CAMEO_DEU_2015_6F                              -3.486151e-04\n",
      "LP_STATUS_FEIN_7.0                             -3.556438e-04\n",
      "CAMEO_DEU_2015_2B                              -4.508644e-04\n",
      "CAMEO_INTL_2015_LIFE_STAGE_3                   -4.687228e-04\n",
      "GEBAEUDETYP_2.0                                -5.330920e-04\n",
      "CAMEO_DEU_2015_3C                              -5.605031e-04\n",
      "CAMEO_DEU_2015_2C                              -6.295018e-04\n",
      "CAMEO_DEU_2015_1D                              -7.208141e-04\n",
      "CAMEO_DEU_2015_4C                              -8.050405e-04\n",
      "LP_STATUS_GROB_2.0                             -9.730623e-04\n",
      "CAMEO_DEU_2015_6E                              -1.056820e-03\n",
      "CAMEO_DEU_2015_2D                              -1.259083e-03\n",
      "GFK_URLAUBERTYP_10.0                           -1.332990e-03\n",
      "CAMEO_DEUG_2015_4                              -1.410547e-03\n",
      "CAMEO_DEU_2015_9E                              -1.418226e-03\n",
      "CAMEO_DEU_2015_8D                              -1.450460e-03\n",
      "CAMEO_DEUG_2015_1                              -1.535603e-03\n",
      "CAMEO_DEU_2015_3D                              -1.756339e-03\n",
      "CAMEO_DEUG_2015_3                              -1.904194e-03\n",
      "CAMEO_DEUG_2015_6                              -1.976314e-03\n",
      "ANZ_TITEL                                      -2.016497e-03\n",
      "CAMEO_DEUG_2015_2                              -2.328743e-03\n",
      "GFK_URLAUBERTYP_6.0                            -2.443098e-03\n",
      "GFK_URLAUBERTYP_8.0                            -2.455899e-03\n",
      "LP_STATUS_FEIN_4.0                             -2.661004e-03\n",
      "GREEN_AVANTGARDE                               -3.173997e-03\n",
      "PRAEGENDE_JUGENDJAHRE_MOVE_Avantgarde          -3.173997e-03\n",
      "CAMEO_INTL_2015_WEALTH_2                       -3.314741e-03\n",
      "LP_STATUS_FEIN_3.0                             -3.828326e-03\n",
      "CAMEO_INTL_2015_WEALTH_1                       -3.864346e-03\n",
      "ANZ_HH_TITEL                                   -4.023052e-03\n",
      "GFK_URLAUBERTYP_3.0                            -4.273709e-03\n",
      "WOHNLAGE                                       -4.366013e-03\n",
      "GFK_URLAUBERTYP_5.0                            -4.530545e-03\n",
      "CAMEO_INTL_2015_LIFE_STAGE_4                   -4.711885e-03\n",
      "VERS_TYP                                       -5.230034e-03\n",
      "LP_STATUS_FEIN_1.0                             -5.323794e-03\n",
      "SHOPPER_TYP_2.0                                -5.517433e-03\n",
      "GFK_URLAUBERTYP_4.0                            -5.689878e-03\n",
      "LP_FAMILIE_FEIN_2.0                            -5.864667e-03\n",
      "LP_FAMILIE_GROB_2.0                            -5.864667e-03\n",
      "GEBAEUDETYP_1.0                                -5.920359e-03\n",
      "KBA13_ANZAHL_PKW                               -6.303256e-03\n",
      "GFK_URLAUBERTYP_7.0                            -6.358220e-03\n",
      "PRAEGENDE_JUGENDJAHRE_YOUTH_40s                -6.447217e-03\n",
      "LP_STATUS_GROB_4.0                             -6.458367e-03\n",
      "FINANZTYP_5                                    -7.032245e-03\n",
      "LP_STATUS_FEIN_10.0                            -7.137996e-03\n",
      "LP_STATUS_GROB_5.0                             -7.137996e-03\n",
      "LP_STATUS_FEIN_9.0                             -7.348772e-03\n",
      "CAMEO_INTL_2015_LIFE_STAGE_5                   -7.904915e-03\n",
      "LP_FAMILIE_GROB_1.0                            -1.012493e-02\n",
      "LP_FAMILIE_FEIN_1.0                            -1.012493e-02\n",
      "GEBAEUDETYP_RASTER                             -1.125537e-02\n",
      "CJT_GESAMTTYP_1.0                              -1.147224e-02\n",
      "PRAEGENDE_JUGENDJAHRE_YOUTH_70s                -1.478680e-02\n",
      "PLZ8_GBZ                                       -1.507092e-02\n",
      "NATIONALITAET_KZ_1.0                           -1.561159e-02\n",
      "PRAEGENDE_JUGENDJAHRE_YOUTH_50s                -1.595493e-02\n",
      "PLZ8_ANTG1                                     -1.895186e-02\n",
      "FINANZTYP_6                                    -1.939396e-02\n",
      "KBA05_GBZ                                      -1.942579e-02\n",
      "PRAEGENDE_JUGENDJAHRE_YOUTH_60s                -2.232317e-02\n",
      "KONSUMNAEHE                                    -2.277384e-02\n",
      "FINANZTYP_2                                    -2.360540e-02\n",
      "SHOPPER_TYP_3.0                                -2.463029e-02\n",
      "CJT_GESAMTTYP_2.0                              -2.614558e-02\n",
      "KBA05_ANTG1                                    -2.779451e-02\n",
      "BALLRAUM                                       -2.805134e-02\n",
      "MOBI_REGIO                                     -2.905620e-02\n",
      "INNENSTADT                                     -3.294915e-02\n",
      "FINANZ_HAUSBAUER                               -3.367808e-02\n",
      "ANREDE_KZ                                      -5.055370e-02\n",
      "ZABEOTYP_3                                     -5.449548e-02\n",
      "WOHNDAUER_2008                                 -7.118495e-02\n",
      "W_KEIT_KIND_HH                                 -7.567980e-02\n",
      "FINANZ_MINIMALIST                              -8.284108e-02\n",
      "RETOURTYP_BK_S                                 -9.713628e-02\n",
      "SEMIO_DOM                                      -1.436811e-01\n",
      "ALTERSKATEGORIE_GROB                           -1.548506e-01\n",
      "FINANZ_VORSORGER                               -1.709822e-01\n",
      "SEMIO_KRIT                                     -1.824505e-01\n",
      "SEMIO_KAEM                                     -1.843665e-01\n",
      "SEMIO_LUST                                     -2.215135e-01\n",
      "SEMIO_ERL                                      -3.051059e-01\n"
     ]
    }
   ],
   "source": [
    "# Map weights for the second principal component to corresponding feature names\n",
    "# and then print the linked values, sorted by weight.\n",
    "print(weights(pc, 2))"
   ]
  },
  {
   "cell_type": "code",
   "execution_count": 100,
   "metadata": {},
   "outputs": [
    {
     "name": "stdout",
     "output_type": "stream",
     "text": [
      "                                       Principal_component_3\n",
      "ORTSGR_KLS9                                     4.304707e-01\n",
      "EWDICHTE                                        3.123608e-01\n",
      "PLZ8_BAUMAX                                     2.010198e-01\n",
      "SEMIO_KAEM                                      1.736951e-01\n",
      "PLZ8_ANTG3                                      1.443018e-01\n",
      "SEMIO_DOM                                       1.393545e-01\n",
      "RELAT_AB                                        1.392946e-01\n",
      "FINANZ_HAUSBAUER                                1.280983e-01\n",
      "HH_EINKOMMEN_SCORE                              1.222367e-01\n",
      "LP_LEBENSPHASE_FEIN                             1.134139e-01\n",
      "ARBEIT                                          1.069768e-01\n",
      "PLZ8_ANTG4                                      1.024190e-01\n",
      "PLZ8_ANTG2                                      9.163489e-02\n",
      "SEMIO_KRIT                                      8.070312e-02\n",
      "ANZ_HAUSHALTE_AKTIV                             7.535892e-02\n",
      "KBA05_ANTG3                                     6.917717e-02\n",
      "SEMIO_RAT                                       6.586531e-02\n",
      "REGIOTYP                                        6.265216e-02\n",
      "LP_LEBENSPHASE_GROB                             6.062196e-02\n",
      "LP_STATUS_GROB_1.0                              5.478592e-02\n",
      "KBA05_ANTG4                                     5.391796e-02\n",
      "FINANZ_SPARER                                   4.668410e-02\n",
      "SEMIO_PFLICHT                                   4.250674e-02\n",
      "SEMIO_ERL                                       4.069647e-02\n",
      "CAMEO_INTL_2015_WEALTH_5                        3.831455e-02\n",
      "LP_STATUS_FEIN_1.0                              3.652339e-02\n",
      "CAMEO_INTL_2015_LIFE_STAGE_1                    3.558094e-02\n",
      "PLZ8_HHZ                                        3.405013e-02\n",
      "ANREDE_KZ                                       2.961134e-02\n",
      "RETOURTYP_BK_S                                  2.518304e-02\n",
      "ANZ_HH_TITEL                                    2.366535e-02\n",
      "CAMEO_DEUG_2015_9                               2.243058e-02\n",
      "FINANZTYP_1                                     1.997385e-02\n",
      "CAMEO_DEUG_2015_8                               1.962814e-02\n",
      "SEMIO_TRADV                                     1.915619e-02\n",
      "LP_STATUS_FEIN_2.0                              1.826253e-02\n",
      "GEBAEUDETYP_3.0                                 1.777935e-02\n",
      "ANZ_PERSONEN                                    1.638306e-02\n",
      "SHOPPER_TYP_2.0                                 1.435204e-02\n",
      "LP_FAMILIE_GROB_5.0                             1.430720e-02\n",
      "VERS_TYP                                        1.277777e-02\n",
      "LP_FAMILIE_FEIN_10.0                            1.159873e-02\n",
      "FINANZTYP_5                                     1.053770e-02\n",
      "GEBAEUDETYP_8.0                                 9.863347e-03\n",
      "CAMEO_DEU_2015_8A                               9.020650e-03\n",
      "LP_STATUS_FEIN_3.0                              8.330158e-03\n",
      "CAMEO_INTL_2015_WEALTH_4                        7.526400e-03\n",
      "ZABEOTYP_4                                      7.494226e-03\n",
      "OST_WEST_KZ                                     7.017326e-03\n",
      "KKK                                             6.659329e-03\n",
      "FINANZ_UNAUFFAELLIGER                           6.547182e-03\n",
      "PRAEGENDE_JUGENDJAHRE_YOUTH_90s                 6.539929e-03\n",
      "NATIONALITAET_KZ_2.0                            6.505786e-03\n",
      "CAMEO_DEU_2015_9D                               6.470081e-03\n",
      "ZABEOTYP_3                                      5.979231e-03\n",
      "CAMEO_DEU_2015_9C                               5.936646e-03\n",
      "CJT_GESAMTTYP_3.0                               5.670704e-03\n",
      "GFK_URLAUBERTYP_8.0                             5.662545e-03\n",
      "CJT_GESAMTTYP_6.0                               5.598865e-03\n",
      "CAMEO_DEU_2015_8B                               5.590524e-03\n",
      "CAMEO_DEU_2015_9B                               5.540364e-03\n",
      "CAMEO_DEUG_2015_7                               5.157213e-03\n",
      "ZABEOTYP_5                                      5.118956e-03\n",
      "HEALTH_TYP                                      4.582849e-03\n",
      "GFK_URLAUBERTYP_4.0                             4.203644e-03\n",
      "GFK_URLAUBERTYP_11.0                            3.832884e-03\n",
      "ANZ_TITEL                                       3.666136e-03\n",
      "CAMEO_DEU_2015_8C                               3.432465e-03\n",
      "CAMEO_DEU_2015_9A                               3.357055e-03\n",
      "ZABEOTYP_6                                      3.130822e-03\n",
      "SHOPPER_TYP_3.0                                 3.107912e-03\n",
      "CAMEO_DEU_2015_7B                               2.850697e-03\n",
      "PRAEGENDE_JUGENDJAHRE_MOVE_Mainstream           2.843697e-03\n",
      "GFK_URLAUBERTYP_10.0                            2.436826e-03\n",
      "CAMEO_DEU_2015_8D                               2.292873e-03\n",
      "CAMEO_DEU_2015_5D                               2.070374e-03\n",
      "NATIONALITAET_KZ_3.0                            1.921186e-03\n",
      "LP_FAMILIE_GROB_3.0                             1.762401e-03\n",
      "CAMEO_DEU_2015_6E                               1.572409e-03\n",
      "LP_FAMILIE_FEIN_9.0                             1.372745e-03\n",
      "LP_FAMILIE_FEIN_11.0                            1.335729e-03\n",
      "CAMEO_DEU_2015_7C                               1.185319e-03\n",
      "CAMEO_DEU_2015_9E                               1.126430e-03\n",
      "LP_FAMILIE_FEIN_4.0                             9.394992e-04\n",
      "CAMEO_DEU_2015_7D                               6.610431e-04\n",
      "GFK_URLAUBERTYP_12.0                            6.452387e-04\n",
      "KBA05_ANTG2                                     5.946940e-04\n",
      "PRAEGENDE_JUGENDJAHRE_YOUTH_80s                 4.471119e-04\n",
      "GFK_URLAUBERTYP_3.0                             4.371673e-04\n",
      "LP_FAMILIE_FEIN_5.0                             4.370459e-04\n",
      "LP_STATUS_FEIN_7.0                              4.064784e-04\n",
      "CAMEO_DEU_2015_6A                               3.890656e-04\n",
      "LP_FAMILIE_FEIN_3.0                             3.858560e-04\n",
      "CAMEO_DEU_2015_7A                               2.742221e-04\n",
      "CAMEO_DEU_2015_6C                               2.573719e-04\n",
      "CAMEO_DEU_2015_6F                               2.301264e-04\n",
      "LP_FAMILIE_FEIN_6.0                             2.186656e-04\n",
      "CAMEO_DEU_2015_5A                               2.170689e-04\n",
      "CAMEO_DEU_2015_7E                               1.859318e-04\n",
      "CAMEO_DEU_2015_6D                               1.857829e-04\n",
      "LP_FAMILIE_FEIN_7.0                             1.763770e-04\n",
      "CAMEO_DEU_2015_5E                               1.127397e-04\n",
      "CJT_GESAMTTYP_5.0                               6.548251e-05\n",
      "GEBAEUDETYP_5.0                                 1.105267e-07\n",
      "CAMEO_DEU_2015_1E                              -2.015116e-06\n",
      "CAMEO_DEU_2015_1C                              -2.548146e-05\n",
      "SOHO_KZ                                        -4.688731e-05\n",
      "CAMEO_DEU_2015_5F                              -1.004325e-04\n",
      "GEBAEUDETYP_6.0                                -1.241935e-04\n",
      "CAMEO_DEU_2015_1B                              -1.641530e-04\n",
      "GEBAEUDETYP_4.0                                -2.015910e-04\n",
      "CAMEO_DEU_2015_4E                              -3.215481e-04\n",
      "GFK_URLAUBERTYP_9.0                            -3.839595e-04\n",
      "CAMEO_DEU_2015_4D                              -4.048616e-04\n",
      "LP_FAMILIE_GROB_4.0                            -4.251766e-04\n",
      "CAMEO_DEU_2015_1A                              -4.464926e-04\n",
      "CAMEO_INTL_2015_WEALTH_3                       -4.891428e-04\n",
      "CJT_GESAMTTYP_4.0                              -5.376109e-04\n",
      "PRAEGENDE_JUGENDJAHRE_YOUTH_40s                -5.710848e-04\n",
      "PRAEGENDE_JUGENDJAHRE_YOUTH_70s                -7.352277e-04\n",
      "CAMEO_DEUG_2015_6                              -8.001267e-04\n",
      "LP_FAMILIE_FEIN_8.0                            -8.202192e-04\n",
      "CAMEO_INTL_2015_LIFE_STAGE_5                   -1.055903e-03\n",
      "CAMEO_DEUG_2015_5                              -1.063991e-03\n",
      "CAMEO_DEU_2015_1D                              -1.200622e-03\n",
      "SEMIO_MAT                                      -1.217505e-03\n",
      "GEBAEUDETYP_2.0                                -1.416872e-03\n",
      "LP_STATUS_GROB_3.0                             -1.435447e-03\n",
      "ZABEOTYP_2                                     -1.454591e-03\n",
      "CAMEO_DEU_2015_3A                              -1.584602e-03\n",
      "PRAEGENDE_JUGENDJAHRE_YOUTH_50s                -1.646848e-03\n",
      "CAMEO_DEU_2015_5C                              -1.665856e-03\n",
      "CAMEO_DEU_2015_5B                              -1.697885e-03\n",
      "CAMEO_DEU_2015_4B                              -1.712302e-03\n",
      "CAMEO_DEUG_2015_1                              -1.838764e-03\n",
      "LP_STATUS_FEIN_6.0                             -1.841925e-03\n",
      "CAMEO_DEU_2015_3B                              -1.906911e-03\n",
      "CAMEO_DEU_2015_2A                              -2.491257e-03\n",
      "GFK_URLAUBERTYP_2.0                            -2.667666e-03\n",
      "LP_STATUS_FEIN_5.0                             -2.726207e-03\n",
      "GFK_URLAUBERTYP_6.0                            -2.733541e-03\n",
      "GFK_URLAUBERTYP_5.0                            -2.777800e-03\n",
      "GREEN_AVANTGARDE                               -2.843697e-03\n",
      "PRAEGENDE_JUGENDJAHRE_MOVE_Avantgarde          -2.843697e-03\n",
      "FINANZTYP_4                                    -3.087876e-03\n",
      "CJT_GESAMTTYP_1.0                              -3.093606e-03\n",
      "CAMEO_DEU_2015_2D                              -3.154843e-03\n",
      "LP_FAMILIE_FEIN_2.0                            -3.295007e-03\n",
      "LP_FAMILIE_GROB_2.0                            -3.295007e-03\n",
      "CAMEO_DEU_2015_2B                              -3.329223e-03\n",
      "LP_STATUS_FEIN_8.0                             -3.761843e-03\n",
      "CAMEO_DEU_2015_2C                              -3.856673e-03\n",
      "PRAEGENDE_JUGENDJAHRE_YOUTH_60s                -4.033881e-03\n",
      "CAMEO_DEU_2015_6B                              -4.143257e-03\n",
      "GFK_URLAUBERTYP_1.0                            -4.308844e-03\n",
      "GFK_URLAUBERTYP_7.0                            -4.346494e-03\n",
      "CAMEO_DEU_2015_3C                              -4.856518e-03\n",
      "CAMEO_DEU_2015_3D                              -5.024840e-03\n",
      "SEMIO_REL                                      -5.153041e-03\n",
      "SHOPPER_TYP_1.0                                -5.251440e-03\n",
      "LP_STATUS_GROB_5.0                             -6.504543e-03\n",
      "LP_STATUS_FEIN_10.0                            -6.504543e-03\n",
      "CAMEO_DEU_2015_4C                              -7.095556e-03\n",
      "FINANZTYP_3                                    -7.132702e-03\n",
      "CJT_GESAMTTYP_2.0                              -7.703834e-03\n",
      "CAMEO_DEU_2015_4A                              -7.773911e-03\n",
      "FINANZTYP_6                                    -7.882807e-03\n",
      "NATIONALITAET_KZ_1.0                           -8.426972e-03\n",
      "CAMEO_INTL_2015_LIFE_STAGE_2                   -8.605998e-03\n",
      "WOHNDAUER_2008                                 -1.029318e-02\n",
      "CAMEO_INTL_2015_LIFE_STAGE_4                   -1.183877e-02\n",
      "LP_STATUS_GROB_2.0                             -1.212815e-02\n",
      "SHOPPER_TYP_0.0                                -1.220851e-02\n",
      "LP_FAMILIE_GROB_1.0                            -1.234942e-02\n",
      "LP_FAMILIE_FEIN_1.0                            -1.234942e-02\n",
      "FINANZTYP_2                                    -1.240817e-02\n",
      "SEMIO_LUST                                     -1.256464e-02\n",
      "CAMEO_DEUG_2015_2                              -1.283200e-02\n",
      "CAMEO_DEUG_2015_3                              -1.337287e-02\n",
      "CAMEO_INTL_2015_LIFE_STAGE_3                   -1.408027e-02\n",
      "CAMEO_INTL_2015_WEALTH_1                       -1.467076e-02\n",
      "ONLINE_AFFINITAET                              -1.518431e-02\n",
      "CAMEO_DEUG_2015_4                              -1.730818e-02\n",
      "LP_STATUS_FEIN_4.0                             -1.773210e-02\n",
      "ZABEOTYP_1                                     -2.026864e-02\n",
      "FINANZ_ANLEGER                                 -2.098731e-02\n",
      "ALTERSKATEGORIE_GROB                           -2.130509e-02\n",
      "W_KEIT_KIND_HH                                 -2.179833e-02\n",
      "FINANZ_VORSORGER                               -2.300971e-02\n",
      "GEBAEUDETYP_1.0                                -2.590015e-02\n",
      "CAMEO_INTL_2015_WEALTH_2                       -3.068105e-02\n",
      "LP_STATUS_FEIN_9.0                             -3.095594e-02\n",
      "LP_STATUS_GROB_4.0                             -3.471778e-02\n",
      "SEMIO_SOZ                                      -3.858653e-02\n",
      "MIN_GEBAEUDEJAHR                               -3.897810e-02\n",
      "SEMIO_FAM                                      -4.974745e-02\n",
      "KBA13_ANZAHL_PKW                               -5.186295e-02\n",
      "SEMIO_KULT                                     -5.862883e-02\n",
      "GEBAEUDETYP_RASTER                             -6.728338e-02\n",
      "PLZ8_GBZ                                       -1.144148e-01\n",
      "SEMIO_VERT                                     -1.292485e-01\n",
      "PLZ8_ANTG1                                     -1.319244e-01\n",
      "FINANZ_MINIMALIST                              -1.344219e-01\n",
      "KBA05_ANTG1                                    -1.583269e-01\n",
      "KBA05_GBZ                                      -1.594405e-01\n",
      "MOBI_REGIO                                     -1.834027e-01\n",
      "KONSUMNAEHE                                    -1.871088e-01\n",
      "WOHNLAGE                                       -2.204980e-01\n",
      "BALLRAUM                                       -3.114304e-01\n",
      "INNENSTADT                                     -3.229071e-01\n"
     ]
    }
   ],
   "source": [
    "# Map weights for the third principal component to corresponding feature names\n",
    "# and then print the linked values, sorted by weight.\n",
    "print(weights(pc, 3))\n"
   ]
  },
  {
   "cell_type": "markdown",
   "metadata": {},
   "source": [
    "### Discussion 2.3: Interpret Principal Components\n",
    "\n",
    "It could be observed that:\n",
    "\n",
    "The first component is heavily (positively) influenced by LP_LEBENSPHASE_FEIN and LP_LEBENSPHASE_GROB (related to family type)\n",
    "\n",
    "The second component is heavily (positively) influenced by SEMIO_KULT, SEMIO_REL, SEMIO_FAM, SEMIO_PFLICHT, SEMIO_TRADV, SEMIO_MAT, SEMIO_SOZ and heavily(negatively) influenced by SEMIO_KRIT, SEMIO_KAEM, SEMIO_LUST, SEMIO_ERL ( Personality typology )\n",
    "\n",
    "The third component is heavily(positively) influenced by ORTSGR_KLS9, EWDICHTE, PLZ8_BAUMAX ( size of community, Density of households per square kilometer, Most common building type ) and heavily(negatively) influenced by WOHNLAGE, BALLRAUM, INNENSTADT (Neighborhood quality, Distance to nearest urban center, Distance to city center)- basically community and neighborhood information\n",
    "\n"
   ]
  },
  {
   "cell_type": "markdown",
   "metadata": {},
   "source": [
    "## Step 3: Clustering\n",
    "\n",
    "### Step 3.1: Apply Clustering to General Population\n",
    "\n",
    "You've assessed and cleaned the demographics data, then scaled and transformed them. Now, it's time to see how the data clusters in the principal components space. In this substep, you will apply k-means clustering to the dataset and use the average within-cluster distances from each point to their assigned cluster's centroid to decide on a number of clusters to keep.\n",
    "\n",
    "- Use sklearn's [KMeans](http://scikit-learn.org/stable/modules/generated/sklearn.cluster.KMeans.html#sklearn.cluster.KMeans) class to perform k-means clustering on the PCA-transformed data.\n",
    "- Then, compute the average difference from each point to its assigned cluster's center. **Hint**: The KMeans object's `.score()` method might be useful here, but note that in sklearn, scores tend to be defined so that larger is better. Try applying it to a small, toy dataset, or use an internet search to help your understanding.\n",
    "- Perform the above two steps for a number of different cluster counts. You can then see how the average distance decreases with an increasing number of clusters. However, each additional cluster provides a smaller net benefit. Use this fact to select a final number of clusters in which to group the data. **Warning**: because of the large size of the dataset, it can take a long time for the algorithm to resolve. The more clusters to fit, the longer the algorithm will take. You should test for cluster counts through at least 10 clusters to get the full picture, but you shouldn't need to test for a number of clusters above about 30.\n",
    "- Once you've selected a final number of clusters to use, re-fit a KMeans instance to perform the clustering operation. Make sure that you also obtain the cluster assignments for the general demographics data, since you'll be using them in the final Step 3.3."
   ]
  },
  {
   "cell_type": "code",
   "execution_count": 101,
   "metadata": {},
   "outputs": [],
   "source": [
    "from sklearn.cluster import KMeans"
   ]
  },
  {
   "cell_type": "code",
   "execution_count": 103,
   "metadata": {},
   "outputs": [],
   "source": [
    "#num_cluster = list(range(10, 20, 2))\n",
    "\n",
    "#kmeans = [KMeans(n_clusters = i, random_state = 0) for i in num_cluster]\n",
    "#score = [np.abs(kmeans[i].fit(azdias_pca).score(azdias_pca)) for i in range(len(kmeans))]\n",
    "  "
   ]
  },
  {
   "cell_type": "code",
   "execution_count": 104,
   "metadata": {},
   "outputs": [],
   "source": [
    "# Over a number of different cluster counts...\n",
    "# run k-means clustering on the data and...\n",
    "# compute the average within-cluster distances.\n",
    "num_cluster = list(range(1, 30))\n",
    "\n",
    "kmeans = [KMeans(n_clusters = i, random_state = 0) for i in num_cluster]\n",
    "score = [np.abs(kmeans[i].fit(azdias_pca).score(azdias_pca)) for i in range(len(kmeans))]\n",
    "    "
   ]
  },
  {
   "cell_type": "code",
   "execution_count": 105,
   "metadata": {
    "scrolled": true
   },
   "outputs": [
    {
     "data": {
      "image/png": "[encoded data removed]",
      "text/plain": [
       "<matplotlib.figure.Figure at 0x7fed2d9240b8>"
      ]
     },
     "metadata": {
      "needs_background": "light"
     },
     "output_type": "display_data"
    }
   ],
   "source": [
    "# Investigate the change in within-cluster distance across number of clusters.\n",
    "# HINT: Use matplotlib's plot function to visualize this relationship.\n",
    "plt.figure(figsize=(10, 8))\n",
    "plt.plot(num_cluster, score, linestyle='--', marker='o', color='b')\n",
    "plt.xlabel('number of clusters')\n",
    "plt.ylabel('within-cluster distance')\n",
    "plt.title('within-cluster distance vs. number of clusters')\n",
    "plt.show()"
   ]
  },
  {
   "cell_type": "code",
   "execution_count": 103,
   "metadata": {
    "scrolled": true
   },
   "outputs": [],
   "source": [
    "# Re-fit the k-means model with the selected number of clusters and obtain\n",
    "# cluster predictions for the general population demographics data.\n",
    "\n",
    "final_kmeans = KMeans(n_clusters = 15, random_state = 0)\n",
    "final_kmeans.fit(azdias_pca)\n",
    "preds = final_kmeans.predict(azdias_pca)"
   ]
  },
  {
   "cell_type": "code",
   "execution_count": 107,
   "metadata": {},
   "outputs": [],
   "source": [
    "centers = final_kmeans.cluster_centers_"
   ]
  },
  {
   "cell_type": "code",
   "execution_count": null,
   "metadata": {},
   "outputs": [],
   "source": []
  },
  {
   "cell_type": "markdown",
   "metadata": {},
   "source": [
    "### Discussion 3.1: Apply Clustering to General Population\n",
    "\n",
    "Based on the Score vs K graph, the number of clusters chosen was 15(elbow's method)."
   ]
  },
  {
   "cell_type": "markdown",
   "metadata": {},
   "source": [
    "### Step 3.2: Apply All Steps to the Customer Data\n",
    "\n",
    "Now that you have clusters and cluster centers for the general population, it's time to see how the customer data maps on to those clusters. Take care to not confuse this for re-fitting all of the models to the customer data. Instead, you're going to use the fits from the general population to clean, transform, and cluster the customer data. In the last step of the project, you will interpret how the general population fits apply to the customer data.\n",
    "\n",
    "- Don't forget when loading in the customers data, that it is semicolon (`;`) delimited.\n",
    "- Apply the same feature wrangling, selection, and engineering steps to the customer demographics using the `clean_data()` function you created earlier. (You can assume that the customer demographics data has similar meaning behind missing data patterns as the general demographics data.)\n",
    "- Use the sklearn objects from the general demographics data, and apply their transformations to the customers data. That is, you should not be using a `.fit()` or `.fit_transform()` method to re-fit the old objects, nor should you be creating new sklearn objects! Carry the data through the feature scaling, PCA, and clustering steps, obtaining cluster assignments for all of the data in the customer demographics data."
   ]
  },
  {
   "cell_type": "code",
   "execution_count": 105,
   "metadata": {},
   "outputs": [],
   "source": [
    "# Load in the customer demographics data.\n",
    "customers = pd.read_csv('Udacity_CUSTOMERS_Subset.csv',sep = ';')"
   ]
  },
  {
   "cell_type": "code",
   "execution_count": 106,
   "metadata": {},
   "outputs": [
    {
     "name": "stderr",
     "output_type": "stream",
     "text": [
      "/opt/conda/lib/python3.6/site-packages/pandas/core/generic.py:5434: SettingWithCopyWarning: \n",
      "A value is trying to be set on a copy of a slice from a DataFrame\n",
      "\n",
      "See the caveats in the documentation: http://pandas.pydata.org/pandas-docs/stable/indexing.html#indexing-view-versus-copy\n",
      "  self._update_inplace(new_data)\n"
     ]
    },
    {
     "data": {
      "text/plain": [
       "(141701, 210)"
      ]
     },
     "execution_count": 106,
     "metadata": {},
     "output_type": "execute_result"
    }
   ],
   "source": [
    "# Apply preprocessing, feature transformation, and clustering from the general\n",
    "\n",
    "cus_subset1_encoded, cus_subset2 = clean_data(customers)\n",
    "set(subset1_encoded.columns).difference(set(cus_subset1_encoded.columns))\n",
    "cus_subset1_encoded['GEBAEUDETYP_5.0'] = 0\n",
    "cus_subset1_encoded.shape\n"
   ]
  },
  {
   "cell_type": "code",
   "execution_count": 108,
   "metadata": {},
   "outputs": [
    {
     "data": {
      "text/plain": [
       "29"
      ]
     },
     "execution_count": 108,
     "metadata": {},
     "output_type": "execute_result"
    }
   ],
   "source": [
    "cus_subset1_encoded.isnull().any().sum()\n"
   ]
  },
  {
   "cell_type": "code",
   "execution_count": 110,
   "metadata": {},
   "outputs": [],
   "source": [
    "# clean the dataset of all NaN values\n",
    "cus_imputed_subset1 = pd.DataFrame(imp.transform(cus_subset1_encoded))\n",
    "cus_imputed_subset1.columns = cus_subset1_encoded.columns\n",
    "cus_imputed_subset1.index = cus_subset1_encoded.index\n",
    "\n",
    "# apply standard scaler to numeric features\n",
    "cus_imputed_subset1[numeric] = st_scaler.transform(cus_imputed_subset1[numeric])"
   ]
  },
  {
   "cell_type": "code",
   "execution_count": 111,
   "metadata": {},
   "outputs": [
    {
     "data": {
      "text/plain": [
       "0"
      ]
     },
     "execution_count": 111,
     "metadata": {},
     "output_type": "execute_result"
    }
   ],
   "source": [
    "cus_imputed_subset1.isnull().any().sum()\n"
   ]
  },
  {
   "cell_type": "code",
   "execution_count": 112,
   "metadata": {},
   "outputs": [],
   "source": [
    "cus_pca1 = pca.transform(cus_imputed_subset1)"
   ]
  },
  {
   "cell_type": "code",
   "execution_count": 113,
   "metadata": {},
   "outputs": [],
   "source": [
    "# demographics onto the customer data, obtaining cluster predictions for the\n",
    "# customer demographics data.\n",
    "cus_preds = final_kmeans.predict(cus_pca1)"
   ]
  },
  {
   "cell_type": "markdown",
   "metadata": {},
   "source": [
    "### Step 3.3: Compare Customer Data to Demographics Data\n",
    "\n",
    "At this point, you have clustered data based on demographics of the general population of Germany, and seen how the customer data for a mail-order sales company maps onto those demographic clusters. In this final substep, you will compare the two cluster distributions to see where the strongest customer base for the company is.\n",
    "\n",
    "Consider the proportion of persons in each cluster for the general population, and the proportions for the customers. If we think the company's customer base to be universal, then the cluster assignment proportions should be fairly similar between the two. If there are only particular segments of the population that are interested in the company's products, then we should see a mismatch from one to the other. If there is a higher proportion of persons in a cluster for the customer data compared to the general population (e.g. 5% of persons are assigned to a cluster for the general population, but 15% of the customer data is closest to that cluster's centroid) then that suggests the people in that cluster to be a target audience for the company. On the other hand, the proportion of the data in a cluster being larger in the general population than the customer data (e.g. only 2% of customers closest to a population centroid that captures 6% of the data) suggests that group of persons to be outside of the target demographics.\n",
    "\n",
    "Take a look at the following points in this step:\n",
    "\n",
    "- Compute the proportion of data points in each cluster for the general population and the customer data. Visualizations will be useful here: both for the individual dataset proportions, but also to visualize the ratios in cluster representation between groups. Seaborn's [`countplot()`](https://seaborn.pydata.org/generated/seaborn.countplot.html) or [`barplot()`](https://seaborn.pydata.org/generated/seaborn.barplot.html) function could be handy.\n",
    "  - Recall the analysis you performed in step 1.1.3 of the project, where you separated out certain data points from the dataset if they had more than a specified threshold of missing values. If you found that this group was qualitatively different from the main bulk of the data, you should treat this as an additional data cluster in this analysis. Make sure that you account for the number of data points in this subset, for both the general population and customer datasets, when making your computations!\n",
    "- Which cluster or clusters are overrepresented in the customer dataset compared to the general population? Select at least one such cluster and infer what kind of people might be represented by that cluster. Use the principal component interpretations from step 2.3 or look at additional components to help you make this inference. Alternatively, you can use the `.inverse_transform()` method of the PCA and StandardScaler objects to transform centroids back to the original data space and interpret the retrieved values directly.\n",
    "- Perform a similar investigation for the underrepresented clusters. Which cluster or clusters are underrepresented in the customer dataset compared to the general population, and what kinds of people are typified by these clusters?"
   ]
  },
  {
   "cell_type": "code",
   "execution_count": 161,
   "metadata": {},
   "outputs": [
    {
     "data": {
      "text/plain": [
       "Text(0.5,1,'Clusters Percentage Distribution for General and Customer Demographics')"
      ]
     },
     "execution_count": 161,
     "metadata": {},
     "output_type": "execute_result"
    },
    {
     "data": {
      "image/png": "[encoded data removed]",
      "text/plain": [
       "<matplotlib.figure.Figure at 0x7f22e8a86b00>"
      ]
     },
     "metadata": {},
     "output_type": "display_data"
    }
   ],
   "source": [
    "# Compare the proportion of data in each cluster for the customer data to the\n",
    "# proportion of data in each cluster for the general population.\n",
    "gen_clusters = pd.Series(preds).value_counts().append(pd.Series(gen2_cnt), ignore_index = True).sort_index()\n",
    "gen_per = pd.DataFrame(gen_clusters*100/sum(gen_clusters), columns=['count percentage'])\n",
    "cus_clusters = pd.Series(cus_preds).value_counts().append(pd.Series(cus2_cnt), ignore_index = True).sort_index()\n",
    "cus_per = pd.DataFrame(cus_clusters*100/sum(cus_clusters), columns=['count percentage'])\n",
    "gen_per['type'] = 'general population'\n",
    "cus_per['type'] = 'customer'\n",
    "data = pd.concat([gen_per,cus_per])\n",
    "data['cluster'] = data.index\n",
    "\n",
    "plt.figure(figsize=(12, 8))\n",
    "sns.set(style=\"whitegrid\")\n",
    "ax = sns.barplot(x='cluster', y='count percentage',hue = 'type', data=data)\n",
    "plt.title('Clusters Percentage Distribution for General and Customer Demographics')"
   ]
  },
  {
   "cell_type": "code",
   "execution_count": 163,
   "metadata": {},
   "outputs": [],
   "source": [
    "# What kinds of people are part of a cluster that is overrepresented in the\n",
    "# customer data compared to the general population?"
   ]
  },
  {
   "cell_type": "code",
   "execution_count": 209,
   "metadata": {},
   "outputs": [
    {
     "data": {
      "text/plain": [
       "[0, 15, 1]"
      ]
     },
     "execution_count": 209,
     "metadata": {},
     "output_type": "execute_result"
    }
   ],
   "source": [
    "clusters_pivot = data.pivot(index = 'cluster',  columns= 'type', values= 'count percentage')\n",
    "clusters_pivot['difference %'] = clusters_pivot['customer'] - clusters_pivot['general population']\n",
    "overrepresented  = list(clusters_pivot['difference %'].sort_values(ascending = False).head(3).index)\n",
    "overrepresented"
   ]
  },
  {
   "cell_type": "code",
   "execution_count": 207,
   "metadata": {},
   "outputs": [
    {
     "data": {
      "text/html": [
       "<div>\n",
       "<style scoped>\n",
       "    .dataframe tbody tr th:only-of-type {\n",
       "        vertical-align: middle;\n",
       "    }\n",
       "\n",
       "    .dataframe tbody tr th {\n",
       "        vertical-align: top;\n",
       "    }\n",
       "\n",
       "    .dataframe thead th {\n",
       "        text-align: right;\n",
       "    }\n",
       "</style>\n",
       "<table border=\"1\" class=\"dataframe\">\n",
       "  <thead>\n",
       "    <tr style=\"text-align: right;\">\n",
       "      <th></th>\n",
       "      <th>ANZ_PERSONEN</th>\n",
       "      <th>ANZ_TITEL</th>\n",
       "      <th>ANZ_HAUSHALTE_AKTIV</th>\n",
       "      <th>ANZ_HH_TITEL</th>\n",
       "      <th>MIN_GEBAEUDEJAHR</th>\n",
       "      <th>KBA13_ANZAHL_PKW</th>\n",
       "    </tr>\n",
       "  </thead>\n",
       "  <tbody>\n",
       "    <tr>\n",
       "      <th>0</th>\n",
       "      <td>-0.092228</td>\n",
       "      <td>-0.000441</td>\n",
       "      <td>-0.151228</td>\n",
       "      <td>-0.059029</td>\n",
       "      <td>0.252149</td>\n",
       "      <td>0.047410</td>\n",
       "    </tr>\n",
       "    <tr>\n",
       "      <th>1</th>\n",
       "      <td>1.031752</td>\n",
       "      <td>-0.014877</td>\n",
       "      <td>-0.144551</td>\n",
       "      <td>-0.054796</td>\n",
       "      <td>0.170710</td>\n",
       "      <td>0.075410</td>\n",
       "    </tr>\n",
       "    <tr>\n",
       "      <th>2</th>\n",
       "      <td>-0.589464</td>\n",
       "      <td>-0.031012</td>\n",
       "      <td>-0.164485</td>\n",
       "      <td>-0.066936</td>\n",
       "      <td>0.005800</td>\n",
       "      <td>0.272932</td>\n",
       "    </tr>\n",
       "    <tr>\n",
       "      <th>3</th>\n",
       "      <td>0.125015</td>\n",
       "      <td>0.013246</td>\n",
       "      <td>-0.159995</td>\n",
       "      <td>-0.081461</td>\n",
       "      <td>0.007804</td>\n",
       "      <td>0.055585</td>\n",
       "    </tr>\n",
       "    <tr>\n",
       "      <th>4</th>\n",
       "      <td>-0.725403</td>\n",
       "      <td>0.034795</td>\n",
       "      <td>0.392662</td>\n",
       "      <td>0.139008</td>\n",
       "      <td>-0.243640</td>\n",
       "      <td>-0.217522</td>\n",
       "    </tr>\n",
       "  </tbody>\n",
       "</table>\n",
       "</div>"
      ],
      "text/plain": [
       "   ANZ_PERSONEN  ANZ_TITEL  ANZ_HAUSHALTE_AKTIV  ANZ_HH_TITEL  \\\n",
       "0     -0.092228  -0.000441            -0.151228     -0.059029   \n",
       "1      1.031752  -0.014877            -0.144551     -0.054796   \n",
       "2     -0.589464  -0.031012            -0.164485     -0.066936   \n",
       "3      0.125015   0.013246            -0.159995     -0.081461   \n",
       "4     -0.725403   0.034795             0.392662      0.139008   \n",
       "\n",
       "   MIN_GEBAEUDEJAHR  KBA13_ANZAHL_PKW  \n",
       "0          0.252149          0.047410  \n",
       "1          0.170710          0.075410  \n",
       "2          0.005800          0.272932  \n",
       "3          0.007804          0.055585  \n",
       "4         -0.243640         -0.217522  "
      ]
     },
     "execution_count": 207,
     "metadata": {},
     "output_type": "execute_result"
    }
   ],
   "source": [
    "ori_centers = pca.inverse_transform(centers)\n",
    "df_centers = pd.DataFrame(ori_centers, columns = list(imputed_subset1.columns))\n",
    "df_centers[numeric].head()"
   ]
  },
  {
   "cell_type": "code",
   "execution_count": 208,
   "metadata": {},
   "outputs": [
    {
     "data": {
      "text/html": [
       "<div>\n",
       "<style scoped>\n",
       "    .dataframe tbody tr th:only-of-type {\n",
       "        vertical-align: middle;\n",
       "    }\n",
       "\n",
       "    .dataframe tbody tr th {\n",
       "        vertical-align: top;\n",
       "    }\n",
       "\n",
       "    .dataframe thead th {\n",
       "        text-align: right;\n",
       "    }\n",
       "</style>\n",
       "<table border=\"1\" class=\"dataframe\">\n",
       "  <thead>\n",
       "    <tr style=\"text-align: right;\">\n",
       "      <th></th>\n",
       "      <th>ANZ_PERSONEN</th>\n",
       "      <th>ANZ_TITEL</th>\n",
       "      <th>ANZ_HAUSHALTE_AKTIV</th>\n",
       "      <th>ANZ_HH_TITEL</th>\n",
       "      <th>MIN_GEBAEUDEJAHR</th>\n",
       "      <th>KBA13_ANZAHL_PKW</th>\n",
       "    </tr>\n",
       "  </thead>\n",
       "  <tbody>\n",
       "    <tr>\n",
       "      <th>0</th>\n",
       "      <td>1.622293</td>\n",
       "      <td>0.004129</td>\n",
       "      <td>5.994697</td>\n",
       "      <td>0.021565</td>\n",
       "      <td>1994.111275</td>\n",
       "      <td>635.693027</td>\n",
       "    </tr>\n",
       "    <tr>\n",
       "      <th>1</th>\n",
       "      <td>2.922182</td>\n",
       "      <td>0.003135</td>\n",
       "      <td>6.098942</td>\n",
       "      <td>0.022934</td>\n",
       "      <td>1993.840663</td>\n",
       "      <td>645.138951</td>\n",
       "    </tr>\n",
       "    <tr>\n",
       "      <th>2</th>\n",
       "      <td>1.047238</td>\n",
       "      <td>0.002024</td>\n",
       "      <td>5.787737</td>\n",
       "      <td>0.019009</td>\n",
       "      <td>1993.292685</td>\n",
       "      <td>711.773997</td>\n",
       "    </tr>\n",
       "    <tr>\n",
       "      <th>3</th>\n",
       "      <td>1.873536</td>\n",
       "      <td>0.005072</td>\n",
       "      <td>5.857837</td>\n",
       "      <td>0.014314</td>\n",
       "      <td>1993.299345</td>\n",
       "      <td>638.450952</td>\n",
       "    </tr>\n",
       "    <tr>\n",
       "      <th>4</th>\n",
       "      <td>0.890023</td>\n",
       "      <td>0.006556</td>\n",
       "      <td>14.485593</td>\n",
       "      <td>0.085585</td>\n",
       "      <td>1992.463823</td>\n",
       "      <td>546.317013</td>\n",
       "    </tr>\n",
       "  </tbody>\n",
       "</table>\n",
       "</div>"
      ],
      "text/plain": [
       "   ANZ_PERSONEN  ANZ_TITEL  ANZ_HAUSHALTE_AKTIV  ANZ_HH_TITEL  \\\n",
       "0      1.622293   0.004129             5.994697      0.021565   \n",
       "1      2.922182   0.003135             6.098942      0.022934   \n",
       "2      1.047238   0.002024             5.787737      0.019009   \n",
       "3      1.873536   0.005072             5.857837      0.014314   \n",
       "4      0.890023   0.006556            14.485593      0.085585   \n",
       "\n",
       "   MIN_GEBAEUDEJAHR  KBA13_ANZAHL_PKW  \n",
       "0       1994.111275        635.693027  \n",
       "1       1993.840663        645.138951  \n",
       "2       1993.292685        711.773997  \n",
       "3       1993.299345        638.450952  \n",
       "4       1992.463823        546.317013  "
      ]
     },
     "execution_count": 208,
     "metadata": {},
     "output_type": "execute_result"
    }
   ],
   "source": [
    "# original value of numeric cols\n",
    "df_centers[numeric] = pd.DataFrame(st_scaler.inverse_transform(df_centers[numeric]))\n",
    "df_centers[numeric].head()"
   ]
  },
  {
   "cell_type": "code",
   "execution_count": 223,
   "metadata": {
    "scrolled": true
   },
   "outputs": [
    {
     "data": {
      "text/html": [
       "<div>\n",
       "<style scoped>\n",
       "    .dataframe tbody tr th:only-of-type {\n",
       "        vertical-align: middle;\n",
       "    }\n",
       "\n",
       "    .dataframe tbody tr th {\n",
       "        vertical-align: top;\n",
       "    }\n",
       "\n",
       "    .dataframe thead th {\n",
       "        text-align: right;\n",
       "    }\n",
       "</style>\n",
       "<table border=\"1\" class=\"dataframe\">\n",
       "  <thead>\n",
       "    <tr style=\"text-align: right;\">\n",
       "      <th></th>\n",
       "      <th>ALTERSKATEGORIE_GROB</th>\n",
       "      <th>ANREDE_KZ</th>\n",
       "      <th>FINANZ_MINIMALIST</th>\n",
       "      <th>FINANZ_SPARER</th>\n",
       "      <th>FINANZ_VORSORGER</th>\n",
       "      <th>FINANZ_ANLEGER</th>\n",
       "      <th>FINANZ_UNAUFFAELLIGER</th>\n",
       "      <th>FINANZ_HAUSBAUER</th>\n",
       "      <th>GREEN_AVANTGARDE</th>\n",
       "      <th>HEALTH_TYP</th>\n",
       "      <th>...</th>\n",
       "      <th>CAMEO_INTL_2015_WEALTH_1</th>\n",
       "      <th>CAMEO_INTL_2015_WEALTH_2</th>\n",
       "      <th>CAMEO_INTL_2015_WEALTH_3</th>\n",
       "      <th>CAMEO_INTL_2015_WEALTH_4</th>\n",
       "      <th>CAMEO_INTL_2015_WEALTH_5</th>\n",
       "      <th>CAMEO_INTL_2015_LIFE_STAGE_1</th>\n",
       "      <th>CAMEO_INTL_2015_LIFE_STAGE_2</th>\n",
       "      <th>CAMEO_INTL_2015_LIFE_STAGE_3</th>\n",
       "      <th>CAMEO_INTL_2015_LIFE_STAGE_4</th>\n",
       "      <th>CAMEO_INTL_2015_LIFE_STAGE_5</th>\n",
       "    </tr>\n",
       "  </thead>\n",
       "  <tbody>\n",
       "    <tr>\n",
       "      <th>0</th>\n",
       "      <td>1.792959</td>\n",
       "      <td>1.973007</td>\n",
       "      <td>2.726093</td>\n",
       "      <td>3.518949</td>\n",
       "      <td>2.367149</td>\n",
       "      <td>3.727892</td>\n",
       "      <td>3.616752</td>\n",
       "      <td>2.617063</td>\n",
       "      <td>0.187598</td>\n",
       "      <td>2.140760</td>\n",
       "      <td>...</td>\n",
       "      <td>0.191693</td>\n",
       "      <td>0.277103</td>\n",
       "      <td>0.086603</td>\n",
       "      <td>0.208420</td>\n",
       "      <td>0.236181</td>\n",
       "      <td>0.272243</td>\n",
       "      <td>0.108549</td>\n",
       "      <td>0.172933</td>\n",
       "      <td>0.328870</td>\n",
       "      <td>0.117405</td>\n",
       "    </tr>\n",
       "    <tr>\n",
       "      <th>15</th>\n",
       "      <td>NaN</td>\n",
       "      <td>NaN</td>\n",
       "      <td>NaN</td>\n",
       "      <td>NaN</td>\n",
       "      <td>NaN</td>\n",
       "      <td>NaN</td>\n",
       "      <td>NaN</td>\n",
       "      <td>NaN</td>\n",
       "      <td>NaN</td>\n",
       "      <td>NaN</td>\n",
       "      <td>...</td>\n",
       "      <td>NaN</td>\n",
       "      <td>NaN</td>\n",
       "      <td>NaN</td>\n",
       "      <td>NaN</td>\n",
       "      <td>NaN</td>\n",
       "      <td>NaN</td>\n",
       "      <td>NaN</td>\n",
       "      <td>NaN</td>\n",
       "      <td>NaN</td>\n",
       "      <td>NaN</td>\n",
       "    </tr>\n",
       "    <tr>\n",
       "      <th>1</th>\n",
       "      <td>1.786732</td>\n",
       "      <td>0.960777</td>\n",
       "      <td>2.855932</td>\n",
       "      <td>4.033309</td>\n",
       "      <td>2.349854</td>\n",
       "      <td>3.745555</td>\n",
       "      <td>3.825500</td>\n",
       "      <td>2.631660</td>\n",
       "      <td>0.325623</td>\n",
       "      <td>2.164484</td>\n",
       "      <td>...</td>\n",
       "      <td>0.168947</td>\n",
       "      <td>0.306184</td>\n",
       "      <td>0.089915</td>\n",
       "      <td>0.222325</td>\n",
       "      <td>0.212630</td>\n",
       "      <td>0.257093</td>\n",
       "      <td>0.132312</td>\n",
       "      <td>0.196433</td>\n",
       "      <td>0.307113</td>\n",
       "      <td>0.107048</td>\n",
       "    </tr>\n",
       "  </tbody>\n",
       "</table>\n",
       "<p>3 rows × 210 columns</p>\n",
       "</div>"
      ],
      "text/plain": [
       "    ALTERSKATEGORIE_GROB  ANREDE_KZ  FINANZ_MINIMALIST  FINANZ_SPARER  \\\n",
       "0               1.792959   1.973007           2.726093       3.518949   \n",
       "15                   NaN        NaN                NaN            NaN   \n",
       "1               1.786732   0.960777           2.855932       4.033309   \n",
       "\n",
       "    FINANZ_VORSORGER  FINANZ_ANLEGER  FINANZ_UNAUFFAELLIGER  FINANZ_HAUSBAUER  \\\n",
       "0           2.367149        3.727892               3.616752          2.617063   \n",
       "15               NaN             NaN                    NaN               NaN   \n",
       "1           2.349854        3.745555               3.825500          2.631660   \n",
       "\n",
       "    GREEN_AVANTGARDE  HEALTH_TYP              ...               \\\n",
       "0           0.187598    2.140760              ...                \n",
       "15               NaN         NaN              ...                \n",
       "1           0.325623    2.164484              ...                \n",
       "\n",
       "    CAMEO_INTL_2015_WEALTH_1  CAMEO_INTL_2015_WEALTH_2  \\\n",
       "0                   0.191693                  0.277103   \n",
       "15                       NaN                       NaN   \n",
       "1                   0.168947                  0.306184   \n",
       "\n",
       "    CAMEO_INTL_2015_WEALTH_3  CAMEO_INTL_2015_WEALTH_4  \\\n",
       "0                   0.086603                  0.208420   \n",
       "15                       NaN                       NaN   \n",
       "1                   0.089915                  0.222325   \n",
       "\n",
       "    CAMEO_INTL_2015_WEALTH_5  CAMEO_INTL_2015_LIFE_STAGE_1  \\\n",
       "0                   0.236181                      0.272243   \n",
       "15                       NaN                           NaN   \n",
       "1                   0.212630                      0.257093   \n",
       "\n",
       "    CAMEO_INTL_2015_LIFE_STAGE_2  CAMEO_INTL_2015_LIFE_STAGE_3  \\\n",
       "0                       0.108549                      0.172933   \n",
       "15                           NaN                           NaN   \n",
       "1                       0.132312                      0.196433   \n",
       "\n",
       "    CAMEO_INTL_2015_LIFE_STAGE_4  CAMEO_INTL_2015_LIFE_STAGE_5  \n",
       "0                       0.328870                      0.117405  \n",
       "15                           NaN                           NaN  \n",
       "1                       0.307113                      0.107048  \n",
       "\n",
       "[3 rows x 210 columns]"
      ]
     },
     "execution_count": 223,
     "metadata": {},
     "output_type": "execute_result"
    }
   ],
   "source": [
    "# original centers of the 3 clusters that are overrepresented in the\n",
    "# customer data compared to the general population\n",
    "df_centers.reindex(overrepresented)"
   ]
  },
  {
   "cell_type": "code",
   "execution_count": 231,
   "metadata": {},
   "outputs": [],
   "source": [
    "ordinals = list(selected_feat_info[selected_feat_info['type']=='ordinal']['attribute'].values)"
   ]
  },
  {
   "cell_type": "code",
   "execution_count": 229,
   "metadata": {},
   "outputs": [],
   "source": [
    "# some important features from part2.3\n",
    "feas = ['LP_LEBENSPHASE_FEIN','LP_LEBENSPHASE_GROB','SEMIO_KULT', 'SEMIO_REL', 'SEMIO_FAM', 'SEMIO_PFLICHT', \n",
    "        'SEMIO_TRADV', 'SEMIO_MAT', 'SEMIO_SOZ','SEMIO_KRIT', 'SEMIO_KAEM', 'SEMIO_LUST', 'SEMIO_ERL',\n",
    "        'ORTSGR_KLS9', 'EWDICHTE', 'PLZ8_BAUMAX', 'WOHNLAGE', 'BALLRAUM', 'INNENSTADT']"
   ]
  },
  {
   "cell_type": "code",
   "execution_count": 232,
   "metadata": {},
   "outputs": [
    {
     "name": "stdout",
     "output_type": "stream",
     "text": [
      "mixed\n",
      "mixed\n",
      "ordinal\n",
      "ordinal\n",
      "ordinal\n",
      "ordinal\n",
      "ordinal\n",
      "ordinal\n",
      "ordinal\n",
      "ordinal\n",
      "ordinal\n",
      "ordinal\n",
      "ordinal\n",
      "ordinal\n",
      "ordinal\n",
      "mixed\n",
      "mixed\n",
      "ordinal\n",
      "ordinal\n"
     ]
    }
   ],
   "source": [
    "# we can see from the result, the selected important features are mainly ordinal features and a few mixed features.\n",
    "for f in feas:\n",
    "    if f in categoricals:\n",
    "        print ('cat')\n",
    "    elif f in mixed:\n",
    "        print ('mixed')\n",
    "    elif f in numeric:\n",
    "        print ('numeric')\n",
    "    elif f in ordinals:\n",
    "        print ('ordinal')\n",
    "    else:\n",
    "        print ('others')"
   ]
  },
  {
   "cell_type": "code",
   "execution_count": 233,
   "metadata": {},
   "outputs": [],
   "source": [
    "mix_fea = []\n",
    "ord_fea = []\n",
    "for f in feas:\n",
    "    if f in mixed:\n",
    "        mix_fea.append(f)\n",
    "    elif f in ordinals:\n",
    "        ord_fea.append(f)"
   ]
  },
  {
   "cell_type": "code",
   "execution_count": 234,
   "metadata": {},
   "outputs": [
    {
     "data": {
      "text/plain": [
       "['LP_LEBENSPHASE_FEIN', 'LP_LEBENSPHASE_GROB', 'PLZ8_BAUMAX', 'WOHNLAGE']"
      ]
     },
     "execution_count": 234,
     "metadata": {},
     "output_type": "execute_result"
    }
   ],
   "source": [
    "mix_fea"
   ]
  },
  {
   "cell_type": "code",
   "execution_count": 235,
   "metadata": {
    "scrolled": true
   },
   "outputs": [
    {
     "data": {
      "text/plain": [
       "['SEMIO_KULT',\n",
       " 'SEMIO_REL',\n",
       " 'SEMIO_FAM',\n",
       " 'SEMIO_PFLICHT',\n",
       " 'SEMIO_TRADV',\n",
       " 'SEMIO_MAT',\n",
       " 'SEMIO_SOZ',\n",
       " 'SEMIO_KRIT',\n",
       " 'SEMIO_KAEM',\n",
       " 'SEMIO_LUST',\n",
       " 'SEMIO_ERL',\n",
       " 'ORTSGR_KLS9',\n",
       " 'EWDICHTE',\n",
       " 'BALLRAUM',\n",
       " 'INNENSTADT']"
      ]
     },
     "execution_count": 235,
     "metadata": {},
     "output_type": "execute_result"
    }
   ],
   "source": [
    "ord_fea"
   ]
  },
  {
   "cell_type": "code",
   "execution_count": 241,
   "metadata": {
    "scrolled": true
   },
   "outputs": [
    {
     "data": {
      "text/html": [
       "<div>\n",
       "<style scoped>\n",
       "    .dataframe tbody tr th:only-of-type {\n",
       "        vertical-align: middle;\n",
       "    }\n",
       "\n",
       "    .dataframe tbody tr th {\n",
       "        vertical-align: top;\n",
       "    }\n",
       "\n",
       "    .dataframe thead th {\n",
       "        text-align: right;\n",
       "    }\n",
       "</style>\n",
       "<table border=\"1\" class=\"dataframe\">\n",
       "  <thead>\n",
       "    <tr style=\"text-align: right;\">\n",
       "      <th></th>\n",
       "      <th>SEMIO_KULT</th>\n",
       "      <th>SEMIO_REL</th>\n",
       "      <th>SEMIO_FAM</th>\n",
       "      <th>SEMIO_PFLICHT</th>\n",
       "      <th>SEMIO_TRADV</th>\n",
       "      <th>SEMIO_MAT</th>\n",
       "      <th>SEMIO_SOZ</th>\n",
       "      <th>SEMIO_KRIT</th>\n",
       "      <th>SEMIO_KAEM</th>\n",
       "      <th>SEMIO_LUST</th>\n",
       "      <th>SEMIO_ERL</th>\n",
       "      <th>ORTSGR_KLS9</th>\n",
       "      <th>EWDICHTE</th>\n",
       "      <th>BALLRAUM</th>\n",
       "      <th>INNENSTADT</th>\n",
       "    </tr>\n",
       "  </thead>\n",
       "  <tbody>\n",
       "    <tr>\n",
       "      <th>0</th>\n",
       "      <td>3.979935</td>\n",
       "      <td>5.213774</td>\n",
       "      <td>3.788885</td>\n",
       "      <td>5.920883</td>\n",
       "      <td>6.116</td>\n",
       "      <td>5.148342</td>\n",
       "      <td>2.737443</td>\n",
       "      <td>5.764029</td>\n",
       "      <td>5.783833</td>\n",
       "      <td>3.073719</td>\n",
       "      <td>4.433071</td>\n",
       "      <td>5.060698</td>\n",
       "      <td>3.805006</td>\n",
       "      <td>4.24585</td>\n",
       "      <td>4.703517</td>\n",
       "    </tr>\n",
       "  </tbody>\n",
       "</table>\n",
       "</div>"
      ],
      "text/plain": [
       "   SEMIO_KULT  SEMIO_REL  SEMIO_FAM  SEMIO_PFLICHT  SEMIO_TRADV  SEMIO_MAT  \\\n",
       "0    3.979935   5.213774   3.788885       5.920883        6.116   5.148342   \n",
       "\n",
       "   SEMIO_SOZ  SEMIO_KRIT  SEMIO_KAEM  SEMIO_LUST  SEMIO_ERL  ORTSGR_KLS9  \\\n",
       "0   2.737443    5.764029    5.783833    3.073719   4.433071     5.060698   \n",
       "\n",
       "   EWDICHTE  BALLRAUM  INNENSTADT  \n",
       "0  3.805006   4.24585    4.703517  "
      ]
     },
     "execution_count": 241,
     "metadata": {},
     "output_type": "execute_result"
    }
   ],
   "source": [
    "df_centers.reindex([0])[ord_fea]"
   ]
  },
  {
   "cell_type": "code",
   "execution_count": 243,
   "metadata": {},
   "outputs": [
    {
     "data": {
      "text/html": [
       "<div>\n",
       "<style scoped>\n",
       "    .dataframe tbody tr th:only-of-type {\n",
       "        vertical-align: middle;\n",
       "    }\n",
       "\n",
       "    .dataframe tbody tr th {\n",
       "        vertical-align: top;\n",
       "    }\n",
       "\n",
       "    .dataframe thead th {\n",
       "        text-align: right;\n",
       "    }\n",
       "</style>\n",
       "<table border=\"1\" class=\"dataframe\">\n",
       "  <thead>\n",
       "    <tr style=\"text-align: right;\">\n",
       "      <th></th>\n",
       "      <th>LP_LEBENSPHASE_FEIN</th>\n",
       "      <th>LP_LEBENSPHASE_GROB</th>\n",
       "      <th>PLZ8_BAUMAX</th>\n",
       "      <th>WOHNLAGE</th>\n",
       "    </tr>\n",
       "  </thead>\n",
       "  <tbody>\n",
       "    <tr>\n",
       "      <th>0</th>\n",
       "      <td>12.749663</td>\n",
       "      <td>3.535953</td>\n",
       "      <td>1.62902</td>\n",
       "      <td>3.946476</td>\n",
       "    </tr>\n",
       "  </tbody>\n",
       "</table>\n",
       "</div>"
      ],
      "text/plain": [
       "   LP_LEBENSPHASE_FEIN  LP_LEBENSPHASE_GROB  PLZ8_BAUMAX  WOHNLAGE\n",
       "0            12.749663             3.535953      1.62902  3.946476"
      ]
     },
     "execution_count": 243,
     "metadata": {},
     "output_type": "execute_result"
    }
   ],
   "source": [
    "df_centers.reindex([0])[mix_fea]"
   ]
  },
  {
   "cell_type": "code",
   "execution_count": 242,
   "metadata": {},
   "outputs": [
    {
     "data": {
      "text/html": [
       "<div>\n",
       "<style scoped>\n",
       "    .dataframe tbody tr th:only-of-type {\n",
       "        vertical-align: middle;\n",
       "    }\n",
       "\n",
       "    .dataframe tbody tr th {\n",
       "        vertical-align: top;\n",
       "    }\n",
       "\n",
       "    .dataframe thead th {\n",
       "        text-align: right;\n",
       "    }\n",
       "</style>\n",
       "<table border=\"1\" class=\"dataframe\">\n",
       "  <thead>\n",
       "    <tr style=\"text-align: right;\">\n",
       "      <th></th>\n",
       "      <th>SEMIO_KULT</th>\n",
       "      <th>SEMIO_REL</th>\n",
       "      <th>SEMIO_FAM</th>\n",
       "      <th>SEMIO_PFLICHT</th>\n",
       "      <th>SEMIO_TRADV</th>\n",
       "      <th>SEMIO_MAT</th>\n",
       "      <th>SEMIO_SOZ</th>\n",
       "      <th>SEMIO_KRIT</th>\n",
       "      <th>SEMIO_KAEM</th>\n",
       "      <th>SEMIO_LUST</th>\n",
       "      <th>SEMIO_ERL</th>\n",
       "      <th>ORTSGR_KLS9</th>\n",
       "      <th>EWDICHTE</th>\n",
       "      <th>BALLRAUM</th>\n",
       "      <th>INNENSTADT</th>\n",
       "    </tr>\n",
       "  </thead>\n",
       "  <tbody>\n",
       "    <tr>\n",
       "      <th>1</th>\n",
       "      <td>6.838262</td>\n",
       "      <td>6.379238</td>\n",
       "      <td>6.875399</td>\n",
       "      <td>5.90115</td>\n",
       "      <td>4.900436</td>\n",
       "      <td>5.34648</td>\n",
       "      <td>6.861999</td>\n",
       "      <td>2.426673</td>\n",
       "      <td>2.191167</td>\n",
       "      <td>2.813792</td>\n",
       "      <td>2.076387</td>\n",
       "      <td>5.055381</td>\n",
       "      <td>3.769942</td>\n",
       "      <td>4.265772</td>\n",
       "      <td>4.727037</td>\n",
       "    </tr>\n",
       "  </tbody>\n",
       "</table>\n",
       "</div>"
      ],
      "text/plain": [
       "   SEMIO_KULT  SEMIO_REL  SEMIO_FAM  SEMIO_PFLICHT  SEMIO_TRADV  SEMIO_MAT  \\\n",
       "1    6.838262   6.379238   6.875399        5.90115     4.900436    5.34648   \n",
       "\n",
       "   SEMIO_SOZ  SEMIO_KRIT  SEMIO_KAEM  SEMIO_LUST  SEMIO_ERL  ORTSGR_KLS9  \\\n",
       "1   6.861999    2.426673    2.191167    2.813792   2.076387     5.055381   \n",
       "\n",
       "   EWDICHTE  BALLRAUM  INNENSTADT  \n",
       "1  3.769942  4.265772    4.727037  "
      ]
     },
     "execution_count": 242,
     "metadata": {},
     "output_type": "execute_result"
    }
   ],
   "source": [
    "df_centers.reindex([1])[ord_fea]"
   ]
  },
  {
   "cell_type": "code",
   "execution_count": 244,
   "metadata": {},
   "outputs": [
    {
     "data": {
      "text/html": [
       "<div>\n",
       "<style scoped>\n",
       "    .dataframe tbody tr th:only-of-type {\n",
       "        vertical-align: middle;\n",
       "    }\n",
       "\n",
       "    .dataframe tbody tr th {\n",
       "        vertical-align: top;\n",
       "    }\n",
       "\n",
       "    .dataframe thead th {\n",
       "        text-align: right;\n",
       "    }\n",
       "</style>\n",
       "<table border=\"1\" class=\"dataframe\">\n",
       "  <thead>\n",
       "    <tr style=\"text-align: right;\">\n",
       "      <th></th>\n",
       "      <th>LP_LEBENSPHASE_FEIN</th>\n",
       "      <th>LP_LEBENSPHASE_GROB</th>\n",
       "      <th>PLZ8_BAUMAX</th>\n",
       "      <th>WOHNLAGE</th>\n",
       "    </tr>\n",
       "  </thead>\n",
       "  <tbody>\n",
       "    <tr>\n",
       "      <th>1</th>\n",
       "      <td>29.089124</td>\n",
       "      <td>8.960837</td>\n",
       "      <td>1.665112</td>\n",
       "      <td>4.033049</td>\n",
       "    </tr>\n",
       "  </tbody>\n",
       "</table>\n",
       "</div>"
      ],
      "text/plain": [
       "   LP_LEBENSPHASE_FEIN  LP_LEBENSPHASE_GROB  PLZ8_BAUMAX  WOHNLAGE\n",
       "1            29.089124             8.960837     1.665112  4.033049"
      ]
     },
     "execution_count": 244,
     "metadata": {},
     "output_type": "execute_result"
    }
   ],
   "source": [
    "df_centers.reindex([1])[mix_fea]"
   ]
  },
  {
   "cell_type": "code",
   "execution_count": null,
   "metadata": {},
   "outputs": [],
   "source": []
  },
  {
   "cell_type": "code",
   "execution_count": 215,
   "metadata": {},
   "outputs": [
    {
     "data": {
      "text/plain": [
       "[9, 8, 10, 11]"
      ]
     },
     "execution_count": 215,
     "metadata": {},
     "output_type": "execute_result"
    }
   ],
   "source": [
    "# What kinds of people are part of a cluster that is underrepresented in the\n",
    "# customer data compared to the general population?\n",
    "underrepresented  = list(clusters_pivot['difference %'].sort_values(ascending = True).head(4).index)\n",
    "underrepresented\n"
   ]
  },
  {
   "cell_type": "code",
   "execution_count": 224,
   "metadata": {
    "scrolled": true
   },
   "outputs": [
    {
     "data": {
      "text/html": [
       "<div>\n",
       "<style scoped>\n",
       "    .dataframe tbody tr th:only-of-type {\n",
       "        vertical-align: middle;\n",
       "    }\n",
       "\n",
       "    .dataframe tbody tr th {\n",
       "        vertical-align: top;\n",
       "    }\n",
       "\n",
       "    .dataframe thead th {\n",
       "        text-align: right;\n",
       "    }\n",
       "</style>\n",
       "<table border=\"1\" class=\"dataframe\">\n",
       "  <thead>\n",
       "    <tr style=\"text-align: right;\">\n",
       "      <th></th>\n",
       "      <th>ALTERSKATEGORIE_GROB</th>\n",
       "      <th>ANREDE_KZ</th>\n",
       "      <th>FINANZ_MINIMALIST</th>\n",
       "      <th>FINANZ_SPARER</th>\n",
       "      <th>FINANZ_VORSORGER</th>\n",
       "      <th>FINANZ_ANLEGER</th>\n",
       "      <th>FINANZ_UNAUFFAELLIGER</th>\n",
       "      <th>FINANZ_HAUSBAUER</th>\n",
       "      <th>GREEN_AVANTGARDE</th>\n",
       "      <th>HEALTH_TYP</th>\n",
       "      <th>...</th>\n",
       "      <th>CAMEO_INTL_2015_WEALTH_1</th>\n",
       "      <th>CAMEO_INTL_2015_WEALTH_2</th>\n",
       "      <th>CAMEO_INTL_2015_WEALTH_3</th>\n",
       "      <th>CAMEO_INTL_2015_WEALTH_4</th>\n",
       "      <th>CAMEO_INTL_2015_WEALTH_5</th>\n",
       "      <th>CAMEO_INTL_2015_LIFE_STAGE_1</th>\n",
       "      <th>CAMEO_INTL_2015_LIFE_STAGE_2</th>\n",
       "      <th>CAMEO_INTL_2015_LIFE_STAGE_3</th>\n",
       "      <th>CAMEO_INTL_2015_LIFE_STAGE_4</th>\n",
       "      <th>CAMEO_INTL_2015_LIFE_STAGE_5</th>\n",
       "    </tr>\n",
       "  </thead>\n",
       "  <tbody>\n",
       "    <tr>\n",
       "      <th>9</th>\n",
       "      <td>3.605412</td>\n",
       "      <td>1.980445</td>\n",
       "      <td>2.537604</td>\n",
       "      <td>1.849724</td>\n",
       "      <td>4.310137</td>\n",
       "      <td>2.123819</td>\n",
       "      <td>1.758384</td>\n",
       "      <td>4.262163</td>\n",
       "      <td>0.104750</td>\n",
       "      <td>2.057216</td>\n",
       "      <td>...</td>\n",
       "      <td>0.042999</td>\n",
       "      <td>0.122588</td>\n",
       "      <td>0.081938</td>\n",
       "      <td>0.299470</td>\n",
       "      <td>0.453004</td>\n",
       "      <td>0.432749</td>\n",
       "      <td>0.037959</td>\n",
       "      <td>0.089801</td>\n",
       "      <td>0.242979</td>\n",
       "      <td>0.196512</td>\n",
       "    </tr>\n",
       "    <tr>\n",
       "      <th>8</th>\n",
       "      <td>3.566892</td>\n",
       "      <td>1.949708</td>\n",
       "      <td>3.764154</td>\n",
       "      <td>1.503784</td>\n",
       "      <td>4.398369</td>\n",
       "      <td>2.224695</td>\n",
       "      <td>1.898266</td>\n",
       "      <td>3.101781</td>\n",
       "      <td>0.392460</td>\n",
       "      <td>2.019953</td>\n",
       "      <td>...</td>\n",
       "      <td>0.269947</td>\n",
       "      <td>0.241161</td>\n",
       "      <td>0.085628</td>\n",
       "      <td>0.199706</td>\n",
       "      <td>0.203559</td>\n",
       "      <td>0.178298</td>\n",
       "      <td>0.088630</td>\n",
       "      <td>0.160869</td>\n",
       "      <td>0.373847</td>\n",
       "      <td>0.198357</td>\n",
       "    </tr>\n",
       "    <tr>\n",
       "      <th>10</th>\n",
       "      <td>3.414206</td>\n",
       "      <td>1.508523</td>\n",
       "      <td>4.032734</td>\n",
       "      <td>1.695945</td>\n",
       "      <td>4.194545</td>\n",
       "      <td>2.520700</td>\n",
       "      <td>1.844447</td>\n",
       "      <td>2.660143</td>\n",
       "      <td>0.100276</td>\n",
       "      <td>2.245457</td>\n",
       "      <td>...</td>\n",
       "      <td>0.153874</td>\n",
       "      <td>0.423144</td>\n",
       "      <td>0.093339</td>\n",
       "      <td>0.241566</td>\n",
       "      <td>0.088077</td>\n",
       "      <td>0.134561</td>\n",
       "      <td>0.131580</td>\n",
       "      <td>0.227444</td>\n",
       "      <td>0.331029</td>\n",
       "      <td>0.175386</td>\n",
       "    </tr>\n",
       "    <tr>\n",
       "      <th>11</th>\n",
       "      <td>1.725648</td>\n",
       "      <td>1.959836</td>\n",
       "      <td>1.670083</td>\n",
       "      <td>4.035337</td>\n",
       "      <td>2.350325</td>\n",
       "      <td>4.151908</td>\n",
       "      <td>3.738330</td>\n",
       "      <td>3.761755</td>\n",
       "      <td>0.168981</td>\n",
       "      <td>2.286524</td>\n",
       "      <td>...</td>\n",
       "      <td>0.078622</td>\n",
       "      <td>0.146026</td>\n",
       "      <td>0.095253</td>\n",
       "      <td>0.275417</td>\n",
       "      <td>0.404682</td>\n",
       "      <td>0.414395</td>\n",
       "      <td>0.103168</td>\n",
       "      <td>0.148385</td>\n",
       "      <td>0.234525</td>\n",
       "      <td>0.099527</td>\n",
       "    </tr>\n",
       "  </tbody>\n",
       "</table>\n",
       "<p>4 rows × 210 columns</p>\n",
       "</div>"
      ],
      "text/plain": [
       "    ALTERSKATEGORIE_GROB  ANREDE_KZ  FINANZ_MINIMALIST  FINANZ_SPARER  \\\n",
       "9               3.605412   1.980445           2.537604       1.849724   \n",
       "8               3.566892   1.949708           3.764154       1.503784   \n",
       "10              3.414206   1.508523           4.032734       1.695945   \n",
       "11              1.725648   1.959836           1.670083       4.035337   \n",
       "\n",
       "    FINANZ_VORSORGER  FINANZ_ANLEGER  FINANZ_UNAUFFAELLIGER  FINANZ_HAUSBAUER  \\\n",
       "9           4.310137        2.123819               1.758384          4.262163   \n",
       "8           4.398369        2.224695               1.898266          3.101781   \n",
       "10          4.194545        2.520700               1.844447          2.660143   \n",
       "11          2.350325        4.151908               3.738330          3.761755   \n",
       "\n",
       "    GREEN_AVANTGARDE  HEALTH_TYP              ...               \\\n",
       "9           0.104750    2.057216              ...                \n",
       "8           0.392460    2.019953              ...                \n",
       "10          0.100276    2.245457              ...                \n",
       "11          0.168981    2.286524              ...                \n",
       "\n",
       "    CAMEO_INTL_2015_WEALTH_1  CAMEO_INTL_2015_WEALTH_2  \\\n",
       "9                   0.042999                  0.122588   \n",
       "8                   0.269947                  0.241161   \n",
       "10                  0.153874                  0.423144   \n",
       "11                  0.078622                  0.146026   \n",
       "\n",
       "    CAMEO_INTL_2015_WEALTH_3  CAMEO_INTL_2015_WEALTH_4  \\\n",
       "9                   0.081938                  0.299470   \n",
       "8                   0.085628                  0.199706   \n",
       "10                  0.093339                  0.241566   \n",
       "11                  0.095253                  0.275417   \n",
       "\n",
       "    CAMEO_INTL_2015_WEALTH_5  CAMEO_INTL_2015_LIFE_STAGE_1  \\\n",
       "9                   0.453004                      0.432749   \n",
       "8                   0.203559                      0.178298   \n",
       "10                  0.088077                      0.134561   \n",
       "11                  0.404682                      0.414395   \n",
       "\n",
       "    CAMEO_INTL_2015_LIFE_STAGE_2  CAMEO_INTL_2015_LIFE_STAGE_3  \\\n",
       "9                       0.037959                      0.089801   \n",
       "8                       0.088630                      0.160869   \n",
       "10                      0.131580                      0.227444   \n",
       "11                      0.103168                      0.148385   \n",
       "\n",
       "    CAMEO_INTL_2015_LIFE_STAGE_4  CAMEO_INTL_2015_LIFE_STAGE_5  \n",
       "9                       0.242979                      0.196512  \n",
       "8                       0.373847                      0.198357  \n",
       "10                      0.331029                      0.175386  \n",
       "11                      0.234525                      0.099527  \n",
       "\n",
       "[4 rows x 210 columns]"
      ]
     },
     "execution_count": 224,
     "metadata": {},
     "output_type": "execute_result"
    }
   ],
   "source": [
    "# original centers of the 5 main clusters that are underrepresented in the\n",
    "# customer data compared to the general population\n",
    "df_centers.reindex(underrepresented)"
   ]
  },
  {
   "cell_type": "code",
   "execution_count": 245,
   "metadata": {},
   "outputs": [
    {
     "data": {
      "text/html": [
       "<div>\n",
       "<style scoped>\n",
       "    .dataframe tbody tr th:only-of-type {\n",
       "        vertical-align: middle;\n",
       "    }\n",
       "\n",
       "    .dataframe tbody tr th {\n",
       "        vertical-align: top;\n",
       "    }\n",
       "\n",
       "    .dataframe thead th {\n",
       "        text-align: right;\n",
       "    }\n",
       "</style>\n",
       "<table border=\"1\" class=\"dataframe\">\n",
       "  <thead>\n",
       "    <tr style=\"text-align: right;\">\n",
       "      <th></th>\n",
       "      <th>SEMIO_KULT</th>\n",
       "      <th>SEMIO_REL</th>\n",
       "      <th>SEMIO_FAM</th>\n",
       "      <th>SEMIO_PFLICHT</th>\n",
       "      <th>SEMIO_TRADV</th>\n",
       "      <th>SEMIO_MAT</th>\n",
       "      <th>SEMIO_SOZ</th>\n",
       "      <th>SEMIO_KRIT</th>\n",
       "      <th>SEMIO_KAEM</th>\n",
       "      <th>SEMIO_LUST</th>\n",
       "      <th>SEMIO_ERL</th>\n",
       "      <th>ORTSGR_KLS9</th>\n",
       "      <th>EWDICHTE</th>\n",
       "      <th>BALLRAUM</th>\n",
       "      <th>INNENSTADT</th>\n",
       "    </tr>\n",
       "  </thead>\n",
       "  <tbody>\n",
       "    <tr>\n",
       "      <th>9</th>\n",
       "      <td>1.70481</td>\n",
       "      <td>1.948785</td>\n",
       "      <td>2.125445</td>\n",
       "      <td>2.945461</td>\n",
       "      <td>2.281875</td>\n",
       "      <td>2.540005</td>\n",
       "      <td>3.199391</td>\n",
       "      <td>5.914624</td>\n",
       "      <td>6.289951</td>\n",
       "      <td>5.344886</td>\n",
       "      <td>6.50615</td>\n",
       "      <td>6.550952</td>\n",
       "      <td>4.906056</td>\n",
       "      <td>3.43087</td>\n",
       "      <td>3.692108</td>\n",
       "    </tr>\n",
       "  </tbody>\n",
       "</table>\n",
       "</div>"
      ],
      "text/plain": [
       "   SEMIO_KULT  SEMIO_REL  SEMIO_FAM  SEMIO_PFLICHT  SEMIO_TRADV  SEMIO_MAT  \\\n",
       "9     1.70481   1.948785   2.125445       2.945461     2.281875   2.540005   \n",
       "\n",
       "   SEMIO_SOZ  SEMIO_KRIT  SEMIO_KAEM  SEMIO_LUST  SEMIO_ERL  ORTSGR_KLS9  \\\n",
       "9   3.199391    5.914624    6.289951    5.344886    6.50615     6.550952   \n",
       "\n",
       "   EWDICHTE  BALLRAUM  INNENSTADT  \n",
       "9  4.906056   3.43087    3.692108  "
      ]
     },
     "execution_count": 245,
     "metadata": {},
     "output_type": "execute_result"
    }
   ],
   "source": [
    "df_centers.reindex([9])[ord_fea]"
   ]
  },
  {
   "cell_type": "code",
   "execution_count": 249,
   "metadata": {},
   "outputs": [
    {
     "data": {
      "text/html": [
       "<div>\n",
       "<style scoped>\n",
       "    .dataframe tbody tr th:only-of-type {\n",
       "        vertical-align: middle;\n",
       "    }\n",
       "\n",
       "    .dataframe tbody tr th {\n",
       "        vertical-align: top;\n",
       "    }\n",
       "\n",
       "    .dataframe thead th {\n",
       "        text-align: right;\n",
       "    }\n",
       "</style>\n",
       "<table border=\"1\" class=\"dataframe\">\n",
       "  <thead>\n",
       "    <tr style=\"text-align: right;\">\n",
       "      <th></th>\n",
       "      <th>LP_LEBENSPHASE_FEIN</th>\n",
       "      <th>LP_LEBENSPHASE_GROB</th>\n",
       "      <th>PLZ8_BAUMAX</th>\n",
       "      <th>WOHNLAGE</th>\n",
       "    </tr>\n",
       "  </thead>\n",
       "  <tbody>\n",
       "    <tr>\n",
       "      <th>9</th>\n",
       "      <td>5.481337</td>\n",
       "      <td>1.99618</td>\n",
       "      <td>2.57071</td>\n",
       "      <td>3.28163</td>\n",
       "    </tr>\n",
       "  </tbody>\n",
       "</table>\n",
       "</div>"
      ],
      "text/plain": [
       "   LP_LEBENSPHASE_FEIN  LP_LEBENSPHASE_GROB  PLZ8_BAUMAX  WOHNLAGE\n",
       "9             5.481337              1.99618      2.57071   3.28163"
      ]
     },
     "execution_count": 249,
     "metadata": {},
     "output_type": "execute_result"
    }
   ],
   "source": [
    "df_centers.reindex([9])[mix_fea]"
   ]
  },
  {
   "cell_type": "code",
   "execution_count": 246,
   "metadata": {},
   "outputs": [
    {
     "data": {
      "text/html": [
       "<div>\n",
       "<style scoped>\n",
       "    .dataframe tbody tr th:only-of-type {\n",
       "        vertical-align: middle;\n",
       "    }\n",
       "\n",
       "    .dataframe tbody tr th {\n",
       "        vertical-align: top;\n",
       "    }\n",
       "\n",
       "    .dataframe thead th {\n",
       "        text-align: right;\n",
       "    }\n",
       "</style>\n",
       "<table border=\"1\" class=\"dataframe\">\n",
       "  <thead>\n",
       "    <tr style=\"text-align: right;\">\n",
       "      <th></th>\n",
       "      <th>SEMIO_KULT</th>\n",
       "      <th>SEMIO_REL</th>\n",
       "      <th>SEMIO_FAM</th>\n",
       "      <th>SEMIO_PFLICHT</th>\n",
       "      <th>SEMIO_TRADV</th>\n",
       "      <th>SEMIO_MAT</th>\n",
       "      <th>SEMIO_SOZ</th>\n",
       "      <th>SEMIO_KRIT</th>\n",
       "      <th>SEMIO_KAEM</th>\n",
       "      <th>SEMIO_LUST</th>\n",
       "      <th>SEMIO_ERL</th>\n",
       "      <th>ORTSGR_KLS9</th>\n",
       "      <th>EWDICHTE</th>\n",
       "      <th>BALLRAUM</th>\n",
       "      <th>INNENSTADT</th>\n",
       "    </tr>\n",
       "  </thead>\n",
       "  <tbody>\n",
       "    <tr>\n",
       "      <th>8</th>\n",
       "      <td>1.855344</td>\n",
       "      <td>1.935445</td>\n",
       "      <td>2.112603</td>\n",
       "      <td>2.9955</td>\n",
       "      <td>2.347066</td>\n",
       "      <td>2.445262</td>\n",
       "      <td>3.000512</td>\n",
       "      <td>5.99593</td>\n",
       "      <td>5.93455</td>\n",
       "      <td>5.288419</td>\n",
       "      <td>6.519141</td>\n",
       "      <td>5.221284</td>\n",
       "      <td>3.936615</td>\n",
       "      <td>4.191745</td>\n",
       "      <td>4.653224</td>\n",
       "    </tr>\n",
       "  </tbody>\n",
       "</table>\n",
       "</div>"
      ],
      "text/plain": [
       "   SEMIO_KULT  SEMIO_REL  SEMIO_FAM  SEMIO_PFLICHT  SEMIO_TRADV  SEMIO_MAT  \\\n",
       "8    1.855344   1.935445   2.112603         2.9955     2.347066   2.445262   \n",
       "\n",
       "   SEMIO_SOZ  SEMIO_KRIT  SEMIO_KAEM  SEMIO_LUST  SEMIO_ERL  ORTSGR_KLS9  \\\n",
       "8   3.000512     5.99593     5.93455    5.288419   6.519141     5.221284   \n",
       "\n",
       "   EWDICHTE  BALLRAUM  INNENSTADT  \n",
       "8  3.936615  4.191745    4.653224  "
      ]
     },
     "execution_count": 246,
     "metadata": {},
     "output_type": "execute_result"
    }
   ],
   "source": [
    "df_centers.reindex([8])[ord_fea]"
   ]
  },
  {
   "cell_type": "code",
   "execution_count": 252,
   "metadata": {},
   "outputs": [
    {
     "data": {
      "text/html": [
       "<div>\n",
       "<style scoped>\n",
       "    .dataframe tbody tr th:only-of-type {\n",
       "        vertical-align: middle;\n",
       "    }\n",
       "\n",
       "    .dataframe tbody tr th {\n",
       "        vertical-align: top;\n",
       "    }\n",
       "\n",
       "    .dataframe thead th {\n",
       "        text-align: right;\n",
       "    }\n",
       "</style>\n",
       "<table border=\"1\" class=\"dataframe\">\n",
       "  <thead>\n",
       "    <tr style=\"text-align: right;\">\n",
       "      <th></th>\n",
       "      <th>LP_LEBENSPHASE_FEIN</th>\n",
       "      <th>LP_LEBENSPHASE_GROB</th>\n",
       "      <th>PLZ8_BAUMAX</th>\n",
       "      <th>WOHNLAGE</th>\n",
       "    </tr>\n",
       "  </thead>\n",
       "  <tbody>\n",
       "    <tr>\n",
       "      <th>8</th>\n",
       "      <td>16.056608</td>\n",
       "      <td>4.129001</td>\n",
       "      <td>1.563261</td>\n",
       "      <td>3.622736</td>\n",
       "    </tr>\n",
       "  </tbody>\n",
       "</table>\n",
       "</div>"
      ],
      "text/plain": [
       "   LP_LEBENSPHASE_FEIN  LP_LEBENSPHASE_GROB  PLZ8_BAUMAX  WOHNLAGE\n",
       "8            16.056608             4.129001     1.563261  3.622736"
      ]
     },
     "execution_count": 252,
     "metadata": {},
     "output_type": "execute_result"
    }
   ],
   "source": [
    "df_centers.reindex([8])[mix_fea]"
   ]
  },
  {
   "cell_type": "code",
   "execution_count": 247,
   "metadata": {},
   "outputs": [
    {
     "data": {
      "text/html": [
       "<div>\n",
       "<style scoped>\n",
       "    .dataframe tbody tr th:only-of-type {\n",
       "        vertical-align: middle;\n",
       "    }\n",
       "\n",
       "    .dataframe tbody tr th {\n",
       "        vertical-align: top;\n",
       "    }\n",
       "\n",
       "    .dataframe thead th {\n",
       "        text-align: right;\n",
       "    }\n",
       "</style>\n",
       "<table border=\"1\" class=\"dataframe\">\n",
       "  <thead>\n",
       "    <tr style=\"text-align: right;\">\n",
       "      <th></th>\n",
       "      <th>SEMIO_KULT</th>\n",
       "      <th>SEMIO_REL</th>\n",
       "      <th>SEMIO_FAM</th>\n",
       "      <th>SEMIO_PFLICHT</th>\n",
       "      <th>SEMIO_TRADV</th>\n",
       "      <th>SEMIO_MAT</th>\n",
       "      <th>SEMIO_SOZ</th>\n",
       "      <th>SEMIO_KRIT</th>\n",
       "      <th>SEMIO_KAEM</th>\n",
       "      <th>SEMIO_LUST</th>\n",
       "      <th>SEMIO_ERL</th>\n",
       "      <th>ORTSGR_KLS9</th>\n",
       "      <th>EWDICHTE</th>\n",
       "      <th>BALLRAUM</th>\n",
       "      <th>INNENSTADT</th>\n",
       "    </tr>\n",
       "  </thead>\n",
       "  <tbody>\n",
       "    <tr>\n",
       "      <th>10</th>\n",
       "      <td>3.440174</td>\n",
       "      <td>2.942867</td>\n",
       "      <td>3.442782</td>\n",
       "      <td>3.125374</td>\n",
       "      <td>2.787285</td>\n",
       "      <td>2.943132</td>\n",
       "      <td>3.654112</td>\n",
       "      <td>4.842281</td>\n",
       "      <td>3.931762</td>\n",
       "      <td>4.882415</td>\n",
       "      <td>5.401989</td>\n",
       "      <td>2.763109</td>\n",
       "      <td>2.018224</td>\n",
       "      <td>5.691966</td>\n",
       "      <td>6.227685</td>\n",
       "    </tr>\n",
       "  </tbody>\n",
       "</table>\n",
       "</div>"
      ],
      "text/plain": [
       "    SEMIO_KULT  SEMIO_REL  SEMIO_FAM  SEMIO_PFLICHT  SEMIO_TRADV  SEMIO_MAT  \\\n",
       "10    3.440174   2.942867   3.442782       3.125374     2.787285   2.943132   \n",
       "\n",
       "    SEMIO_SOZ  SEMIO_KRIT  SEMIO_KAEM  SEMIO_LUST  SEMIO_ERL  ORTSGR_KLS9  \\\n",
       "10   3.654112    4.842281    3.931762    4.882415   5.401989     2.763109   \n",
       "\n",
       "    EWDICHTE  BALLRAUM  INNENSTADT  \n",
       "10  2.018224  5.691966    6.227685  "
      ]
     },
     "execution_count": 247,
     "metadata": {},
     "output_type": "execute_result"
    }
   ],
   "source": [
    "df_centers.reindex([10])[ord_fea]"
   ]
  },
  {
   "cell_type": "code",
   "execution_count": 253,
   "metadata": {},
   "outputs": [
    {
     "data": {
      "text/html": [
       "<div>\n",
       "<style scoped>\n",
       "    .dataframe tbody tr th:only-of-type {\n",
       "        vertical-align: middle;\n",
       "    }\n",
       "\n",
       "    .dataframe tbody tr th {\n",
       "        vertical-align: top;\n",
       "    }\n",
       "\n",
       "    .dataframe thead th {\n",
       "        text-align: right;\n",
       "    }\n",
       "</style>\n",
       "<table border=\"1\" class=\"dataframe\">\n",
       "  <thead>\n",
       "    <tr style=\"text-align: right;\">\n",
       "      <th></th>\n",
       "      <th>LP_LEBENSPHASE_FEIN</th>\n",
       "      <th>LP_LEBENSPHASE_GROB</th>\n",
       "      <th>PLZ8_BAUMAX</th>\n",
       "      <th>WOHNLAGE</th>\n",
       "    </tr>\n",
       "  </thead>\n",
       "  <tbody>\n",
       "    <tr>\n",
       "      <th>10</th>\n",
       "      <td>9.37882</td>\n",
       "      <td>2.754886</td>\n",
       "      <td>1.073467</td>\n",
       "      <td>6.09797</td>\n",
       "    </tr>\n",
       "  </tbody>\n",
       "</table>\n",
       "</div>"
      ],
      "text/plain": [
       "    LP_LEBENSPHASE_FEIN  LP_LEBENSPHASE_GROB  PLZ8_BAUMAX  WOHNLAGE\n",
       "10              9.37882             2.754886     1.073467   6.09797"
      ]
     },
     "execution_count": 253,
     "metadata": {},
     "output_type": "execute_result"
    }
   ],
   "source": [
    "df_centers.reindex([10])[mix_fea]"
   ]
  },
  {
   "cell_type": "code",
   "execution_count": 248,
   "metadata": {},
   "outputs": [
    {
     "data": {
      "text/html": [
       "<div>\n",
       "<style scoped>\n",
       "    .dataframe tbody tr th:only-of-type {\n",
       "        vertical-align: middle;\n",
       "    }\n",
       "\n",
       "    .dataframe tbody tr th {\n",
       "        vertical-align: top;\n",
       "    }\n",
       "\n",
       "    .dataframe thead th {\n",
       "        text-align: right;\n",
       "    }\n",
       "</style>\n",
       "<table border=\"1\" class=\"dataframe\">\n",
       "  <thead>\n",
       "    <tr style=\"text-align: right;\">\n",
       "      <th></th>\n",
       "      <th>SEMIO_KULT</th>\n",
       "      <th>SEMIO_REL</th>\n",
       "      <th>SEMIO_FAM</th>\n",
       "      <th>SEMIO_PFLICHT</th>\n",
       "      <th>SEMIO_TRADV</th>\n",
       "      <th>SEMIO_MAT</th>\n",
       "      <th>SEMIO_SOZ</th>\n",
       "      <th>SEMIO_KRIT</th>\n",
       "      <th>SEMIO_KAEM</th>\n",
       "      <th>SEMIO_LUST</th>\n",
       "      <th>SEMIO_ERL</th>\n",
       "      <th>ORTSGR_KLS9</th>\n",
       "      <th>EWDICHTE</th>\n",
       "      <th>BALLRAUM</th>\n",
       "      <th>INNENSTADT</th>\n",
       "    </tr>\n",
       "  </thead>\n",
       "  <tbody>\n",
       "    <tr>\n",
       "      <th>11</th>\n",
       "      <td>4.211054</td>\n",
       "      <td>5.168479</td>\n",
       "      <td>3.852476</td>\n",
       "      <td>5.791837</td>\n",
       "      <td>5.673815</td>\n",
       "      <td>4.706473</td>\n",
       "      <td>3.165297</td>\n",
       "      <td>5.324851</td>\n",
       "      <td>5.987668</td>\n",
       "      <td>2.978681</td>\n",
       "      <td>4.274983</td>\n",
       "      <td>6.536743</td>\n",
       "      <td>4.927996</td>\n",
       "      <td>3.321181</td>\n",
       "      <td>3.710681</td>\n",
       "    </tr>\n",
       "  </tbody>\n",
       "</table>\n",
       "</div>"
      ],
      "text/plain": [
       "    SEMIO_KULT  SEMIO_REL  SEMIO_FAM  SEMIO_PFLICHT  SEMIO_TRADV  SEMIO_MAT  \\\n",
       "11    4.211054   5.168479   3.852476       5.791837     5.673815   4.706473   \n",
       "\n",
       "    SEMIO_SOZ  SEMIO_KRIT  SEMIO_KAEM  SEMIO_LUST  SEMIO_ERL  ORTSGR_KLS9  \\\n",
       "11   3.165297    5.324851    5.987668    2.978681   4.274983     6.536743   \n",
       "\n",
       "    EWDICHTE  BALLRAUM  INNENSTADT  \n",
       "11  4.927996  3.321181    3.710681  "
      ]
     },
     "execution_count": 248,
     "metadata": {},
     "output_type": "execute_result"
    }
   ],
   "source": [
    "df_centers.reindex([11])[ord_fea]"
   ]
  },
  {
   "cell_type": "code",
   "execution_count": 254,
   "metadata": {},
   "outputs": [
    {
     "data": {
      "text/html": [
       "<div>\n",
       "<style scoped>\n",
       "    .dataframe tbody tr th:only-of-type {\n",
       "        vertical-align: middle;\n",
       "    }\n",
       "\n",
       "    .dataframe tbody tr th {\n",
       "        vertical-align: top;\n",
       "    }\n",
       "\n",
       "    .dataframe thead th {\n",
       "        text-align: right;\n",
       "    }\n",
       "</style>\n",
       "<table border=\"1\" class=\"dataframe\">\n",
       "  <thead>\n",
       "    <tr style=\"text-align: right;\">\n",
       "      <th></th>\n",
       "      <th>LP_LEBENSPHASE_FEIN</th>\n",
       "      <th>LP_LEBENSPHASE_GROB</th>\n",
       "      <th>PLZ8_BAUMAX</th>\n",
       "      <th>WOHNLAGE</th>\n",
       "    </tr>\n",
       "  </thead>\n",
       "  <tbody>\n",
       "    <tr>\n",
       "      <th>11</th>\n",
       "      <td>25.573043</td>\n",
       "      <td>7.76906</td>\n",
       "      <td>2.399469</td>\n",
       "      <td>3.342252</td>\n",
       "    </tr>\n",
       "  </tbody>\n",
       "</table>\n",
       "</div>"
      ],
      "text/plain": [
       "    LP_LEBENSPHASE_FEIN  LP_LEBENSPHASE_GROB  PLZ8_BAUMAX  WOHNLAGE\n",
       "11            25.573043              7.76906     2.399469  3.342252"
      ]
     },
     "execution_count": 254,
     "metadata": {},
     "output_type": "execute_result"
    }
   ],
   "source": [
    "df_centers.reindex([11])[mix_fea]"
   ]
  },
  {
   "cell_type": "markdown",
   "metadata": {},
   "source": [
    "### Discussion 3.3: Compare Customer Data to Demographics Data\n",
    "\n",
    "#### - these clusters are overrepresented in the customer data compared to the general population.\n",
    "\n",
    "- the cluster 0 is overrepresented in the customer data compared to the general population. Some characteristics about this cluster are that the cultural-minded is average affinity, low affinity for religion, family-minded is average, very low affinity for duty, very low traditional-minded, low materialistic, high socially-minded, very low critical-minded, very low combative attitude, high sensual-minded, average event-oriented. Size of community is 20,001 to  50,000 inhabitants. Density of households per square kilometer is 150 - 319 households per km^2. Distance to nearest urban center is 30 -  40 km. Distance to city center (downtown) is 10 - 20 km. These People are single top earners of higher age. etc\n",
    "\n",
    "- the cluster 1 is overrepresented in the customer data compared to the general population. Some characteristics about this cluster are that the cultural-minded is lowest affinity, very low affinity for religion, family-minded is lowest, very low affinity for duty, low traditional-minded, low materialistic, lowest socially-minded, very high critical-minded, very high combative attitude, high sensual-minded, very high event-oriented. Size of community is 20,001 to  50,000 inhabitants. Density of households per square kilometer is 150 - 319 households per km^2. Distance to nearest urban center is 30 -  40 km. Distance to city center (downtown) is 10 - 20 km. These People are low-income earners of younger age from multiperson households. etc\n",
    "\n",
    "\n",
    "- When adding the removed observations with large number of missing values and treating them as new cluster (15) for both general and customer data sets, this cluster is overrepresented in the customer data compared to the general population.\n",
    "\n",
    "#### - these clusters are underrepresented in the customer data compared to the general population.\n",
    "\n",
    "- the cluster 9 is overrepresented in the customer data compared to the general population. Some characteristics about this cluster are that the cultural-minded is very high affinity, very high affinity for religion, family-minded is very high, high affinity for duty, very high traditional-minded, high materialistic, high socially-minded, very low critical-minded, very low combative attitude, low sensual-minded, very low event-oriented. Size of community is 50,001 to 300,000 inhabitants. Density of households per square kilometer is 320 - 999 households per km^2. Distance to nearest urban center is 20 -  30 km. Distance to city center (downtown) is 5 - 10 km. These People are single low-income earners of advanced age. etc\n",
    "\n",
    "\n",
    "- the cluster 8 is overrepresented in the customer data compared to the general population. Some characteristics about this cluster are that the cultural-minded is very high affinity, very high affinity for religion, family-minded is very high, high affinity for duty, very high traditional-minded, very high materialistic, high socially-minded, very low critical-minded, very low combative attitude, low sensual-minded, very low event-oriented. Size of community is 20,001 to  50,000 inhabitants. Density of households per square kilometer is 150 - 319 households per km^2. Distance to nearest urban center is 30 -  40 km. Distance to city center (downtown) is 10 - 20 km. These People are average earner couples of higher age. etc\n",
    "\n",
    "\n",
    "- the cluster 10 is overrepresented in the customer data compared to the general population. Some characteristics about this cluster are that the cultural-minded is high affinity, high affinity for religion, family-minded is high, high affinity for duty, very high traditional-minded, high materialistic, average socially-minded, low critical-minded, average combative attitude, low sensual-minded, low event-oriented. Size of community is 5,001 to  10,000 inhabitants. Density of households per square kilometer is 34 -  89 households per km^2. Distance to nearest urban center is 40 -  100 km. Distance to city center (downtown) is 20 - 30 km. These People are single independent persons. etc\n",
    "\n",
    "- the cluster 11 is overrepresented in the customer data compared to the general population. Some characteristics about this cluster are that the cultural-minded is average affinity, low affinity for religion, family-minded is average, very low affinity for duty, very low traditional-minded, low materialistic, high socially-minded, low critical-minded, very low combative attitude, high sensual-minded, average event-oriented. Size of community is 50,001 to 300,000 inhabitants. Density of households per square kilometer is 320 - 999 households per km^2. Distance to nearest urban center is 20 -  30 km. Distance to city center (downtown) is 5 - 10 km. These People are independent families. etc\n"
   ]
  },
  {
   "cell_type": "markdown",
   "metadata": {},
   "source": [
    "> Congratulations on making it this far in the project! Before you finish, make sure to check through the entire notebook from top to bottom to make sure that your analysis follows a logical flow and all of your findings are documented in **Discussion** cells. Once you've checked over all of your work, you should export the notebook as an HTML document to submit for evaluation. You can do this from the menu, navigating to **File -> Download as -> HTML (.html)**. You will submit both that document and this notebook for your project submission."
   ]
  },
  {
   "cell_type": "code",
   "execution_count": null,
   "metadata": {},
   "outputs": [],
   "source": []
  }
 ],
 "metadata": {
  "kernelspec": {
   "display_name": "Python 3",
   "language": "python",
   "name": "python3"
  },
  "language_info": {
   "codemirror_mode": {
    "name": "ipython",
    "version": 3
   },
   "file_extension": ".py",
   "mimetype": "text/x-python",
   "name": "python",
   "nbconvert_exporter": "python",
   "pygments_lexer": "ipython3",
   "version": "3.6.3"
  }
 },
 "nbformat": 4,
 "nbformat_minor": 2
}
